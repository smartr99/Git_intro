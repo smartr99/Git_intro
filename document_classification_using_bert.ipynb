{
  "metadata": {
    "kernelspec": {
      "language": "python",
      "display_name": "Python 3",
      "name": "python3"
    },
    "language_info": {
      "name": "python",
      "version": "3.7.6",
      "mimetype": "text/x-python",
      "codemirror_mode": {
        "name": "ipython",
        "version": 3
      },
      "pygments_lexer": "ipython3",
      "nbconvert_exporter": "python",
      "file_extension": ".py"
    },
    "colab": {
      "name": "document-classification-using-bert.ipynb",
      "provenance": [],
      "include_colab_link": true
    }
  },
  "nbformat_minor": 0,
  "nbformat": 4,
  "cells": [
    {
      "cell_type": "markdown",
      "metadata": {
        "id": "view-in-github",
        "colab_type": "text"
      },
      "source": [
        "<a href=\"https://colab.research.google.com/github/smartr99/Git_intro/blob/master/document_classification_using_bert.ipynb\" target=\"_parent\"><img src=\"https://colab.research.google.com/assets/colab-badge.svg\" alt=\"Open In Colab\"/></a>"
      ]
    },
    {
      "cell_type": "code",
      "source": [
        "!pip uninstall tensorflow -y \n",
        "!pip install tensorflow==1.15"
      ],
      "metadata": {
        "execution": {
          "iopub.status.busy": "2021-05-21T18:04:03.639334Z",
          "iopub.execute_input": "2021-05-21T18:04:03.639772Z",
          "iopub.status.idle": "2021-05-21T18:05:28.198705Z",
          "shell.execute_reply.started": "2021-05-21T18:04:03.639731Z",
          "shell.execute_reply": "2021-05-21T18:05:28.183810Z"
        },
        "trusted": true,
        "colab": {
          "base_uri": "https://localhost:8080/"
        },
        "id": "PJ82Fj7JvdC2",
        "outputId": "5ca0c6d7-2d1d-4ae3-aed3-0c24e0ed72bf"
      },
      "execution_count": null,
      "outputs": [
        {
          "output_type": "stream",
          "name": "stdout",
          "text": [
            "Found existing installation: tensorflow 2.7.0\n",
            "Uninstalling tensorflow-2.7.0:\n",
            "  Successfully uninstalled tensorflow-2.7.0\n",
            "Collecting tensorflow==1.15\n",
            "  Downloading tensorflow-1.15.0-cp37-cp37m-manylinux2010_x86_64.whl (412.3 MB)\n",
            "\u001b[K     |████████████████████████████████| 412.3 MB 25 kB/s \n",
            "\u001b[?25hRequirement already satisfied: google-pasta>=0.1.6 in /usr/local/lib/python3.7/dist-packages (from tensorflow==1.15) (0.2.0)\n",
            "Requirement already satisfied: keras-preprocessing>=1.0.5 in /usr/local/lib/python3.7/dist-packages (from tensorflow==1.15) (1.1.2)\n",
            "Requirement already satisfied: termcolor>=1.1.0 in /usr/local/lib/python3.7/dist-packages (from tensorflow==1.15) (1.1.0)\n",
            "Requirement already satisfied: wrapt>=1.11.1 in /usr/local/lib/python3.7/dist-packages (from tensorflow==1.15) (1.13.3)\n",
            "Requirement already satisfied: six>=1.10.0 in /usr/local/lib/python3.7/dist-packages (from tensorflow==1.15) (1.15.0)\n",
            "Requirement already satisfied: opt-einsum>=2.3.2 in /usr/local/lib/python3.7/dist-packages (from tensorflow==1.15) (3.3.0)\n",
            "Requirement already satisfied: wheel>=0.26 in /usr/local/lib/python3.7/dist-packages (from tensorflow==1.15) (0.37.1)\n",
            "Requirement already satisfied: numpy<2.0,>=1.16.0 in /usr/local/lib/python3.7/dist-packages (from tensorflow==1.15) (1.19.5)\n",
            "Requirement already satisfied: absl-py>=0.7.0 in /usr/local/lib/python3.7/dist-packages (from tensorflow==1.15) (0.12.0)\n",
            "Collecting keras-applications>=1.0.8\n",
            "  Downloading Keras_Applications-1.0.8-py3-none-any.whl (50 kB)\n",
            "\u001b[K     |████████████████████████████████| 50 kB 8.4 MB/s \n",
            "\u001b[?25hRequirement already satisfied: grpcio>=1.8.6 in /usr/local/lib/python3.7/dist-packages (from tensorflow==1.15) (1.43.0)\n",
            "Requirement already satisfied: astor>=0.6.0 in /usr/local/lib/python3.7/dist-packages (from tensorflow==1.15) (0.8.1)\n",
            "Collecting gast==0.2.2\n",
            "  Downloading gast-0.2.2.tar.gz (10 kB)\n",
            "Collecting tensorflow-estimator==1.15.1\n",
            "  Downloading tensorflow_estimator-1.15.1-py2.py3-none-any.whl (503 kB)\n",
            "\u001b[K     |████████████████████████████████| 503 kB 55.1 MB/s \n",
            "\u001b[?25hCollecting tensorboard<1.16.0,>=1.15.0\n",
            "  Downloading tensorboard-1.15.0-py3-none-any.whl (3.8 MB)\n",
            "\u001b[K     |████████████████████████████████| 3.8 MB 33.1 MB/s \n",
            "\u001b[?25hRequirement already satisfied: protobuf>=3.6.1 in /usr/local/lib/python3.7/dist-packages (from tensorflow==1.15) (3.17.3)\n",
            "Requirement already satisfied: h5py in /usr/local/lib/python3.7/dist-packages (from keras-applications>=1.0.8->tensorflow==1.15) (3.1.0)\n",
            "Requirement already satisfied: markdown>=2.6.8 in /usr/local/lib/python3.7/dist-packages (from tensorboard<1.16.0,>=1.15.0->tensorflow==1.15) (3.3.6)\n",
            "Requirement already satisfied: setuptools>=41.0.0 in /usr/local/lib/python3.7/dist-packages (from tensorboard<1.16.0,>=1.15.0->tensorflow==1.15) (57.4.0)\n",
            "Requirement already satisfied: werkzeug>=0.11.15 in /usr/local/lib/python3.7/dist-packages (from tensorboard<1.16.0,>=1.15.0->tensorflow==1.15) (1.0.1)\n",
            "Requirement already satisfied: importlib-metadata>=4.4 in /usr/local/lib/python3.7/dist-packages (from markdown>=2.6.8->tensorboard<1.16.0,>=1.15.0->tensorflow==1.15) (4.10.0)\n",
            "Requirement already satisfied: typing-extensions>=3.6.4 in /usr/local/lib/python3.7/dist-packages (from importlib-metadata>=4.4->markdown>=2.6.8->tensorboard<1.16.0,>=1.15.0->tensorflow==1.15) (3.10.0.2)\n",
            "Requirement already satisfied: zipp>=0.5 in /usr/local/lib/python3.7/dist-packages (from importlib-metadata>=4.4->markdown>=2.6.8->tensorboard<1.16.0,>=1.15.0->tensorflow==1.15) (3.7.0)\n",
            "Requirement already satisfied: cached-property in /usr/local/lib/python3.7/dist-packages (from h5py->keras-applications>=1.0.8->tensorflow==1.15) (1.5.2)\n",
            "Building wheels for collected packages: gast\n",
            "  Building wheel for gast (setup.py) ... \u001b[?25l\u001b[?25hdone\n",
            "  Created wheel for gast: filename=gast-0.2.2-py3-none-any.whl size=7554 sha256=b92e1b1e20c83302a44356fffa3dec977866fcc5e2e0363a6ce97712e72f4f3c\n",
            "  Stored in directory: /root/.cache/pip/wheels/21/7f/02/420f32a803f7d0967b48dd823da3f558c5166991bfd204eef3\n",
            "Successfully built gast\n",
            "Installing collected packages: tensorflow-estimator, tensorboard, keras-applications, gast, tensorflow\n",
            "  Attempting uninstall: tensorflow-estimator\n",
            "    Found existing installation: tensorflow-estimator 2.7.0\n",
            "    Uninstalling tensorflow-estimator-2.7.0:\n",
            "      Successfully uninstalled tensorflow-estimator-2.7.0\n",
            "  Attempting uninstall: tensorboard\n",
            "    Found existing installation: tensorboard 2.7.0\n",
            "    Uninstalling tensorboard-2.7.0:\n",
            "      Successfully uninstalled tensorboard-2.7.0\n",
            "  Attempting uninstall: gast\n",
            "    Found existing installation: gast 0.4.0\n",
            "    Uninstalling gast-0.4.0:\n",
            "      Successfully uninstalled gast-0.4.0\n",
            "\u001b[31mERROR: pip's dependency resolver does not currently take into account all the packages that are installed. This behaviour is the source of the following dependency conflicts.\n",
            "tensorflow-probability 0.15.0 requires gast>=0.3.2, but you have gast 0.2.2 which is incompatible.\n",
            "kapre 0.3.6 requires tensorflow>=2.0.0, but you have tensorflow 1.15.0 which is incompatible.\u001b[0m\n",
            "Successfully installed gast-0.2.2 keras-applications-1.0.8 tensorboard-1.15.0 tensorflow-1.15.0 tensorflow-estimator-1.15.1\n"
          ]
        }
      ]
    },
    {
      "cell_type": "markdown",
      "source": [
        "Getting bert functions"
      ],
      "metadata": {
        "id": "rFQOLyRMvdC4"
      }
    },
    {
      "cell_type": "code",
      "source": [
        "!wget https://raw.githubusercontent.com/google-research/bert/master/modeling.py \n",
        "!wget https://raw.githubusercontent.com/google-research/bert/master/optimization.py\n",
        "!wget https://raw.githubusercontent.com/google-research/bert/master/run_classifier.py\n",
        "!wget https://raw.githubusercontent.com/google-research/bert/master/tokenization.py"
      ],
      "metadata": {
        "execution": {
          "iopub.status.busy": "2021-05-21T18:05:28.206528Z",
          "iopub.execute_input": "2021-05-21T18:05:28.206975Z",
          "iopub.status.idle": "2021-05-21T18:05:43.494687Z",
          "shell.execute_reply.started": "2021-05-21T18:05:28.206940Z",
          "shell.execute_reply": "2021-05-21T18:05:43.493841Z"
        },
        "trusted": true,
        "colab": {
          "base_uri": "https://localhost:8080/"
        },
        "id": "8KDJ2lhEvdC5",
        "outputId": "f35f6e0f-e9bc-468e-b7ca-1b60092ddcb3"
      },
      "execution_count": null,
      "outputs": [
        {
          "output_type": "stream",
          "name": "stdout",
          "text": [
            "--2022-01-25 15:00:31--  https://raw.githubusercontent.com/google-research/bert/master/modeling.py\n",
            "Resolving raw.githubusercontent.com (raw.githubusercontent.com)... 185.199.108.133, 185.199.109.133, 185.199.110.133, ...\n",
            "Connecting to raw.githubusercontent.com (raw.githubusercontent.com)|185.199.108.133|:443... connected.\n",
            "HTTP request sent, awaiting response... 200 OK\n",
            "Length: 37922 (37K) [text/plain]\n",
            "Saving to: ‘modeling.py’\n",
            "\n",
            "modeling.py         100%[===================>]  37.03K  --.-KB/s    in 0.002s  \n",
            "\n",
            "2022-01-25 15:00:32 (18.0 MB/s) - ‘modeling.py’ saved [37922/37922]\n",
            "\n",
            "--2022-01-25 15:00:32--  https://raw.githubusercontent.com/google-research/bert/master/optimization.py\n",
            "Resolving raw.githubusercontent.com (raw.githubusercontent.com)... 185.199.108.133, 185.199.109.133, 185.199.110.133, ...\n",
            "Connecting to raw.githubusercontent.com (raw.githubusercontent.com)|185.199.108.133|:443... connected.\n",
            "HTTP request sent, awaiting response... 200 OK\n",
            "Length: 6258 (6.1K) [text/plain]\n",
            "Saving to: ‘optimization.py’\n",
            "\n",
            "optimization.py     100%[===================>]   6.11K  --.-KB/s    in 0s      \n",
            "\n",
            "2022-01-25 15:00:32 (66.8 MB/s) - ‘optimization.py’ saved [6258/6258]\n",
            "\n",
            "--2022-01-25 15:00:32--  https://raw.githubusercontent.com/google-research/bert/master/run_classifier.py\n",
            "Resolving raw.githubusercontent.com (raw.githubusercontent.com)... 185.199.108.133, 185.199.109.133, 185.199.110.133, ...\n",
            "Connecting to raw.githubusercontent.com (raw.githubusercontent.com)|185.199.108.133|:443... connected.\n",
            "HTTP request sent, awaiting response... 200 OK\n",
            "Length: 34783 (34K) [text/plain]\n",
            "Saving to: ‘run_classifier.py’\n",
            "\n",
            "run_classifier.py   100%[===================>]  33.97K  --.-KB/s    in 0.002s  \n",
            "\n",
            "2022-01-25 15:00:32 (16.0 MB/s) - ‘run_classifier.py’ saved [34783/34783]\n",
            "\n",
            "--2022-01-25 15:00:32--  https://raw.githubusercontent.com/google-research/bert/master/tokenization.py\n",
            "Resolving raw.githubusercontent.com (raw.githubusercontent.com)... 185.199.108.133, 185.199.109.133, 185.199.110.133, ...\n",
            "Connecting to raw.githubusercontent.com (raw.githubusercontent.com)|185.199.108.133|:443... connected.\n",
            "HTTP request sent, awaiting response... 200 OK\n",
            "Length: 12257 (12K) [text/plain]\n",
            "Saving to: ‘tokenization.py’\n",
            "\n",
            "tokenization.py     100%[===================>]  11.97K  --.-KB/s    in 0s      \n",
            "\n",
            "2022-01-25 15:00:33 (59.5 MB/s) - ‘tokenization.py’ saved [12257/12257]\n",
            "\n"
          ]
        }
      ]
    },
    {
      "cell_type": "markdown",
      "source": [
        "### Import necessary libraries"
      ],
      "metadata": {
        "id": "606627ZGvdC5"
      }
    },
    {
      "cell_type": "code",
      "source": [
        "import numpy as np # linear algebra\n",
        "import re, os\n",
        "import pandas as pd # data processing, CSV file I/O (e.g. pd.read_csv)\n",
        "from sklearn.preprocessing import LabelEncoder\n",
        "from nltk.corpus import stopwords\n",
        "from sklearn.model_selection import train_test_split\n",
        "import tensorflow as tf\n",
        "\n",
        "import datetime\n",
        "from datetime import datetime\n",
        "\n",
        "# BERT\n",
        "import optimization\n",
        "import run_classifier\n",
        "import tokenization\n",
        "import tensorflow_hub as hub"
      ],
      "metadata": {
        "execution": {
          "iopub.status.busy": "2021-05-21T18:05:43.498912Z",
          "iopub.execute_input": "2021-05-21T18:05:43.499204Z",
          "iopub.status.idle": "2021-05-21T18:05:46.711916Z",
          "shell.execute_reply.started": "2021-05-21T18:05:43.499162Z",
          "shell.execute_reply": "2021-05-21T18:05:46.711207Z"
        },
        "trusted": true,
        "colab": {
          "base_uri": "https://localhost:8080/"
        },
        "id": "iMIzOeUAvdC6",
        "outputId": "c928a485-e157-43f2-b563-4ac1a2c0967f"
      },
      "execution_count": null,
      "outputs": [
        {
          "output_type": "stream",
          "name": "stdout",
          "text": [
            "WARNING:tensorflow:From /content/optimization.py:87: The name tf.train.Optimizer is deprecated. Please use tf.compat.v1.train.Optimizer instead.\n",
            "\n"
          ]
        }
      ]
    },
    {
      "cell_type": "code",
      "source": [
        "from google.colab import drive\n",
        "drive.mount('/content/drive')"
      ],
      "metadata": {
        "colab": {
          "base_uri": "https://localhost:8080/"
        },
        "id": "PvteoJoFwUyi",
        "outputId": "62ad685c-f8d8-4505-e576-d436a509641c"
      },
      "execution_count": null,
      "outputs": [
        {
          "output_type": "stream",
          "name": "stdout",
          "text": [
            "Mounted at /content/drive\n"
          ]
        }
      ]
    },
    {
      "cell_type": "code",
      "source": [
        "# Checking tensorflow version (should be 1.15)\n",
        "tf.__version__"
      ],
      "metadata": {
        "execution": {
          "iopub.status.busy": "2021-05-21T18:05:46.716528Z",
          "iopub.execute_input": "2021-05-21T18:05:46.716786Z",
          "iopub.status.idle": "2021-05-21T18:05:46.730105Z",
          "shell.execute_reply.started": "2021-05-21T18:05:46.716759Z",
          "shell.execute_reply": "2021-05-21T18:05:46.728397Z"
        },
        "trusted": true,
        "colab": {
          "base_uri": "https://localhost:8080/",
          "height": 35
        },
        "id": "g-Ir2pbOvdC6",
        "outputId": "2f63b92b-bf3e-48e3-e11e-76b4c3c0135c"
      },
      "execution_count": null,
      "outputs": [
        {
          "output_type": "execute_result",
          "data": {
            "application/vnd.google.colaboratory.intrinsic+json": {
              "type": "string"
            },
            "text/plain": [
              "'1.15.0'"
            ]
          },
          "metadata": {},
          "execution_count": 7
        }
      ]
    },
    {
      "cell_type": "markdown",
      "source": [
        "### Read the training dataset"
      ],
      "metadata": {
        "id": "2gJL8wigvdC6"
      }
    },
    {
      "cell_type": "code",
      "source": [
        "# Get the file details\n",
        "directory = []\n",
        "file = []\n",
        "title = []\n",
        "text = []\n",
        "label = []\n",
        "datapath = '/content/drive/MyDrive/datasets/document/' \n",
        "for dirname, _ , filenames in os.walk(datapath):\n",
        "    #print('Directory: ', dirname)\n",
        "    #print('Subdir: ', dirname.split('/')[-1])\n",
        "    # remove the Readme.txt file\n",
        "    # will not find file in the second iteration so we skip the error\n",
        "    try:\n",
        "        filenames.remove('README.TXT')\n",
        "    except:\n",
        "        pass\n",
        "    for filename in filenames:\n",
        "        directory.append(dirname)\n",
        "        file.append(filename)\n",
        "        label.append(dirname.split('/')[-1])\n",
        "        fullpathfile = os.path.join(dirname,filename)\n",
        "        with open(fullpathfile, 'r', encoding=\"utf8\", errors='ignore') as infile:\n",
        "            intext = ''\n",
        "            firstline = True\n",
        "            for line in infile:\n",
        "                if firstline:\n",
        "                    title.append(line.replace('\\n',''))\n",
        "                    firstline = False\n",
        "                else:\n",
        "                    intext = intext + ' ' + line.replace('\\n','')\n",
        "            text.append(intext)\n"
      ],
      "metadata": {
        "execution": {
          "iopub.status.busy": "2021-05-21T18:05:46.733765Z",
          "iopub.execute_input": "2021-05-21T18:05:46.734141Z",
          "iopub.status.idle": "2021-05-21T18:05:53.369805Z",
          "shell.execute_reply.started": "2021-05-21T18:05:46.734095Z",
          "shell.execute_reply": "2021-05-21T18:05:53.369030Z"
        },
        "trusted": true,
        "id": "dy_zEwiQvdC7"
      },
      "execution_count": null,
      "outputs": []
    },
    {
      "cell_type": "markdown",
      "source": [
        "### Get the data as dataframe"
      ],
      "metadata": {
        "id": "mnvOtZWUvdC7"
      }
    },
    {
      "cell_type": "code",
      "source": [
        "DATA_COLUMN = 'text'\n",
        "LABEL_COLUMN = 'label'\n",
        "\n",
        "fulldf = pd.DataFrame(list(zip(directory, file, title, text, label)), \n",
        "               columns =['directory', 'file', 'title', 'text', 'label'])\n",
        "\n",
        "df = fulldf.filter(['text','label'], axis=1)\n",
        "df.head()"
      ],
      "metadata": {
        "_uuid": "d629ff2d2480ee46fbb7e2d37f6b5fab8052498a",
        "_cell_guid": "79c7e3d0-c299-4dcb-8224-4455121ee9b0",
        "execution": {
          "iopub.status.busy": "2021-05-21T18:05:53.371206Z",
          "iopub.execute_input": "2021-05-21T18:05:53.371532Z",
          "iopub.status.idle": "2021-05-21T18:05:53.401232Z",
          "shell.execute_reply.started": "2021-05-21T18:05:53.371497Z",
          "shell.execute_reply": "2021-05-21T18:05:53.400309Z"
        },
        "trusted": true,
        "colab": {
          "base_uri": "https://localhost:8080/",
          "height": 206
        },
        "id": "2tMJ_6PrvdC7",
        "outputId": "8a88c66a-6d78-4d94-eb2e-14858a2cc4e7"
      },
      "execution_count": null,
      "outputs": [
        {
          "output_type": "execute_result",
          "data": {
            "text/html": [
              "\n",
              "  <div id=\"df-5fcfb459-c9dd-4cc3-ac0c-51e57c747201\">\n",
              "    <div class=\"colab-df-container\">\n",
              "      <div>\n",
              "<style scoped>\n",
              "    .dataframe tbody tr th:only-of-type {\n",
              "        vertical-align: middle;\n",
              "    }\n",
              "\n",
              "    .dataframe tbody tr th {\n",
              "        vertical-align: top;\n",
              "    }\n",
              "\n",
              "    .dataframe thead th {\n",
              "        text-align: right;\n",
              "    }\n",
              "</style>\n",
              "<table border=\"1\" class=\"dataframe\">\n",
              "  <thead>\n",
              "    <tr style=\"text-align: right;\">\n",
              "      <th></th>\n",
              "      <th>text</th>\n",
              "      <th>label</th>\n",
              "    </tr>\n",
              "  </thead>\n",
              "  <tbody>\n",
              "    <tr>\n",
              "      <th>0</th>\n",
              "      <td>International films will be given the same p...</td>\n",
              "      <td>entertainment</td>\n",
              "    </tr>\n",
              "    <tr>\n",
              "      <th>1</th>\n",
              "      <td>A TV station in the US has refused to show a...</td>\n",
              "      <td>entertainment</td>\n",
              "    </tr>\n",
              "    <tr>\n",
              "      <th>2</th>\n",
              "      <td>The sixth and final Star Wars movie may not ...</td>\n",
              "      <td>entertainment</td>\n",
              "    </tr>\n",
              "    <tr>\n",
              "      <th>3</th>\n",
              "      <td>MTV has been criticised for \"incessant sleaz...</td>\n",
              "      <td>entertainment</td>\n",
              "    </tr>\n",
              "    <tr>\n",
              "      <th>4</th>\n",
              "      <td>Plans to create a US soap based on the BBC's...</td>\n",
              "      <td>entertainment</td>\n",
              "    </tr>\n",
              "  </tbody>\n",
              "</table>\n",
              "</div>\n",
              "      <button class=\"colab-df-convert\" onclick=\"convertToInteractive('df-5fcfb459-c9dd-4cc3-ac0c-51e57c747201')\"\n",
              "              title=\"Convert this dataframe to an interactive table.\"\n",
              "              style=\"display:none;\">\n",
              "        \n",
              "  <svg xmlns=\"http://www.w3.org/2000/svg\" height=\"24px\"viewBox=\"0 0 24 24\"\n",
              "       width=\"24px\">\n",
              "    <path d=\"M0 0h24v24H0V0z\" fill=\"none\"/>\n",
              "    <path d=\"M18.56 5.44l.94 2.06.94-2.06 2.06-.94-2.06-.94-.94-2.06-.94 2.06-2.06.94zm-11 1L8.5 8.5l.94-2.06 2.06-.94-2.06-.94L8.5 2.5l-.94 2.06-2.06.94zm10 10l.94 2.06.94-2.06 2.06-.94-2.06-.94-.94-2.06-.94 2.06-2.06.94z\"/><path d=\"M17.41 7.96l-1.37-1.37c-.4-.4-.92-.59-1.43-.59-.52 0-1.04.2-1.43.59L10.3 9.45l-7.72 7.72c-.78.78-.78 2.05 0 2.83L4 21.41c.39.39.9.59 1.41.59.51 0 1.02-.2 1.41-.59l7.78-7.78 2.81-2.81c.8-.78.8-2.07 0-2.86zM5.41 20L4 18.59l7.72-7.72 1.47 1.35L5.41 20z\"/>\n",
              "  </svg>\n",
              "      </button>\n",
              "      \n",
              "  <style>\n",
              "    .colab-df-container {\n",
              "      display:flex;\n",
              "      flex-wrap:wrap;\n",
              "      gap: 12px;\n",
              "    }\n",
              "\n",
              "    .colab-df-convert {\n",
              "      background-color: #E8F0FE;\n",
              "      border: none;\n",
              "      border-radius: 50%;\n",
              "      cursor: pointer;\n",
              "      display: none;\n",
              "      fill: #1967D2;\n",
              "      height: 32px;\n",
              "      padding: 0 0 0 0;\n",
              "      width: 32px;\n",
              "    }\n",
              "\n",
              "    .colab-df-convert:hover {\n",
              "      background-color: #E2EBFA;\n",
              "      box-shadow: 0px 1px 2px rgba(60, 64, 67, 0.3), 0px 1px 3px 1px rgba(60, 64, 67, 0.15);\n",
              "      fill: #174EA6;\n",
              "    }\n",
              "\n",
              "    [theme=dark] .colab-df-convert {\n",
              "      background-color: #3B4455;\n",
              "      fill: #D2E3FC;\n",
              "    }\n",
              "\n",
              "    [theme=dark] .colab-df-convert:hover {\n",
              "      background-color: #434B5C;\n",
              "      box-shadow: 0px 1px 3px 1px rgba(0, 0, 0, 0.15);\n",
              "      filter: drop-shadow(0px 1px 2px rgba(0, 0, 0, 0.3));\n",
              "      fill: #FFFFFF;\n",
              "    }\n",
              "  </style>\n",
              "\n",
              "      <script>\n",
              "        const buttonEl =\n",
              "          document.querySelector('#df-5fcfb459-c9dd-4cc3-ac0c-51e57c747201 button.colab-df-convert');\n",
              "        buttonEl.style.display =\n",
              "          google.colab.kernel.accessAllowed ? 'block' : 'none';\n",
              "\n",
              "        async function convertToInteractive(key) {\n",
              "          const element = document.querySelector('#df-5fcfb459-c9dd-4cc3-ac0c-51e57c747201');\n",
              "          const dataTable =\n",
              "            await google.colab.kernel.invokeFunction('convertToInteractive',\n",
              "                                                     [key], {});\n",
              "          if (!dataTable) return;\n",
              "\n",
              "          const docLinkHtml = 'Like what you see? Visit the ' +\n",
              "            '<a target=\"_blank\" href=https://colab.research.google.com/notebooks/data_table.ipynb>data table notebook</a>'\n",
              "            + ' to learn more about interactive tables.';\n",
              "          element.innerHTML = '';\n",
              "          dataTable['output_type'] = 'display_data';\n",
              "          await google.colab.output.renderOutput(dataTable, element);\n",
              "          const docLink = document.createElement('div');\n",
              "          docLink.innerHTML = docLinkHtml;\n",
              "          element.appendChild(docLink);\n",
              "        }\n",
              "      </script>\n",
              "    </div>\n",
              "  </div>\n",
              "  "
            ],
            "text/plain": [
              "                                                text          label\n",
              "0    International films will be given the same p...  entertainment\n",
              "1    A TV station in the US has refused to show a...  entertainment\n",
              "2    The sixth and final Star Wars movie may not ...  entertainment\n",
              "3    MTV has been criticised for \"incessant sleaz...  entertainment\n",
              "4    Plans to create a US soap based on the BBC's...  entertainment"
            ]
          },
          "metadata": {},
          "execution_count": 11
        }
      ]
    },
    {
      "cell_type": "markdown",
      "source": [
        "Checking the shape of the dataframe"
      ],
      "metadata": {
        "id": "asEuIEiivdC8"
      }
    },
    {
      "cell_type": "code",
      "source": [
        "df.shape"
      ],
      "metadata": {
        "execution": {
          "iopub.status.busy": "2021-05-21T18:05:53.402523Z",
          "iopub.execute_input": "2021-05-21T18:05:53.402931Z",
          "iopub.status.idle": "2021-05-21T18:05:53.408731Z",
          "shell.execute_reply.started": "2021-05-21T18:05:53.402888Z",
          "shell.execute_reply": "2021-05-21T18:05:53.407848Z"
        },
        "trusted": true,
        "colab": {
          "base_uri": "https://localhost:8080/"
        },
        "id": "T2A6qkS9vdC8",
        "outputId": "8533aacc-594e-4629-b53a-12d1c36ed7bc"
      },
      "execution_count": null,
      "outputs": [
        {
          "output_type": "execute_result",
          "data": {
            "text/plain": [
              "(500, 2)"
            ]
          },
          "metadata": {},
          "execution_count": 12
        }
      ]
    },
    {
      "cell_type": "markdown",
      "source": [
        "Checking if null values exist"
      ],
      "metadata": {
        "id": "AD12C8xBvdC9"
      }
    },
    {
      "cell_type": "code",
      "source": [
        "df.isnull().sum()"
      ],
      "metadata": {
        "execution": {
          "iopub.status.busy": "2021-05-21T18:05:53.410504Z",
          "iopub.execute_input": "2021-05-21T18:05:53.411207Z",
          "iopub.status.idle": "2021-05-21T18:05:53.421731Z",
          "shell.execute_reply.started": "2021-05-21T18:05:53.411155Z",
          "shell.execute_reply": "2021-05-21T18:05:53.420632Z"
        },
        "trusted": true,
        "colab": {
          "base_uri": "https://localhost:8080/"
        },
        "id": "jAFJVtBNvdC9",
        "outputId": "7dc00585-f637-4a76-ef88-6f3db697c027"
      },
      "execution_count": null,
      "outputs": [
        {
          "output_type": "execute_result",
          "data": {
            "text/plain": [
              "text     0\n",
              "label    0\n",
              "dtype: int64"
            ]
          },
          "metadata": {},
          "execution_count": 13
        }
      ]
    },
    {
      "cell_type": "markdown",
      "source": [
        "Get unique labels"
      ],
      "metadata": {
        "id": "aBj7D98yvdC9"
      }
    },
    {
      "cell_type": "code",
      "source": [
        "for label in np.unique(df['label']):\n",
        "    print(label)"
      ],
      "metadata": {
        "execution": {
          "iopub.status.busy": "2021-05-21T18:05:53.423344Z",
          "iopub.execute_input": "2021-05-21T18:05:53.424030Z",
          "iopub.status.idle": "2021-05-21T18:05:53.435483Z",
          "shell.execute_reply.started": "2021-05-21T18:05:53.423991Z",
          "shell.execute_reply": "2021-05-21T18:05:53.434363Z"
        },
        "trusted": true,
        "colab": {
          "base_uri": "https://localhost:8080/"
        },
        "id": "5RtEMddtvdC-",
        "outputId": "86ee47b6-9a28-4562-c738-7e64585b70c9"
      },
      "execution_count": null,
      "outputs": [
        {
          "output_type": "stream",
          "name": "stdout",
          "text": [
            "business\n",
            "entertainment\n",
            "politics\n",
            "sport\n",
            "technologie\n"
          ]
        }
      ]
    },
    {
      "cell_type": "code",
      "source": [
        "# Checking number of records of each label\n",
        "df['label'].value_counts().sort_values(ascending=False).plot(kind='bar')"
      ],
      "metadata": {
        "execution": {
          "iopub.status.busy": "2021-05-21T18:05:53.436771Z",
          "iopub.execute_input": "2021-05-21T18:05:53.437463Z",
          "iopub.status.idle": "2021-05-21T18:05:53.723251Z",
          "shell.execute_reply.started": "2021-05-21T18:05:53.437426Z",
          "shell.execute_reply": "2021-05-21T18:05:53.720607Z"
        },
        "trusted": true,
        "colab": {
          "base_uri": "https://localhost:8080/",
          "height": 344
        },
        "id": "G5qtejREvdC-",
        "outputId": "fbcdea77-da11-47be-a615-6d7334bfbf93"
      },
      "execution_count": null,
      "outputs": [
        {
          "output_type": "execute_result",
          "data": {
            "text/plain": [
              "<matplotlib.axes._subplots.AxesSubplot at 0x7fb9d7619a90>"
            ]
          },
          "metadata": {},
          "execution_count": 15
        },
        {
          "output_type": "display_data",
          "data": {
            "image/png": "[encoded data removed]",
            "text/plain": [
              "<Figure size 432x288 with 1 Axes>"
            ]
          },
          "metadata": {
            "needs_background": "light"
          }
        }
      ]
    },
    {
      "cell_type": "markdown",
      "source": [
        "### Encode the labels into numeric"
      ],
      "metadata": {
        "id": "6CJnnxRcvdC-"
      }
    },
    {
      "cell_type": "code",
      "source": [
        "le = LabelEncoder()\n",
        "df['label'] = le.fit_transform(df['label'])\n",
        "df.head()"
      ],
      "metadata": {
        "execution": {
          "iopub.status.busy": "2021-05-21T18:05:53.727394Z",
          "iopub.execute_input": "2021-05-21T18:05:53.728997Z",
          "iopub.status.idle": "2021-05-21T18:05:53.752767Z",
          "shell.execute_reply.started": "2021-05-21T18:05:53.728951Z",
          "shell.execute_reply": "2021-05-21T18:05:53.751780Z"
        },
        "trusted": true,
        "colab": {
          "base_uri": "https://localhost:8080/",
          "height": 206
        },
        "id": "pHCoTshzvdC-",
        "outputId": "e57abc21-aa39-4664-ef7e-d2d9db66d0bb"
      },
      "execution_count": null,
      "outputs": [
        {
          "output_type": "execute_result",
          "data": {
            "text/html": [
              "\n",
              "  <div id=\"df-423ed48b-7179-4045-a795-a2781aafa346\">\n",
              "    <div class=\"colab-df-container\">\n",
              "      <div>\n",
              "<style scoped>\n",
              "    .dataframe tbody tr th:only-of-type {\n",
              "        vertical-align: middle;\n",
              "    }\n",
              "\n",
              "    .dataframe tbody tr th {\n",
              "        vertical-align: top;\n",
              "    }\n",
              "\n",
              "    .dataframe thead th {\n",
              "        text-align: right;\n",
              "    }\n",
              "</style>\n",
              "<table border=\"1\" class=\"dataframe\">\n",
              "  <thead>\n",
              "    <tr style=\"text-align: right;\">\n",
              "      <th></th>\n",
              "      <th>text</th>\n",
              "      <th>label</th>\n",
              "    </tr>\n",
              "  </thead>\n",
              "  <tbody>\n",
              "    <tr>\n",
              "      <th>0</th>\n",
              "      <td>International films will be given the same p...</td>\n",
              "      <td>1</td>\n",
              "    </tr>\n",
              "    <tr>\n",
              "      <th>1</th>\n",
              "      <td>A TV station in the US has refused to show a...</td>\n",
              "      <td>1</td>\n",
              "    </tr>\n",
              "    <tr>\n",
              "      <th>2</th>\n",
              "      <td>The sixth and final Star Wars movie may not ...</td>\n",
              "      <td>1</td>\n",
              "    </tr>\n",
              "    <tr>\n",
              "      <th>3</th>\n",
              "      <td>MTV has been criticised for \"incessant sleaz...</td>\n",
              "      <td>1</td>\n",
              "    </tr>\n",
              "    <tr>\n",
              "      <th>4</th>\n",
              "      <td>Plans to create a US soap based on the BBC's...</td>\n",
              "      <td>1</td>\n",
              "    </tr>\n",
              "  </tbody>\n",
              "</table>\n",
              "</div>\n",
              "      <button class=\"colab-df-convert\" onclick=\"convertToInteractive('df-423ed48b-7179-4045-a795-a2781aafa346')\"\n",
              "              title=\"Convert this dataframe to an interactive table.\"\n",
              "              style=\"display:none;\">\n",
              "        \n",
              "  <svg xmlns=\"http://www.w3.org/2000/svg\" height=\"24px\"viewBox=\"0 0 24 24\"\n",
              "       width=\"24px\">\n",
              "    <path d=\"M0 0h24v24H0V0z\" fill=\"none\"/>\n",
              "    <path d=\"M18.56 5.44l.94 2.06.94-2.06 2.06-.94-2.06-.94-.94-2.06-.94 2.06-2.06.94zm-11 1L8.5 8.5l.94-2.06 2.06-.94-2.06-.94L8.5 2.5l-.94 2.06-2.06.94zm10 10l.94 2.06.94-2.06 2.06-.94-2.06-.94-.94-2.06-.94 2.06-2.06.94z\"/><path d=\"M17.41 7.96l-1.37-1.37c-.4-.4-.92-.59-1.43-.59-.52 0-1.04.2-1.43.59L10.3 9.45l-7.72 7.72c-.78.78-.78 2.05 0 2.83L4 21.41c.39.39.9.59 1.41.59.51 0 1.02-.2 1.41-.59l7.78-7.78 2.81-2.81c.8-.78.8-2.07 0-2.86zM5.41 20L4 18.59l7.72-7.72 1.47 1.35L5.41 20z\"/>\n",
              "  </svg>\n",
              "      </button>\n",
              "      \n",
              "  <style>\n",
              "    .colab-df-container {\n",
              "      display:flex;\n",
              "      flex-wrap:wrap;\n",
              "      gap: 12px;\n",
              "    }\n",
              "\n",
              "    .colab-df-convert {\n",
              "      background-color: #E8F0FE;\n",
              "      border: none;\n",
              "      border-radius: 50%;\n",
              "      cursor: pointer;\n",
              "      display: none;\n",
              "      fill: #1967D2;\n",
              "      height: 32px;\n",
              "      padding: 0 0 0 0;\n",
              "      width: 32px;\n",
              "    }\n",
              "\n",
              "    .colab-df-convert:hover {\n",
              "      background-color: #E2EBFA;\n",
              "      box-shadow: 0px 1px 2px rgba(60, 64, 67, 0.3), 0px 1px 3px 1px rgba(60, 64, 67, 0.15);\n",
              "      fill: #174EA6;\n",
              "    }\n",
              "\n",
              "    [theme=dark] .colab-df-convert {\n",
              "      background-color: #3B4455;\n",
              "      fill: #D2E3FC;\n",
              "    }\n",
              "\n",
              "    [theme=dark] .colab-df-convert:hover {\n",
              "      background-color: #434B5C;\n",
              "      box-shadow: 0px 1px 3px 1px rgba(0, 0, 0, 0.15);\n",
              "      filter: drop-shadow(0px 1px 2px rgba(0, 0, 0, 0.3));\n",
              "      fill: #FFFFFF;\n",
              "    }\n",
              "  </style>\n",
              "\n",
              "      <script>\n",
              "        const buttonEl =\n",
              "          document.querySelector('#df-423ed48b-7179-4045-a795-a2781aafa346 button.colab-df-convert');\n",
              "        buttonEl.style.display =\n",
              "          google.colab.kernel.accessAllowed ? 'block' : 'none';\n",
              "\n",
              "        async function convertToInteractive(key) {\n",
              "          const element = document.querySelector('#df-423ed48b-7179-4045-a795-a2781aafa346');\n",
              "          const dataTable =\n",
              "            await google.colab.kernel.invokeFunction('convertToInteractive',\n",
              "                                                     [key], {});\n",
              "          if (!dataTable) return;\n",
              "\n",
              "          const docLinkHtml = 'Like what you see? Visit the ' +\n",
              "            '<a target=\"_blank\" href=https://colab.research.google.com/notebooks/data_table.ipynb>data table notebook</a>'\n",
              "            + ' to learn more about interactive tables.';\n",
              "          element.innerHTML = '';\n",
              "          dataTable['output_type'] = 'display_data';\n",
              "          await google.colab.output.renderOutput(dataTable, element);\n",
              "          const docLink = document.createElement('div');\n",
              "          docLink.innerHTML = docLinkHtml;\n",
              "          element.appendChild(docLink);\n",
              "        }\n",
              "      </script>\n",
              "    </div>\n",
              "  </div>\n",
              "  "
            ],
            "text/plain": [
              "                                                text  label\n",
              "0    International films will be given the same p...      1\n",
              "1    A TV station in the US has refused to show a...      1\n",
              "2    The sixth and final Star Wars movie may not ...      1\n",
              "3    MTV has been criticised for \"incessant sleaz...      1\n",
              "4    Plans to create a US soap based on the BBC's...      1"
            ]
          },
          "metadata": {},
          "execution_count": 16
        }
      ]
    },
    {
      "cell_type": "markdown",
      "source": [
        "### Perform preprocessing to text"
      ],
      "metadata": {
        "id": "L1zUHejvvdC_"
      }
    },
    {
      "cell_type": "code",
      "source": [
        "import nltk\n",
        "nltk.download('stopwords')"
      ],
      "metadata": {
        "colab": {
          "base_uri": "https://localhost:8080/"
        },
        "id": "o0QZGOYjxPGI",
        "outputId": "40a93e63-e3ec-42cd-c298-8de258be8468"
      },
      "execution_count": null,
      "outputs": [
        {
          "output_type": "stream",
          "name": "stdout",
          "text": [
            "[nltk_data] Downloading package stopwords to /root/nltk_data...\n",
            "[nltk_data]   Unzipping corpora/stopwords.zip.\n"
          ]
        },
        {
          "output_type": "execute_result",
          "data": {
            "text/plain": [
              "True"
            ]
          },
          "metadata": {},
          "execution_count": 18
        }
      ]
    },
    {
      "cell_type": "code",
      "source": [
        "REPLACE_BY_SPACE_RE = re.compile('[/(){}\\[\\]\\|@,;]')\n",
        "BAD_SYMBOLS_RE = re.compile('[^0-9a-z #+_]')\n",
        "STOPWORDS = set(stopwords.words('english'))\n",
        "\n",
        "def clean_text(text):\n",
        "    \"\"\"\n",
        "        text: a string\n",
        "        \n",
        "        return: modified initial string\n",
        "    \"\"\"\n",
        "    text = text.lower() # lowercase text\n",
        "    text = REPLACE_BY_SPACE_RE.sub(' ', text) # replace REPLACE_BY_SPACE_RE symbols by space in text. substitute the matched string in REPLACE_BY_SPACE_RE with space.\n",
        "    text = BAD_SYMBOLS_RE.sub('', text) # remove symbols which are in BAD_SYMBOLS_RE from text. substitute the matched string in BAD_SYMBOLS_RE with nothing. \n",
        "#     text = re.sub(r'\\W+', '', text)\n",
        "    text = ' '.join(word for word in text.split() if word not in STOPWORDS) # remove stopwors from text\n",
        "    return text"
      ],
      "metadata": {
        "execution": {
          "iopub.status.busy": "2021-05-21T18:05:53.757861Z",
          "iopub.execute_input": "2021-05-21T18:05:53.759441Z",
          "iopub.status.idle": "2021-05-21T18:05:53.783212Z",
          "shell.execute_reply.started": "2021-05-21T18:05:53.759404Z",
          "shell.execute_reply": "2021-05-21T18:05:53.781990Z"
        },
        "trusted": true,
        "id": "KyShAkdnvdC_"
      },
      "execution_count": null,
      "outputs": []
    },
    {
      "cell_type": "code",
      "source": [
        "df['text'] = df['text'].apply(clean_text)\n",
        "df['text'] = df['text'].str.replace('\\d+', '')\n",
        "df.head()"
      ],
      "metadata": {
        "execution": {
          "iopub.status.busy": "2021-05-21T18:05:53.787633Z",
          "iopub.execute_input": "2021-05-21T18:05:53.788040Z",
          "iopub.status.idle": "2021-05-21T18:05:54.424794Z",
          "shell.execute_reply.started": "2021-05-21T18:05:53.787998Z",
          "shell.execute_reply": "2021-05-21T18:05:54.424093Z"
        },
        "trusted": true,
        "colab": {
          "base_uri": "https://localhost:8080/",
          "height": 206
        },
        "id": "qMkp37ZZvdC_",
        "outputId": "aec35d48-4d1b-4cc2-8061-a98c2614d94b"
      },
      "execution_count": null,
      "outputs": [
        {
          "output_type": "execute_result",
          "data": {
            "text/html": [
              "\n",
              "  <div id=\"df-c151ae58-c23d-4b0f-ab1d-c6009661910e\">\n",
              "    <div class=\"colab-df-container\">\n",
              "      <div>\n",
              "<style scoped>\n",
              "    .dataframe tbody tr th:only-of-type {\n",
              "        vertical-align: middle;\n",
              "    }\n",
              "\n",
              "    .dataframe tbody tr th {\n",
              "        vertical-align: top;\n",
              "    }\n",
              "\n",
              "    .dataframe thead th {\n",
              "        text-align: right;\n",
              "    }\n",
              "</style>\n",
              "<table border=\"1\" class=\"dataframe\">\n",
              "  <thead>\n",
              "    <tr style=\"text-align: right;\">\n",
              "      <th></th>\n",
              "      <th>text</th>\n",
              "      <th>label</th>\n",
              "    </tr>\n",
              "  </thead>\n",
              "  <tbody>\n",
              "    <tr>\n",
              "      <th>0</th>\n",
              "      <td>international films given prominence us films ...</td>\n",
              "      <td>1</td>\n",
              "    </tr>\n",
              "    <tr>\n",
              "      <th>1</th>\n",
              "      <td>tv station us refused show controversial new s...</td>\n",
              "      <td>1</td>\n",
              "    </tr>\n",
              "    <tr>\n",
              "      <th>2</th>\n",
              "      <td>sixth final star wars movie may suitable young...</td>\n",
              "      <td>1</td>\n",
              "    </tr>\n",
              "    <tr>\n",
              "      <th>3</th>\n",
              "      <td>mtv criticised incessant sleaze television ind...</td>\n",
              "      <td>1</td>\n",
              "    </tr>\n",
              "    <tr>\n",
              "      <th>4</th>\n",
              "      <td>plans create us soap based bbcs eastenders rep...</td>\n",
              "      <td>1</td>\n",
              "    </tr>\n",
              "  </tbody>\n",
              "</table>\n",
              "</div>\n",
              "      <button class=\"colab-df-convert\" onclick=\"convertToInteractive('df-c151ae58-c23d-4b0f-ab1d-c6009661910e')\"\n",
              "              title=\"Convert this dataframe to an interactive table.\"\n",
              "              style=\"display:none;\">\n",
              "        \n",
              "  <svg xmlns=\"http://www.w3.org/2000/svg\" height=\"24px\"viewBox=\"0 0 24 24\"\n",
              "       width=\"24px\">\n",
              "    <path d=\"M0 0h24v24H0V0z\" fill=\"none\"/>\n",
              "    <path d=\"M18.56 5.44l.94 2.06.94-2.06 2.06-.94-2.06-.94-.94-2.06-.94 2.06-2.06.94zm-11 1L8.5 8.5l.94-2.06 2.06-.94-2.06-.94L8.5 2.5l-.94 2.06-2.06.94zm10 10l.94 2.06.94-2.06 2.06-.94-2.06-.94-.94-2.06-.94 2.06-2.06.94z\"/><path d=\"M17.41 7.96l-1.37-1.37c-.4-.4-.92-.59-1.43-.59-.52 0-1.04.2-1.43.59L10.3 9.45l-7.72 7.72c-.78.78-.78 2.05 0 2.83L4 21.41c.39.39.9.59 1.41.59.51 0 1.02-.2 1.41-.59l7.78-7.78 2.81-2.81c.8-.78.8-2.07 0-2.86zM5.41 20L4 18.59l7.72-7.72 1.47 1.35L5.41 20z\"/>\n",
              "  </svg>\n",
              "      </button>\n",
              "      \n",
              "  <style>\n",
              "    .colab-df-container {\n",
              "      display:flex;\n",
              "      flex-wrap:wrap;\n",
              "      gap: 12px;\n",
              "    }\n",
              "\n",
              "    .colab-df-convert {\n",
              "      background-color: #E8F0FE;\n",
              "      border: none;\n",
              "      border-radius: 50%;\n",
              "      cursor: pointer;\n",
              "      display: none;\n",
              "      fill: #1967D2;\n",
              "      height: 32px;\n",
              "      padding: 0 0 0 0;\n",
              "      width: 32px;\n",
              "    }\n",
              "\n",
              "    .colab-df-convert:hover {\n",
              "      background-color: #E2EBFA;\n",
              "      box-shadow: 0px 1px 2px rgba(60, 64, 67, 0.3), 0px 1px 3px 1px rgba(60, 64, 67, 0.15);\n",
              "      fill: #174EA6;\n",
              "    }\n",
              "\n",
              "    [theme=dark] .colab-df-convert {\n",
              "      background-color: #3B4455;\n",
              "      fill: #D2E3FC;\n",
              "    }\n",
              "\n",
              "    [theme=dark] .colab-df-convert:hover {\n",
              "      background-color: #434B5C;\n",
              "      box-shadow: 0px 1px 3px 1px rgba(0, 0, 0, 0.15);\n",
              "      filter: drop-shadow(0px 1px 2px rgba(0, 0, 0, 0.3));\n",
              "      fill: #FFFFFF;\n",
              "    }\n",
              "  </style>\n",
              "\n",
              "      <script>\n",
              "        const buttonEl =\n",
              "          document.querySelector('#df-c151ae58-c23d-4b0f-ab1d-c6009661910e button.colab-df-convert');\n",
              "        buttonEl.style.display =\n",
              "          google.colab.kernel.accessAllowed ? 'block' : 'none';\n",
              "\n",
              "        async function convertToInteractive(key) {\n",
              "          const element = document.querySelector('#df-c151ae58-c23d-4b0f-ab1d-c6009661910e');\n",
              "          const dataTable =\n",
              "            await google.colab.kernel.invokeFunction('convertToInteractive',\n",
              "                                                     [key], {});\n",
              "          if (!dataTable) return;\n",
              "\n",
              "          const docLinkHtml = 'Like what you see? Visit the ' +\n",
              "            '<a target=\"_blank\" href=https://colab.research.google.com/notebooks/data_table.ipynb>data table notebook</a>'\n",
              "            + ' to learn more about interactive tables.';\n",
              "          element.innerHTML = '';\n",
              "          dataTable['output_type'] = 'display_data';\n",
              "          await google.colab.output.renderOutput(dataTable, element);\n",
              "          const docLink = document.createElement('div');\n",
              "          docLink.innerHTML = docLinkHtml;\n",
              "          element.appendChild(docLink);\n",
              "        }\n",
              "      </script>\n",
              "    </div>\n",
              "  </div>\n",
              "  "
            ],
            "text/plain": [
              "                                                text  label\n",
              "0  international films given prominence us films ...      1\n",
              "1  tv station us refused show controversial new s...      1\n",
              "2  sixth final star wars movie may suitable young...      1\n",
              "3  mtv criticised incessant sleaze television ind...      1\n",
              "4  plans create us soap based bbcs eastenders rep...      1"
            ]
          },
          "metadata": {},
          "execution_count": 20
        }
      ]
    },
    {
      "cell_type": "markdown",
      "source": [
        "### Processing text for BERT model\n",
        "\n"
      ],
      "metadata": {
        "id": "FZ-9jkgFvdC_"
      }
    },
    {
      "cell_type": "code",
      "source": [
        "def get_split(text1):\n",
        "    l_total = []\n",
        "    l_parcial = []\n",
        "    if len(text1.split())//150 >0:\n",
        "        n = len(text1.split())//150\n",
        "    else: \n",
        "        n = 1\n",
        "    for w in range(n):\n",
        "        if w == 0:\n",
        "            l_parcial = text1.split()[:200]\n",
        "            l_total.append(\" \".join(l_parcial))\n",
        "        else:\n",
        "            l_parcial = text1.split()[w*150:w*150 + 200]\n",
        "            l_total.append(\" \".join(l_parcial))\n",
        "    return l_total"
      ],
      "metadata": {
        "execution": {
          "iopub.status.busy": "2021-05-21T18:05:54.426303Z",
          "iopub.execute_input": "2021-05-21T18:05:54.426652Z",
          "iopub.status.idle": "2021-05-21T18:05:54.434644Z",
          "shell.execute_reply.started": "2021-05-21T18:05:54.426598Z",
          "shell.execute_reply": "2021-05-21T18:05:54.433685Z"
        },
        "trusted": true,
        "id": "D1By8bwdvdDA"
      },
      "execution_count": null,
      "outputs": []
    },
    {
      "cell_type": "code",
      "source": [
        "df['text_split'] = df['text'].apply(get_split)\n",
        "df.head()"
      ],
      "metadata": {
        "execution": {
          "iopub.status.busy": "2021-05-21T18:05:54.436365Z",
          "iopub.execute_input": "2021-05-21T18:05:54.436758Z",
          "iopub.status.idle": "2021-05-21T18:05:54.556506Z",
          "shell.execute_reply.started": "2021-05-21T18:05:54.436718Z",
          "shell.execute_reply": "2021-05-21T18:05:54.555658Z"
        },
        "trusted": true,
        "colab": {
          "base_uri": "https://localhost:8080/",
          "height": 206
        },
        "id": "AIuyywM8vdDA",
        "outputId": "cd144d6a-7889-47a0-cb02-ef80be123df1"
      },
      "execution_count": null,
      "outputs": [
        {
          "output_type": "execute_result",
          "data": {
            "text/html": [
              "\n",
              "  <div id=\"df-f8ab1410-cc7e-4271-bf03-2dcbbd7bfcad\">\n",
              "    <div class=\"colab-df-container\">\n",
              "      <div>\n",
              "<style scoped>\n",
              "    .dataframe tbody tr th:only-of-type {\n",
              "        vertical-align: middle;\n",
              "    }\n",
              "\n",
              "    .dataframe tbody tr th {\n",
              "        vertical-align: top;\n",
              "    }\n",
              "\n",
              "    .dataframe thead th {\n",
              "        text-align: right;\n",
              "    }\n",
              "</style>\n",
              "<table border=\"1\" class=\"dataframe\">\n",
              "  <thead>\n",
              "    <tr style=\"text-align: right;\">\n",
              "      <th></th>\n",
              "      <th>text</th>\n",
              "      <th>label</th>\n",
              "      <th>text_split</th>\n",
              "    </tr>\n",
              "  </thead>\n",
              "  <tbody>\n",
              "    <tr>\n",
              "      <th>0</th>\n",
              "      <td>international films given prominence us films ...</td>\n",
              "      <td>1</td>\n",
              "      <td>[international films given prominence us films...</td>\n",
              "    </tr>\n",
              "    <tr>\n",
              "      <th>1</th>\n",
              "      <td>tv station us refused show controversial new s...</td>\n",
              "      <td>1</td>\n",
              "      <td>[tv station us refused show controversial new ...</td>\n",
              "    </tr>\n",
              "    <tr>\n",
              "      <th>2</th>\n",
              "      <td>sixth final star wars movie may suitable young...</td>\n",
              "      <td>1</td>\n",
              "      <td>[sixth final star wars movie may suitable youn...</td>\n",
              "    </tr>\n",
              "    <tr>\n",
              "      <th>3</th>\n",
              "      <td>mtv criticised incessant sleaze television ind...</td>\n",
              "      <td>1</td>\n",
              "      <td>[mtv criticised incessant sleaze television in...</td>\n",
              "    </tr>\n",
              "    <tr>\n",
              "      <th>4</th>\n",
              "      <td>plans create us soap based bbcs eastenders rep...</td>\n",
              "      <td>1</td>\n",
              "      <td>[plans create us soap based bbcs eastenders re...</td>\n",
              "    </tr>\n",
              "  </tbody>\n",
              "</table>\n",
              "</div>\n",
              "      <button class=\"colab-df-convert\" onclick=\"convertToInteractive('df-f8ab1410-cc7e-4271-bf03-2dcbbd7bfcad')\"\n",
              "              title=\"Convert this dataframe to an interactive table.\"\n",
              "              style=\"display:none;\">\n",
              "        \n",
              "  <svg xmlns=\"http://www.w3.org/2000/svg\" height=\"24px\"viewBox=\"0 0 24 24\"\n",
              "       width=\"24px\">\n",
              "    <path d=\"M0 0h24v24H0V0z\" fill=\"none\"/>\n",
              "    <path d=\"M18.56 5.44l.94 2.06.94-2.06 2.06-.94-2.06-.94-.94-2.06-.94 2.06-2.06.94zm-11 1L8.5 8.5l.94-2.06 2.06-.94-2.06-.94L8.5 2.5l-.94 2.06-2.06.94zm10 10l.94 2.06.94-2.06 2.06-.94-2.06-.94-.94-2.06-.94 2.06-2.06.94z\"/><path d=\"M17.41 7.96l-1.37-1.37c-.4-.4-.92-.59-1.43-.59-.52 0-1.04.2-1.43.59L10.3 9.45l-7.72 7.72c-.78.78-.78 2.05 0 2.83L4 21.41c.39.39.9.59 1.41.59.51 0 1.02-.2 1.41-.59l7.78-7.78 2.81-2.81c.8-.78.8-2.07 0-2.86zM5.41 20L4 18.59l7.72-7.72 1.47 1.35L5.41 20z\"/>\n",
              "  </svg>\n",
              "      </button>\n",
              "      \n",
              "  <style>\n",
              "    .colab-df-container {\n",
              "      display:flex;\n",
              "      flex-wrap:wrap;\n",
              "      gap: 12px;\n",
              "    }\n",
              "\n",
              "    .colab-df-convert {\n",
              "      background-color: #E8F0FE;\n",
              "      border: none;\n",
              "      border-radius: 50%;\n",
              "      cursor: pointer;\n",
              "      display: none;\n",
              "      fill: #1967D2;\n",
              "      height: 32px;\n",
              "      padding: 0 0 0 0;\n",
              "      width: 32px;\n",
              "    }\n",
              "\n",
              "    .colab-df-convert:hover {\n",
              "      background-color: #E2EBFA;\n",
              "      box-shadow: 0px 1px 2px rgba(60, 64, 67, 0.3), 0px 1px 3px 1px rgba(60, 64, 67, 0.15);\n",
              "      fill: #174EA6;\n",
              "    }\n",
              "\n",
              "    [theme=dark] .colab-df-convert {\n",
              "      background-color: #3B4455;\n",
              "      fill: #D2E3FC;\n",
              "    }\n",
              "\n",
              "    [theme=dark] .colab-df-convert:hover {\n",
              "      background-color: #434B5C;\n",
              "      box-shadow: 0px 1px 3px 1px rgba(0, 0, 0, 0.15);\n",
              "      filter: drop-shadow(0px 1px 2px rgba(0, 0, 0, 0.3));\n",
              "      fill: #FFFFFF;\n",
              "    }\n",
              "  </style>\n",
              "\n",
              "      <script>\n",
              "        const buttonEl =\n",
              "          document.querySelector('#df-f8ab1410-cc7e-4271-bf03-2dcbbd7bfcad button.colab-df-convert');\n",
              "        buttonEl.style.display =\n",
              "          google.colab.kernel.accessAllowed ? 'block' : 'none';\n",
              "\n",
              "        async function convertToInteractive(key) {\n",
              "          const element = document.querySelector('#df-f8ab1410-cc7e-4271-bf03-2dcbbd7bfcad');\n",
              "          const dataTable =\n",
              "            await google.colab.kernel.invokeFunction('convertToInteractive',\n",
              "                                                     [key], {});\n",
              "          if (!dataTable) return;\n",
              "\n",
              "          const docLinkHtml = 'Like what you see? Visit the ' +\n",
              "            '<a target=\"_blank\" href=https://colab.research.google.com/notebooks/data_table.ipynb>data table notebook</a>'\n",
              "            + ' to learn more about interactive tables.';\n",
              "          element.innerHTML = '';\n",
              "          dataTable['output_type'] = 'display_data';\n",
              "          await google.colab.output.renderOutput(dataTable, element);\n",
              "          const docLink = document.createElement('div');\n",
              "          docLink.innerHTML = docLinkHtml;\n",
              "          element.appendChild(docLink);\n",
              "        }\n",
              "      </script>\n",
              "    </div>\n",
              "  </div>\n",
              "  "
            ],
            "text/plain": [
              "                                                text  ...                                         text_split\n",
              "0  international films given prominence us films ...  ...  [international films given prominence us films...\n",
              "1  tv station us refused show controversial new s...  ...  [tv station us refused show controversial new ...\n",
              "2  sixth final star wars movie may suitable young...  ...  [sixth final star wars movie may suitable youn...\n",
              "3  mtv criticised incessant sleaze television ind...  ...  [mtv criticised incessant sleaze television in...\n",
              "4  plans create us soap based bbcs eastenders rep...  ...  [plans create us soap based bbcs eastenders re...\n",
              "\n",
              "[5 rows x 3 columns]"
            ]
          },
          "metadata": {},
          "execution_count": 22
        }
      ]
    },
    {
      "cell_type": "markdown",
      "source": [
        "Setting output directory for BERT"
      ],
      "metadata": {
        "id": "lCUrwGXuvdDA"
      }
    },
    {
      "cell_type": "code",
      "source": [
        "# Set the output directory for saving model file\n",
        "OUTPUT_DIR = '/bert_news_category'\n",
        "\n",
        "#@markdown Whether or not to clear/delete the directory and create a new one\n",
        "DO_DELETE = True #@param {type:\"boolean\"}\n",
        "\n",
        "if DO_DELETE:\n",
        "    try:\n",
        "        tf.gfile.DeleteRecursively(OUTPUT_DIR)\n",
        "#         tf.compat.v1.gfile.DeleteRecursively(OUTPUT_DIR)\n",
        "    except:\n",
        "        pass\n",
        "\n",
        "tf.gfile.MakeDirs(OUTPUT_DIR)\n",
        "print('***** Model output directory: {} *****'.format(OUTPUT_DIR))"
      ],
      "metadata": {
        "execution": {
          "iopub.status.busy": "2021-05-21T18:05:54.558206Z",
          "iopub.execute_input": "2021-05-21T18:05:54.558560Z",
          "iopub.status.idle": "2021-05-21T18:05:54.565927Z",
          "shell.execute_reply.started": "2021-05-21T18:05:54.558523Z",
          "shell.execute_reply": "2021-05-21T18:05:54.565074Z"
        },
        "trusted": true,
        "colab": {
          "base_uri": "https://localhost:8080/"
        },
        "id": "10e5lcYnvdDA",
        "outputId": "0be7c177-6c5f-47bb-cbe4-407fb4bde432"
      },
      "execution_count": null,
      "outputs": [
        {
          "output_type": "stream",
          "name": "stdout",
          "text": [
            "***** Model output directory: /bert_news_category *****\n"
          ]
        }
      ]
    },
    {
      "cell_type": "markdown",
      "source": [
        "### Split into 80% training and 20% validation"
      ],
      "metadata": {
        "id": "_kL71XtqvdDA"
      }
    },
    {
      "cell_type": "code",
      "source": [
        "train, val = train_test_split(df, test_size=0.2, random_state=35)\n",
        "train.reset_index(drop=True, inplace=True)\n",
        "train.head(2)"
      ],
      "metadata": {
        "execution": {
          "iopub.status.busy": "2021-05-21T18:05:54.567887Z",
          "iopub.execute_input": "2021-05-21T18:05:54.568320Z",
          "iopub.status.idle": "2021-05-21T18:05:54.589606Z",
          "shell.execute_reply.started": "2021-05-21T18:05:54.568278Z",
          "shell.execute_reply": "2021-05-21T18:05:54.588969Z"
        },
        "trusted": true,
        "colab": {
          "base_uri": "https://localhost:8080/",
          "height": 112
        },
        "id": "OK6lnr_UvdDA",
        "outputId": "85a2a754-78d6-45fd-a4b4-e55d88c6f000"
      },
      "execution_count": null,
      "outputs": [
        {
          "output_type": "execute_result",
          "data": {
            "text/html": [
              "\n",
              "  <div id=\"df-9b5b18a6-0dcc-4038-8069-cfba604d1802\">\n",
              "    <div class=\"colab-df-container\">\n",
              "      <div>\n",
              "<style scoped>\n",
              "    .dataframe tbody tr th:only-of-type {\n",
              "        vertical-align: middle;\n",
              "    }\n",
              "\n",
              "    .dataframe tbody tr th {\n",
              "        vertical-align: top;\n",
              "    }\n",
              "\n",
              "    .dataframe thead th {\n",
              "        text-align: right;\n",
              "    }\n",
              "</style>\n",
              "<table border=\"1\" class=\"dataframe\">\n",
              "  <thead>\n",
              "    <tr style=\"text-align: right;\">\n",
              "      <th></th>\n",
              "      <th>text</th>\n",
              "      <th>label</th>\n",
              "      <th>text_split</th>\n",
              "    </tr>\n",
              "  </thead>\n",
              "  <tbody>\n",
              "    <tr>\n",
              "      <th>0</th>\n",
              "      <td>years clutch oscar nominees least popular  yea...</td>\n",
              "      <td>1</td>\n",
              "      <td>[years clutch oscar nominees least popular yea...</td>\n",
              "    </tr>\n",
              "    <tr>\n",
              "      <th>1</th>\n",
              "      <td>geek gadget fan next  months look like going l...</td>\n",
              "      <td>4</td>\n",
              "      <td>[geek gadget fan next months look like going l...</td>\n",
              "    </tr>\n",
              "  </tbody>\n",
              "</table>\n",
              "</div>\n",
              "      <button class=\"colab-df-convert\" onclick=\"convertToInteractive('df-9b5b18a6-0dcc-4038-8069-cfba604d1802')\"\n",
              "              title=\"Convert this dataframe to an interactive table.\"\n",
              "              style=\"display:none;\">\n",
              "        \n",
              "  <svg xmlns=\"http://www.w3.org/2000/svg\" height=\"24px\"viewBox=\"0 0 24 24\"\n",
              "       width=\"24px\">\n",
              "    <path d=\"M0 0h24v24H0V0z\" fill=\"none\"/>\n",
              "    <path d=\"M18.56 5.44l.94 2.06.94-2.06 2.06-.94-2.06-.94-.94-2.06-.94 2.06-2.06.94zm-11 1L8.5 8.5l.94-2.06 2.06-.94-2.06-.94L8.5 2.5l-.94 2.06-2.06.94zm10 10l.94 2.06.94-2.06 2.06-.94-2.06-.94-.94-2.06-.94 2.06-2.06.94z\"/><path d=\"M17.41 7.96l-1.37-1.37c-.4-.4-.92-.59-1.43-.59-.52 0-1.04.2-1.43.59L10.3 9.45l-7.72 7.72c-.78.78-.78 2.05 0 2.83L4 21.41c.39.39.9.59 1.41.59.51 0 1.02-.2 1.41-.59l7.78-7.78 2.81-2.81c.8-.78.8-2.07 0-2.86zM5.41 20L4 18.59l7.72-7.72 1.47 1.35L5.41 20z\"/>\n",
              "  </svg>\n",
              "      </button>\n",
              "      \n",
              "  <style>\n",
              "    .colab-df-container {\n",
              "      display:flex;\n",
              "      flex-wrap:wrap;\n",
              "      gap: 12px;\n",
              "    }\n",
              "\n",
              "    .colab-df-convert {\n",
              "      background-color: #E8F0FE;\n",
              "      border: none;\n",
              "      border-radius: 50%;\n",
              "      cursor: pointer;\n",
              "      display: none;\n",
              "      fill: #1967D2;\n",
              "      height: 32px;\n",
              "      padding: 0 0 0 0;\n",
              "      width: 32px;\n",
              "    }\n",
              "\n",
              "    .colab-df-convert:hover {\n",
              "      background-color: #E2EBFA;\n",
              "      box-shadow: 0px 1px 2px rgba(60, 64, 67, 0.3), 0px 1px 3px 1px rgba(60, 64, 67, 0.15);\n",
              "      fill: #174EA6;\n",
              "    }\n",
              "\n",
              "    [theme=dark] .colab-df-convert {\n",
              "      background-color: #3B4455;\n",
              "      fill: #D2E3FC;\n",
              "    }\n",
              "\n",
              "    [theme=dark] .colab-df-convert:hover {\n",
              "      background-color: #434B5C;\n",
              "      box-shadow: 0px 1px 3px 1px rgba(0, 0, 0, 0.15);\n",
              "      filter: drop-shadow(0px 1px 2px rgba(0, 0, 0, 0.3));\n",
              "      fill: #FFFFFF;\n",
              "    }\n",
              "  </style>\n",
              "\n",
              "      <script>\n",
              "        const buttonEl =\n",
              "          document.querySelector('#df-9b5b18a6-0dcc-4038-8069-cfba604d1802 button.colab-df-convert');\n",
              "        buttonEl.style.display =\n",
              "          google.colab.kernel.accessAllowed ? 'block' : 'none';\n",
              "\n",
              "        async function convertToInteractive(key) {\n",
              "          const element = document.querySelector('#df-9b5b18a6-0dcc-4038-8069-cfba604d1802');\n",
              "          const dataTable =\n",
              "            await google.colab.kernel.invokeFunction('convertToInteractive',\n",
              "                                                     [key], {});\n",
              "          if (!dataTable) return;\n",
              "\n",
              "          const docLinkHtml = 'Like what you see? Visit the ' +\n",
              "            '<a target=\"_blank\" href=https://colab.research.google.com/notebooks/data_table.ipynb>data table notebook</a>'\n",
              "            + ' to learn more about interactive tables.';\n",
              "          element.innerHTML = '';\n",
              "          dataTable['output_type'] = 'display_data';\n",
              "          await google.colab.output.renderOutput(dataTable, element);\n",
              "          const docLink = document.createElement('div');\n",
              "          docLink.innerHTML = docLinkHtml;\n",
              "          element.appendChild(docLink);\n",
              "        }\n",
              "      </script>\n",
              "    </div>\n",
              "  </div>\n",
              "  "
            ],
            "text/plain": [
              "                                                text  ...                                         text_split\n",
              "0  years clutch oscar nominees least popular  yea...  ...  [years clutch oscar nominees least popular yea...\n",
              "1  geek gadget fan next  months look like going l...  ...  [geek gadget fan next months look like going l...\n",
              "\n",
              "[2 rows x 3 columns]"
            ]
          },
          "metadata": {},
          "execution_count": 24
        }
      ]
    },
    {
      "cell_type": "code",
      "source": [
        "# Get labels\n",
        "label_list = [x for x in np.unique(train.label)]\n",
        "label_list"
      ],
      "metadata": {
        "execution": {
          "iopub.status.busy": "2021-05-21T18:05:54.591110Z",
          "iopub.execute_input": "2021-05-21T18:05:54.591479Z",
          "iopub.status.idle": "2021-05-21T18:05:54.598450Z",
          "shell.execute_reply.started": "2021-05-21T18:05:54.591442Z",
          "shell.execute_reply": "2021-05-21T18:05:54.597396Z"
        },
        "trusted": true,
        "colab": {
          "base_uri": "https://localhost:8080/"
        },
        "id": "gUFonXD4vdDB",
        "outputId": "dc1b2f13-3997-4bcd-f23b-8a017dad47ed"
      },
      "execution_count": null,
      "outputs": [
        {
          "output_type": "execute_result",
          "data": {
            "text/plain": [
              "[0, 1, 2, 3, 4]"
            ]
          },
          "metadata": {},
          "execution_count": 25
        }
      ]
    },
    {
      "cell_type": "code",
      "source": [
        "val.reset_index(drop=True, inplace=True)\n",
        "val.head(2)"
      ],
      "metadata": {
        "execution": {
          "iopub.status.busy": "2021-05-21T18:05:54.600051Z",
          "iopub.execute_input": "2021-05-21T18:05:54.600644Z",
          "iopub.status.idle": "2021-05-21T18:05:54.619239Z",
          "shell.execute_reply.started": "2021-05-21T18:05:54.600596Z",
          "shell.execute_reply": "2021-05-21T18:05:54.618134Z"
        },
        "trusted": true,
        "colab": {
          "base_uri": "https://localhost:8080/",
          "height": 112
        },
        "id": "JfqkQLhVvdDB",
        "outputId": "fba9a653-8368-46e7-82b7-59688c9be937"
      },
      "execution_count": null,
      "outputs": [
        {
          "output_type": "execute_result",
          "data": {
            "text/html": [
              "\n",
              "  <div id=\"df-359ebd18-be99-40c9-b687-8d02e89cfd78\">\n",
              "    <div class=\"colab-df-container\">\n",
              "      <div>\n",
              "<style scoped>\n",
              "    .dataframe tbody tr th:only-of-type {\n",
              "        vertical-align: middle;\n",
              "    }\n",
              "\n",
              "    .dataframe tbody tr th {\n",
              "        vertical-align: top;\n",
              "    }\n",
              "\n",
              "    .dataframe thead th {\n",
              "        text-align: right;\n",
              "    }\n",
              "</style>\n",
              "<table border=\"1\" class=\"dataframe\">\n",
              "  <thead>\n",
              "    <tr style=\"text-align: right;\">\n",
              "      <th></th>\n",
              "      <th>text</th>\n",
              "      <th>label</th>\n",
              "      <th>text_split</th>\n",
              "    </tr>\n",
              "  </thead>\n",
              "  <tbody>\n",
              "    <tr>\n",
              "      <th>0</th>\n",
              "      <td>actor keanu reeves best known role matrix movi...</td>\n",
              "      <td>1</td>\n",
              "      <td>[actor keanu reeves best known role matrix mov...</td>\n",
              "    </tr>\n",
              "    <tr>\n",
              "      <th>1</th>\n",
              "      <td>researchers monash swinburne rmit universities...</td>\n",
              "      <td>4</td>\n",
              "      <td>[researchers monash swinburne rmit universitie...</td>\n",
              "    </tr>\n",
              "  </tbody>\n",
              "</table>\n",
              "</div>\n",
              "      <button class=\"colab-df-convert\" onclick=\"convertToInteractive('df-359ebd18-be99-40c9-b687-8d02e89cfd78')\"\n",
              "              title=\"Convert this dataframe to an interactive table.\"\n",
              "              style=\"display:none;\">\n",
              "        \n",
              "  <svg xmlns=\"http://www.w3.org/2000/svg\" height=\"24px\"viewBox=\"0 0 24 24\"\n",
              "       width=\"24px\">\n",
              "    <path d=\"M0 0h24v24H0V0z\" fill=\"none\"/>\n",
              "    <path d=\"M18.56 5.44l.94 2.06.94-2.06 2.06-.94-2.06-.94-.94-2.06-.94 2.06-2.06.94zm-11 1L8.5 8.5l.94-2.06 2.06-.94-2.06-.94L8.5 2.5l-.94 2.06-2.06.94zm10 10l.94 2.06.94-2.06 2.06-.94-2.06-.94-.94-2.06-.94 2.06-2.06.94z\"/><path d=\"M17.41 7.96l-1.37-1.37c-.4-.4-.92-.59-1.43-.59-.52 0-1.04.2-1.43.59L10.3 9.45l-7.72 7.72c-.78.78-.78 2.05 0 2.83L4 21.41c.39.39.9.59 1.41.59.51 0 1.02-.2 1.41-.59l7.78-7.78 2.81-2.81c.8-.78.8-2.07 0-2.86zM5.41 20L4 18.59l7.72-7.72 1.47 1.35L5.41 20z\"/>\n",
              "  </svg>\n",
              "      </button>\n",
              "      \n",
              "  <style>\n",
              "    .colab-df-container {\n",
              "      display:flex;\n",
              "      flex-wrap:wrap;\n",
              "      gap: 12px;\n",
              "    }\n",
              "\n",
              "    .colab-df-convert {\n",
              "      background-color: #E8F0FE;\n",
              "      border: none;\n",
              "      border-radius: 50%;\n",
              "      cursor: pointer;\n",
              "      display: none;\n",
              "      fill: #1967D2;\n",
              "      height: 32px;\n",
              "      padding: 0 0 0 0;\n",
              "      width: 32px;\n",
              "    }\n",
              "\n",
              "    .colab-df-convert:hover {\n",
              "      background-color: #E2EBFA;\n",
              "      box-shadow: 0px 1px 2px rgba(60, 64, 67, 0.3), 0px 1px 3px 1px rgba(60, 64, 67, 0.15);\n",
              "      fill: #174EA6;\n",
              "    }\n",
              "\n",
              "    [theme=dark] .colab-df-convert {\n",
              "      background-color: #3B4455;\n",
              "      fill: #D2E3FC;\n",
              "    }\n",
              "\n",
              "    [theme=dark] .colab-df-convert:hover {\n",
              "      background-color: #434B5C;\n",
              "      box-shadow: 0px 1px 3px 1px rgba(0, 0, 0, 0.15);\n",
              "      filter: drop-shadow(0px 1px 2px rgba(0, 0, 0, 0.3));\n",
              "      fill: #FFFFFF;\n",
              "    }\n",
              "  </style>\n",
              "\n",
              "      <script>\n",
              "        const buttonEl =\n",
              "          document.querySelector('#df-359ebd18-be99-40c9-b687-8d02e89cfd78 button.colab-df-convert');\n",
              "        buttonEl.style.display =\n",
              "          google.colab.kernel.accessAllowed ? 'block' : 'none';\n",
              "\n",
              "        async function convertToInteractive(key) {\n",
              "          const element = document.querySelector('#df-359ebd18-be99-40c9-b687-8d02e89cfd78');\n",
              "          const dataTable =\n",
              "            await google.colab.kernel.invokeFunction('convertToInteractive',\n",
              "                                                     [key], {});\n",
              "          if (!dataTable) return;\n",
              "\n",
              "          const docLinkHtml = 'Like what you see? Visit the ' +\n",
              "            '<a target=\"_blank\" href=https://colab.research.google.com/notebooks/data_table.ipynb>data table notebook</a>'\n",
              "            + ' to learn more about interactive tables.';\n",
              "          element.innerHTML = '';\n",
              "          dataTable['output_type'] = 'display_data';\n",
              "          await google.colab.output.renderOutput(dataTable, element);\n",
              "          const docLink = document.createElement('div');\n",
              "          docLink.innerHTML = docLinkHtml;\n",
              "          element.appendChild(docLink);\n",
              "        }\n",
              "      </script>\n",
              "    </div>\n",
              "  </div>\n",
              "  "
            ],
            "text/plain": [
              "                                                text  ...                                         text_split\n",
              "0  actor keanu reeves best known role matrix movi...  ...  [actor keanu reeves best known role matrix mov...\n",
              "1  researchers monash swinburne rmit universities...  ...  [researchers monash swinburne rmit universitie...\n",
              "\n",
              "[2 rows x 3 columns]"
            ]
          },
          "metadata": {},
          "execution_count": 26
        }
      ]
    },
    {
      "cell_type": "markdown",
      "source": [
        "### Check shape of train and validation data"
      ],
      "metadata": {
        "id": "CCNBTJkJvdDB"
      }
    },
    {
      "cell_type": "code",
      "source": [
        "val.shape, train.shape"
      ],
      "metadata": {
        "execution": {
          "iopub.status.busy": "2021-05-21T18:05:54.620474Z",
          "iopub.execute_input": "2021-05-21T18:05:54.620913Z",
          "iopub.status.idle": "2021-05-21T18:05:54.627907Z",
          "shell.execute_reply.started": "2021-05-21T18:05:54.620797Z",
          "shell.execute_reply": "2021-05-21T18:05:54.626524Z"
        },
        "trusted": true,
        "colab": {
          "base_uri": "https://localhost:8080/"
        },
        "id": "FEKqilBjvdDB",
        "outputId": "2bde00f9-b15c-4f31-fa7f-913b0361add1"
      },
      "execution_count": null,
      "outputs": [
        {
          "output_type": "execute_result",
          "data": {
            "text/plain": [
              "((100, 3), (400, 3))"
            ]
          },
          "metadata": {},
          "execution_count": 27
        }
      ]
    },
    {
      "cell_type": "code",
      "source": [
        "train_l = []\n",
        "label_l = []\n",
        "index_l =[]\n",
        "for idx,row in train.iterrows():\n",
        "    for l in row['text_split']:\n",
        "        train_l.append(l)\n",
        "        label_l.append(row['label'])\n",
        "        index_l.append(idx)\n",
        "len(train_l), len(label_l), len(index_l)"
      ],
      "metadata": {
        "execution": {
          "iopub.status.busy": "2021-05-21T18:05:54.629751Z",
          "iopub.execute_input": "2021-05-21T18:05:54.630333Z",
          "iopub.status.idle": "2021-05-21T18:05:54.835330Z",
          "shell.execute_reply.started": "2021-05-21T18:05:54.630296Z",
          "shell.execute_reply": "2021-05-21T18:05:54.834266Z"
        },
        "trusted": true,
        "colab": {
          "base_uri": "https://localhost:8080/"
        },
        "id": "6sVCbGyRvdDB",
        "outputId": "0ad3a9b7-c402-496b-8a14-f2a9d546b523"
      },
      "execution_count": null,
      "outputs": [
        {
          "output_type": "execute_result",
          "data": {
            "text/plain": [
              "(472, 472, 472)"
            ]
          },
          "metadata": {},
          "execution_count": 28
        }
      ]
    },
    {
      "cell_type": "code",
      "source": [
        "val_l = []\n",
        "val_label_l = []\n",
        "val_index_l = []\n",
        "for idx,row in val.iterrows():\n",
        "    for l in row['text_split']:\n",
        "        val_l.append(l)\n",
        "        val_label_l.append(row['label'])\n",
        "        val_index_l.append(idx)\n",
        "len(val_l), len(val_label_l), len(val_index_l)"
      ],
      "metadata": {
        "execution": {
          "iopub.status.busy": "2021-05-21T18:05:54.837097Z",
          "iopub.execute_input": "2021-05-21T18:05:54.837482Z",
          "iopub.status.idle": "2021-05-21T18:05:54.899238Z",
          "shell.execute_reply.started": "2021-05-21T18:05:54.837444Z",
          "shell.execute_reply": "2021-05-21T18:05:54.898308Z"
        },
        "trusted": true,
        "colab": {
          "base_uri": "https://localhost:8080/"
        },
        "id": "ZBjwsIMQvdDC",
        "outputId": "8c6591e4-a51a-4017-bab0-ea774f4c7869"
      },
      "execution_count": null,
      "outputs": [
        {
          "output_type": "execute_result",
          "data": {
            "text/plain": [
              "(123, 123, 123)"
            ]
          },
          "metadata": {},
          "execution_count": 29
        }
      ]
    },
    {
      "cell_type": "markdown",
      "source": [
        "### Getting train and validation set as dataframe"
      ],
      "metadata": {
        "id": "SmdwlsFSvdDC"
      }
    },
    {
      "cell_type": "code",
      "source": [
        "train_df = pd.DataFrame({DATA_COLUMN:train_l, LABEL_COLUMN:label_l})\n",
        "train_df.head()"
      ],
      "metadata": {
        "execution": {
          "iopub.status.busy": "2021-05-21T18:05:54.900788Z",
          "iopub.execute_input": "2021-05-21T18:05:54.901235Z",
          "iopub.status.idle": "2021-05-21T18:05:54.914899Z",
          "shell.execute_reply.started": "2021-05-21T18:05:54.901197Z",
          "shell.execute_reply": "2021-05-21T18:05:54.913796Z"
        },
        "trusted": true,
        "colab": {
          "base_uri": "https://localhost:8080/",
          "height": 206
        },
        "id": "KakY7acTvdDC",
        "outputId": "7dc0e4ea-88a1-4235-82f4-5ef3fab4087e"
      },
      "execution_count": null,
      "outputs": [
        {
          "output_type": "execute_result",
          "data": {
            "text/html": [
              "\n",
              "  <div id=\"df-3d9f0010-88c6-4846-9762-60a2695755f3\">\n",
              "    <div class=\"colab-df-container\">\n",
              "      <div>\n",
              "<style scoped>\n",
              "    .dataframe tbody tr th:only-of-type {\n",
              "        vertical-align: middle;\n",
              "    }\n",
              "\n",
              "    .dataframe tbody tr th {\n",
              "        vertical-align: top;\n",
              "    }\n",
              "\n",
              "    .dataframe thead th {\n",
              "        text-align: right;\n",
              "    }\n",
              "</style>\n",
              "<table border=\"1\" class=\"dataframe\">\n",
              "  <thead>\n",
              "    <tr style=\"text-align: right;\">\n",
              "      <th></th>\n",
              "      <th>text</th>\n",
              "      <th>label</th>\n",
              "    </tr>\n",
              "  </thead>\n",
              "  <tbody>\n",
              "    <tr>\n",
              "      <th>0</th>\n",
              "      <td>years clutch oscar nominees least popular year...</td>\n",
              "      <td>1</td>\n",
              "    </tr>\n",
              "    <tr>\n",
              "      <th>1</th>\n",
              "      <td>geek gadget fan next months look like going lo...</td>\n",
              "      <td>4</td>\n",
              "    </tr>\n",
              "    <tr>\n",
              "      <th>2</th>\n",
              "      <td>transmission speeds megabits per second works ...</td>\n",
              "      <td>4</td>\n",
              "    </tr>\n",
              "    <tr>\n",
              "      <th>3</th>\n",
              "      <td>lessons music piracy copyright issues taught s...</td>\n",
              "      <td>1</td>\n",
              "    </tr>\n",
              "    <tr>\n",
              "      <th>4</th>\n",
              "      <td>abn amro netherlands largest bank cut jobs res...</td>\n",
              "      <td>0</td>\n",
              "    </tr>\n",
              "  </tbody>\n",
              "</table>\n",
              "</div>\n",
              "      <button class=\"colab-df-convert\" onclick=\"convertToInteractive('df-3d9f0010-88c6-4846-9762-60a2695755f3')\"\n",
              "              title=\"Convert this dataframe to an interactive table.\"\n",
              "              style=\"display:none;\">\n",
              "        \n",
              "  <svg xmlns=\"http://www.w3.org/2000/svg\" height=\"24px\"viewBox=\"0 0 24 24\"\n",
              "       width=\"24px\">\n",
              "    <path d=\"M0 0h24v24H0V0z\" fill=\"none\"/>\n",
              "    <path d=\"M18.56 5.44l.94 2.06.94-2.06 2.06-.94-2.06-.94-.94-2.06-.94 2.06-2.06.94zm-11 1L8.5 8.5l.94-2.06 2.06-.94-2.06-.94L8.5 2.5l-.94 2.06-2.06.94zm10 10l.94 2.06.94-2.06 2.06-.94-2.06-.94-.94-2.06-.94 2.06-2.06.94z\"/><path d=\"M17.41 7.96l-1.37-1.37c-.4-.4-.92-.59-1.43-.59-.52 0-1.04.2-1.43.59L10.3 9.45l-7.72 7.72c-.78.78-.78 2.05 0 2.83L4 21.41c.39.39.9.59 1.41.59.51 0 1.02-.2 1.41-.59l7.78-7.78 2.81-2.81c.8-.78.8-2.07 0-2.86zM5.41 20L4 18.59l7.72-7.72 1.47 1.35L5.41 20z\"/>\n",
              "  </svg>\n",
              "      </button>\n",
              "      \n",
              "  <style>\n",
              "    .colab-df-container {\n",
              "      display:flex;\n",
              "      flex-wrap:wrap;\n",
              "      gap: 12px;\n",
              "    }\n",
              "\n",
              "    .colab-df-convert {\n",
              "      background-color: #E8F0FE;\n",
              "      border: none;\n",
              "      border-radius: 50%;\n",
              "      cursor: pointer;\n",
              "      display: none;\n",
              "      fill: #1967D2;\n",
              "      height: 32px;\n",
              "      padding: 0 0 0 0;\n",
              "      width: 32px;\n",
              "    }\n",
              "\n",
              "    .colab-df-convert:hover {\n",
              "      background-color: #E2EBFA;\n",
              "      box-shadow: 0px 1px 2px rgba(60, 64, 67, 0.3), 0px 1px 3px 1px rgba(60, 64, 67, 0.15);\n",
              "      fill: #174EA6;\n",
              "    }\n",
              "\n",
              "    [theme=dark] .colab-df-convert {\n",
              "      background-color: #3B4455;\n",
              "      fill: #D2E3FC;\n",
              "    }\n",
              "\n",
              "    [theme=dark] .colab-df-convert:hover {\n",
              "      background-color: #434B5C;\n",
              "      box-shadow: 0px 1px 3px 1px rgba(0, 0, 0, 0.15);\n",
              "      filter: drop-shadow(0px 1px 2px rgba(0, 0, 0, 0.3));\n",
              "      fill: #FFFFFF;\n",
              "    }\n",
              "  </style>\n",
              "\n",
              "      <script>\n",
              "        const buttonEl =\n",
              "          document.querySelector('#df-3d9f0010-88c6-4846-9762-60a2695755f3 button.colab-df-convert');\n",
              "        buttonEl.style.display =\n",
              "          google.colab.kernel.accessAllowed ? 'block' : 'none';\n",
              "\n",
              "        async function convertToInteractive(key) {\n",
              "          const element = document.querySelector('#df-3d9f0010-88c6-4846-9762-60a2695755f3');\n",
              "          const dataTable =\n",
              "            await google.colab.kernel.invokeFunction('convertToInteractive',\n",
              "                                                     [key], {});\n",
              "          if (!dataTable) return;\n",
              "\n",
              "          const docLinkHtml = 'Like what you see? Visit the ' +\n",
              "            '<a target=\"_blank\" href=https://colab.research.google.com/notebooks/data_table.ipynb>data table notebook</a>'\n",
              "            + ' to learn more about interactive tables.';\n",
              "          element.innerHTML = '';\n",
              "          dataTable['output_type'] = 'display_data';\n",
              "          await google.colab.output.renderOutput(dataTable, element);\n",
              "          const docLink = document.createElement('div');\n",
              "          docLink.innerHTML = docLinkHtml;\n",
              "          element.appendChild(docLink);\n",
              "        }\n",
              "      </script>\n",
              "    </div>\n",
              "  </div>\n",
              "  "
            ],
            "text/plain": [
              "                                                text  label\n",
              "0  years clutch oscar nominees least popular year...      1\n",
              "1  geek gadget fan next months look like going lo...      4\n",
              "2  transmission speeds megabits per second works ...      4\n",
              "3  lessons music piracy copyright issues taught s...      1\n",
              "4  abn amro netherlands largest bank cut jobs res...      0"
            ]
          },
          "metadata": {},
          "execution_count": 30
        }
      ]
    },
    {
      "cell_type": "code",
      "source": [
        "val_df = pd.DataFrame({DATA_COLUMN:val_l, LABEL_COLUMN:val_label_l})\n",
        "val_df.head()"
      ],
      "metadata": {
        "execution": {
          "iopub.status.busy": "2021-05-21T18:05:54.916597Z",
          "iopub.execute_input": "2021-05-21T18:05:54.917281Z",
          "iopub.status.idle": "2021-05-21T18:05:54.931978Z",
          "shell.execute_reply.started": "2021-05-21T18:05:54.917243Z",
          "shell.execute_reply": "2021-05-21T18:05:54.931033Z"
        },
        "trusted": true,
        "colab": {
          "base_uri": "https://localhost:8080/",
          "height": 206
        },
        "id": "QuT6DabavdDC",
        "outputId": "3f8abeb0-ef21-4c3d-efb0-e3d135d22559"
      },
      "execution_count": null,
      "outputs": [
        {
          "output_type": "execute_result",
          "data": {
            "text/html": [
              "\n",
              "  <div id=\"df-0711ee3d-c213-425f-9c97-5a41f5c617f9\">\n",
              "    <div class=\"colab-df-container\">\n",
              "      <div>\n",
              "<style scoped>\n",
              "    .dataframe tbody tr th:only-of-type {\n",
              "        vertical-align: middle;\n",
              "    }\n",
              "\n",
              "    .dataframe tbody tr th {\n",
              "        vertical-align: top;\n",
              "    }\n",
              "\n",
              "    .dataframe thead th {\n",
              "        text-align: right;\n",
              "    }\n",
              "</style>\n",
              "<table border=\"1\" class=\"dataframe\">\n",
              "  <thead>\n",
              "    <tr style=\"text-align: right;\">\n",
              "      <th></th>\n",
              "      <th>text</th>\n",
              "      <th>label</th>\n",
              "    </tr>\n",
              "  </thead>\n",
              "  <tbody>\n",
              "    <tr>\n",
              "      <th>0</th>\n",
              "      <td>actor keanu reeves best known role matrix movi...</td>\n",
              "      <td>1</td>\n",
              "    </tr>\n",
              "    <tr>\n",
              "      <th>1</th>\n",
              "      <td>researchers monash swinburne rmit universities...</td>\n",
              "      <td>4</td>\n",
              "    </tr>\n",
              "    <tr>\n",
              "      <th>2</th>\n",
              "      <td>civil servants drastically stepped shredding o...</td>\n",
              "      <td>2</td>\n",
              "    </tr>\n",
              "    <tr>\n",
              "      <th>3</th>\n",
              "      <td>britains jason gardener enjoyed double m succe...</td>\n",
              "      <td>3</td>\n",
              "    </tr>\n",
              "    <tr>\n",
              "      <th>4</th>\n",
              "      <td>friends actress lisa kudrow play lead role new...</td>\n",
              "      <td>1</td>\n",
              "    </tr>\n",
              "  </tbody>\n",
              "</table>\n",
              "</div>\n",
              "      <button class=\"colab-df-convert\" onclick=\"convertToInteractive('df-0711ee3d-c213-425f-9c97-5a41f5c617f9')\"\n",
              "              title=\"Convert this dataframe to an interactive table.\"\n",
              "              style=\"display:none;\">\n",
              "        \n",
              "  <svg xmlns=\"http://www.w3.org/2000/svg\" height=\"24px\"viewBox=\"0 0 24 24\"\n",
              "       width=\"24px\">\n",
              "    <path d=\"M0 0h24v24H0V0z\" fill=\"none\"/>\n",
              "    <path d=\"M18.56 5.44l.94 2.06.94-2.06 2.06-.94-2.06-.94-.94-2.06-.94 2.06-2.06.94zm-11 1L8.5 8.5l.94-2.06 2.06-.94-2.06-.94L8.5 2.5l-.94 2.06-2.06.94zm10 10l.94 2.06.94-2.06 2.06-.94-2.06-.94-.94-2.06-.94 2.06-2.06.94z\"/><path d=\"M17.41 7.96l-1.37-1.37c-.4-.4-.92-.59-1.43-.59-.52 0-1.04.2-1.43.59L10.3 9.45l-7.72 7.72c-.78.78-.78 2.05 0 2.83L4 21.41c.39.39.9.59 1.41.59.51 0 1.02-.2 1.41-.59l7.78-7.78 2.81-2.81c.8-.78.8-2.07 0-2.86zM5.41 20L4 18.59l7.72-7.72 1.47 1.35L5.41 20z\"/>\n",
              "  </svg>\n",
              "      </button>\n",
              "      \n",
              "  <style>\n",
              "    .colab-df-container {\n",
              "      display:flex;\n",
              "      flex-wrap:wrap;\n",
              "      gap: 12px;\n",
              "    }\n",
              "\n",
              "    .colab-df-convert {\n",
              "      background-color: #E8F0FE;\n",
              "      border: none;\n",
              "      border-radius: 50%;\n",
              "      cursor: pointer;\n",
              "      display: none;\n",
              "      fill: #1967D2;\n",
              "      height: 32px;\n",
              "      padding: 0 0 0 0;\n",
              "      width: 32px;\n",
              "    }\n",
              "\n",
              "    .colab-df-convert:hover {\n",
              "      background-color: #E2EBFA;\n",
              "      box-shadow: 0px 1px 2px rgba(60, 64, 67, 0.3), 0px 1px 3px 1px rgba(60, 64, 67, 0.15);\n",
              "      fill: #174EA6;\n",
              "    }\n",
              "\n",
              "    [theme=dark] .colab-df-convert {\n",
              "      background-color: #3B4455;\n",
              "      fill: #D2E3FC;\n",
              "    }\n",
              "\n",
              "    [theme=dark] .colab-df-convert:hover {\n",
              "      background-color: #434B5C;\n",
              "      box-shadow: 0px 1px 3px 1px rgba(0, 0, 0, 0.15);\n",
              "      filter: drop-shadow(0px 1px 2px rgba(0, 0, 0, 0.3));\n",
              "      fill: #FFFFFF;\n",
              "    }\n",
              "  </style>\n",
              "\n",
              "      <script>\n",
              "        const buttonEl =\n",
              "          document.querySelector('#df-0711ee3d-c213-425f-9c97-5a41f5c617f9 button.colab-df-convert');\n",
              "        buttonEl.style.display =\n",
              "          google.colab.kernel.accessAllowed ? 'block' : 'none';\n",
              "\n",
              "        async function convertToInteractive(key) {\n",
              "          const element = document.querySelector('#df-0711ee3d-c213-425f-9c97-5a41f5c617f9');\n",
              "          const dataTable =\n",
              "            await google.colab.kernel.invokeFunction('convertToInteractive',\n",
              "                                                     [key], {});\n",
              "          if (!dataTable) return;\n",
              "\n",
              "          const docLinkHtml = 'Like what you see? Visit the ' +\n",
              "            '<a target=\"_blank\" href=https://colab.research.google.com/notebooks/data_table.ipynb>data table notebook</a>'\n",
              "            + ' to learn more about interactive tables.';\n",
              "          element.innerHTML = '';\n",
              "          dataTable['output_type'] = 'display_data';\n",
              "          await google.colab.output.renderOutput(dataTable, element);\n",
              "          const docLink = document.createElement('div');\n",
              "          docLink.innerHTML = docLinkHtml;\n",
              "          element.appendChild(docLink);\n",
              "        }\n",
              "      </script>\n",
              "    </div>\n",
              "  </div>\n",
              "  "
            ],
            "text/plain": [
              "                                                text  label\n",
              "0  actor keanu reeves best known role matrix movi...      1\n",
              "1  researchers monash swinburne rmit universities...      4\n",
              "2  civil servants drastically stepped shredding o...      2\n",
              "3  britains jason gardener enjoyed double m succe...      3\n",
              "4  friends actress lisa kudrow play lead role new...      1"
            ]
          },
          "metadata": {},
          "execution_count": 31
        }
      ]
    },
    {
      "cell_type": "code",
      "source": [
        " X_train, X_val, y_train, y_val = train_test_split(df['text'], df['label'], test_size=0.20, random_state=42)"
      ],
      "metadata": {
        "execution": {
          "iopub.status.busy": "2021-05-21T18:05:54.933550Z",
          "iopub.execute_input": "2021-05-21T18:05:54.933915Z",
          "iopub.status.idle": "2021-05-21T18:05:54.937860Z",
          "shell.execute_reply.started": "2021-05-21T18:05:54.933876Z",
          "shell.execute_reply": "2021-05-21T18:05:54.936795Z"
        },
        "trusted": true,
        "id": "1rdQ52wtvdDC"
      },
      "execution_count": null,
      "outputs": []
    },
    {
      "cell_type": "markdown",
      "source": [
        "### Fine tuning the BERT model\n",
        "\n",
        "The BERT model can be applied for any kind of classification task by fine-tuning it."
      ],
      "metadata": {
        "id": "sx5qK8tCvdDD"
      }
    },
    {
      "cell_type": "markdown",
      "source": [
        "#### 1. Preparing the input data, i.e create **InputExample** using the BERT’s constructor."
      ],
      "metadata": {
        "id": "xg2qClkHvdDD"
      }
    },
    {
      "cell_type": "code",
      "source": [
        "# Use the InputExample class from BERT's run_classifier code to create examples from the data\n",
        "train_InputExamples = train.apply(lambda x: run_classifier.InputExample(guid=None, # Globally unique ID for bookkeeping, unused in this example\n",
        "                                                                   text_a = x[DATA_COLUMN], \n",
        "                                                                   text_b = None, \n",
        "                                                                   label = x[LABEL_COLUMN]), axis = 1)\n",
        "\n",
        "val_InputExamples = val.apply(lambda x: run_classifier.InputExample(guid=None, \n",
        "                                                                   text_a = x[DATA_COLUMN], \n",
        "                                                                   text_b = None, \n",
        "                                                                   label = x[LABEL_COLUMN]), axis = 1)"
      ],
      "metadata": {
        "execution": {
          "iopub.status.busy": "2021-05-21T18:05:54.939579Z",
          "iopub.execute_input": "2021-05-21T18:05:54.940346Z",
          "iopub.status.idle": "2021-05-21T18:05:55.027041Z",
          "shell.execute_reply.started": "2021-05-21T18:05:54.940308Z",
          "shell.execute_reply": "2021-05-21T18:05:55.026339Z"
        },
        "trusted": true,
        "id": "9LiBSmmJvdDD"
      },
      "execution_count": null,
      "outputs": []
    },
    {
      "cell_type": "code",
      "source": [
        "train_InputExamples\n"
      ],
      "metadata": {
        "execution": {
          "iopub.status.busy": "2021-05-21T18:05:55.028522Z",
          "iopub.execute_input": "2021-05-21T18:05:55.028980Z",
          "iopub.status.idle": "2021-05-21T18:05:55.038270Z",
          "shell.execute_reply.started": "2021-05-21T18:05:55.028940Z",
          "shell.execute_reply": "2021-05-21T18:05:55.037231Z"
        },
        "trusted": true,
        "colab": {
          "base_uri": "https://localhost:8080/"
        },
        "id": "yt-weS6RvdDD",
        "outputId": "fb9f2a3e-7609-4321-806b-388fe9b42775"
      },
      "execution_count": null,
      "outputs": [
        {
          "output_type": "execute_result",
          "data": {
            "text/plain": [
              "0      <run_classifier.InputExample object at 0x7fb9d...\n",
              "1      <run_classifier.InputExample object at 0x7fb9d...\n",
              "2      <run_classifier.InputExample object at 0x7fb9d...\n",
              "3      <run_classifier.InputExample object at 0x7fb9d...\n",
              "4      <run_classifier.InputExample object at 0x7fb9d...\n",
              "                             ...                        \n",
              "395    <run_classifier.InputExample object at 0x7fb9d...\n",
              "396    <run_classifier.InputExample object at 0x7fb9d...\n",
              "397    <run_classifier.InputExample object at 0x7fb9d...\n",
              "398    <run_classifier.InputExample object at 0x7fb9d...\n",
              "399    <run_classifier.InputExample object at 0x7fb9d...\n",
              "Length: 400, dtype: object"
            ]
          },
          "metadata": {},
          "execution_count": 34
        }
      ]
    },
    {
      "cell_type": "code",
      "source": [
        "print(\"Row 0 - guid of training set : \", train_InputExamples.iloc[0].guid)\n",
        "print(\"\\n__________\\nRow 0 - text_a of training set : \", train_InputExamples.iloc[0].text_a)\n",
        "print(\"\\n__________\\nRow 0 - text_b of training set : \", train_InputExamples.iloc[0].text_b)\n",
        "print(\"\\n__________\\nRow 0 - label of training set : \", train_InputExamples.iloc[0].label)"
      ],
      "metadata": {
        "execution": {
          "iopub.status.busy": "2021-05-21T18:05:55.039851Z",
          "iopub.execute_input": "2021-05-21T18:05:55.040421Z",
          "iopub.status.idle": "2021-05-21T18:05:55.050069Z",
          "shell.execute_reply.started": "2021-05-21T18:05:55.040382Z",
          "shell.execute_reply": "2021-05-21T18:05:55.049145Z"
        },
        "trusted": true,
        "colab": {
          "base_uri": "https://localhost:8080/"
        },
        "id": "g6r-cQsovdDD",
        "outputId": "58768fd0-c381-4728-cd1f-44930dfeebbe"
      },
      "execution_count": null,
      "outputs": [
        {
          "output_type": "stream",
          "name": "stdout",
          "text": [
            "Row 0 - guid of training set :  None\n",
            "\n",
            "__________\n",
            "Row 0 - text_a of training set :  years clutch oscar nominees least popular  years according box office figures us five nominated best film seen  fewer people movies previous years awards based box office popularity concern ratings televised ceremony dont titanic lord rings think fair say concern us bit said academy executive director bruce davis  million people us seen years nominees compared  million  million recent years last time combined attendance low  amadeus beat killing fields passage india places heart soldiers story best picture  million saw five films last years ceremony attracted highest audience four years viewers tuned see lord ring return king sweep board show reaped biggest audience  titanic took home  oscars film taken m m worldwide ceremony eventually took bn m eyeballs starring movie screen translates eyeballs staring tv screen said paul dergarabedian box office tracker exhibitor relations people like vested interest theyre watching titanic bn worldwide box office youve got lot people vested interest past years also seen blockbusters saving private ryan forrest gump ghost compete oscars biggest box office hitter among years nominees aviator taken m m us although takings uk reached m far lowbudget move sideways finding neverland far grossed m m years biggest blockbusters actually feature oscar nominees animation category shrek  incredibles took m m incredibles took m m mel gibsons passion christ took m m us largely ignored academy voters many film industry equate award box office success never equated academy awards much money movie takes said nikki rocco head distribution universal released nominee ray thats peoples choice awards public industry bestowing awards think best films year\n",
            "\n",
            "__________\n",
            "Row 0 - text_b of training set :  None\n",
            "\n",
            "__________\n",
            "Row 0 - label of training set :  1\n"
          ]
        }
      ]
    },
    {
      "cell_type": "code",
      "source": [
        "BERT_MODEL_HUB = \"https://tfhub.dev/google/bert_uncased_L-12_H-768_A-12/1\"\n",
        "\n",
        "def create_tokenizer_from_hub_module():\n",
        "  \"\"\"Get the vocab file and casing info from the Hub module.\"\"\"\n",
        "  with tf.Graph().as_default():\n",
        "    bert_module = hub.Module(BERT_MODEL_HUB)\n",
        "    tokenization_info = bert_module(signature=\"tokenization_info\", as_dict=True)\n",
        "    with tf.Session() as sess:\n",
        "#     with tf.compat.v1.Session() as sess:\n",
        "        vocab_file, do_lower_case = sess.run([tokenization_info[\"vocab_file\"],\n",
        "                                            tokenization_info[\"do_lower_case\"]])\n",
        "      \n",
        "    return tokenization.FullTokenizer(\n",
        "      vocab_file=vocab_file, do_lower_case=do_lower_case)\n",
        "\n",
        "tokenizer = create_tokenizer_from_hub_module()"
      ],
      "metadata": {
        "execution": {
          "iopub.status.busy": "2021-05-21T18:05:55.051704Z",
          "iopub.execute_input": "2021-05-21T18:05:55.052378Z",
          "iopub.status.idle": "2021-05-21T18:06:05.176171Z",
          "shell.execute_reply.started": "2021-05-21T18:05:55.052339Z",
          "shell.execute_reply": "2021-05-21T18:06:05.175381Z"
        },
        "trusted": true,
        "colab": {
          "base_uri": "https://localhost:8080/"
        },
        "id": "Y1cx6Ib5vdDD",
        "outputId": "836398db-c9a3-4ca0-e994-fb9cc0667d48"
      },
      "execution_count": null,
      "outputs": [
        {
          "output_type": "stream",
          "name": "stdout",
          "text": [
            "INFO:tensorflow:Saver not created because there are no variables in the graph to restore\n"
          ]
        },
        {
          "output_type": "stream",
          "name": "stderr",
          "text": [
            "INFO:tensorflow:Saver not created because there are no variables in the graph to restore\n"
          ]
        },
        {
          "output_type": "stream",
          "name": "stdout",
          "text": [
            "WARNING:tensorflow:From /content/tokenization.py:125: The name tf.gfile.GFile is deprecated. Please use tf.io.gfile.GFile instead.\n",
            "\n"
          ]
        },
        {
          "output_type": "stream",
          "name": "stderr",
          "text": [
            "WARNING:tensorflow:From /content/tokenization.py:125: The name tf.gfile.GFile is deprecated. Please use tf.io.gfile.GFile instead.\n",
            "\n"
          ]
        }
      ]
    },
    {
      "cell_type": "code",
      "source": [
        "len(tokenizer.vocab.keys())"
      ],
      "metadata": {
        "execution": {
          "iopub.status.busy": "2021-05-21T18:06:05.177469Z",
          "iopub.execute_input": "2021-05-21T18:06:05.177808Z",
          "iopub.status.idle": "2021-05-21T18:06:05.186252Z",
          "shell.execute_reply.started": "2021-05-21T18:06:05.177773Z",
          "shell.execute_reply": "2021-05-21T18:06:05.184942Z"
        },
        "trusted": true,
        "colab": {
          "base_uri": "https://localhost:8080/"
        },
        "id": "b63sEGcjvdDE",
        "outputId": "c592e5f7-938f-4a89-dce6-e54c44bfdfaf"
      },
      "execution_count": null,
      "outputs": [
        {
          "output_type": "execute_result",
          "data": {
            "text/plain": [
              "30522"
            ]
          },
          "metadata": {},
          "execution_count": 37
        }
      ]
    },
    {
      "cell_type": "code",
      "source": [
        "#Here is what the tokenised sample of the first training set observation looks like\n",
        "print(tokenizer.tokenize(train_InputExamples.iloc[0].text_a))"
      ],
      "metadata": {
        "execution": {
          "iopub.status.busy": "2021-05-21T18:06:05.192144Z",
          "iopub.execute_input": "2021-05-21T18:06:05.192569Z",
          "iopub.status.idle": "2021-05-21T18:06:05.208679Z",
          "shell.execute_reply.started": "2021-05-21T18:06:05.192529Z",
          "shell.execute_reply": "2021-05-21T18:06:05.207816Z"
        },
        "trusted": true,
        "colab": {
          "base_uri": "https://localhost:8080/"
        },
        "id": "2ayD63FNvdDE",
        "outputId": "4b0c01f3-081e-4cf1-f25c-f4b954cea473"
      },
      "execution_count": null,
      "outputs": [
        {
          "output_type": "stream",
          "name": "stdout",
          "text": [
            "['years', 'clutch', 'oscar', 'nominees', 'least', 'popular', 'years', 'according', 'box', 'office', 'figures', 'us', 'five', 'nominated', 'best', 'film', 'seen', 'fewer', 'people', 'movies', 'previous', 'years', 'awards', 'based', 'box', 'office', 'popularity', 'concern', 'ratings', 'televised', 'ceremony', 'don', '##t', 'titanic', 'lord', 'rings', 'think', 'fair', 'say', 'concern', 'us', 'bit', 'said', 'academy', 'executive', 'director', 'bruce', 'davis', 'million', 'people', 'us', 'seen', 'years', 'nominees', 'compared', 'million', 'million', 'recent', 'years', 'last', 'time', 'combined', 'attendance', 'low', 'amadeus', 'beat', 'killing', 'fields', 'passage', 'india', 'places', 'heart', 'soldiers', 'story', 'best', 'picture', 'million', 'saw', 'five', 'films', 'last', 'years', 'ceremony', 'attracted', 'highest', 'audience', 'four', 'years', 'viewers', 'tuned', 'see', 'lord', 'ring', 'return', 'king', 'sweep', 'board', 'show', 're', '##ape', '##d', 'biggest', 'audience', 'titanic', 'took', 'home', 'oscar', '##s', 'film', 'taken', 'm', 'm', 'worldwide', 'ceremony', 'eventually', 'took', 'bn', 'm', 'eye', '##balls', 'starring', 'movie', 'screen', 'translates', 'eye', '##balls', 'staring', 'tv', 'screen', 'said', 'paul', 'der', '##gara', '##bed', '##ian', 'box', 'office', 'tracker', 'exhibit', '##or', 'relations', 'people', 'like', 'vested', 'interest', 'they', '##re', 'watching', 'titanic', 'bn', 'worldwide', 'box', 'office', 'you', '##ve', 'got', 'lot', 'people', 'vested', 'interest', 'past', 'years', 'also', 'seen', 'blockbuster', '##s', 'saving', 'private', 'ryan', 'forrest', 'gum', '##p', 'ghost', 'compete', 'oscar', '##s', 'biggest', 'box', 'office', 'hitter', 'among', 'years', 'nominees', 'aviator', 'taken', 'm', 'm', 'us', 'although', 'taking', '##s', 'uk', 'reached', 'm', 'far', 'low', '##bu', '##dget', 'move', 'sideways', 'finding', 'never', '##land', 'far', 'grossed', 'm', 'm', 'years', 'biggest', 'blockbuster', '##s', 'actually', 'feature', 'oscar', 'nominees', 'animation', 'category', 'sh', '##rek', 'incredible', '##s', 'took', 'm', 'm', 'incredible', '##s', 'took', 'm', 'm', 'mel', 'gibson', '##s', 'passion', 'christ', 'took', 'm', 'm', 'us', 'largely', 'ignored', 'academy', 'voters', 'many', 'film', 'industry', 'e', '##qua', '##te', 'award', 'box', 'office', 'success', 'never', 'e', '##qua', '##ted', 'academy', 'awards', 'much', 'money', 'movie', 'takes', 'said', 'nikki', 'rocco', 'head', 'distribution', 'universal', 'released', 'nominee', 'ray', 'that', '##s', 'peoples', 'choice', 'awards', 'public', 'industry', 'best', '##owing', 'awards', 'think', 'best', 'films', 'year']\n"
          ]
        }
      ]
    },
    {
      "cell_type": "markdown",
      "source": [
        "#### 2. Converting the train and validation features to InputFeatures that BERT understands."
      ],
      "metadata": {
        "id": "3XZIczypvdDE"
      }
    },
    {
      "cell_type": "code",
      "source": [
        "MAX_SEQ_LENGTH = 200\n",
        "\n",
        "train_features = run_classifier.convert_examples_to_features(train_InputExamples, label_list, MAX_SEQ_LENGTH, tokenizer)\n",
        "\n",
        "val_features = run_classifier.convert_examples_to_features(val_InputExamples, label_list, MAX_SEQ_LENGTH, tokenizer)"
      ],
      "metadata": {
        "execution": {
          "iopub.status.busy": "2021-05-21T18:06:05.210825Z",
          "iopub.execute_input": "2021-05-21T18:06:05.211207Z",
          "iopub.status.idle": "2021-05-21T18:06:18.973628Z",
          "shell.execute_reply.started": "2021-05-21T18:06:05.211154Z",
          "shell.execute_reply": "2021-05-21T18:06:18.972821Z"
        },
        "trusted": true,
        "colab": {
          "base_uri": "https://localhost:8080/"
        },
        "id": "rQzGA-tkvdDE",
        "outputId": "821a6380-dc13-4166-c50f-c2857eff678b"
      },
      "execution_count": null,
      "outputs": [
        {
          "output_type": "stream",
          "name": "stdout",
          "text": [
            "WARNING:tensorflow:From /content/run_classifier.py:774: The name tf.logging.info is deprecated. Please use tf.compat.v1.logging.info instead.\n",
            "\n"
          ]
        },
        {
          "output_type": "stream",
          "name": "stderr",
          "text": [
            "WARNING:tensorflow:From /content/run_classifier.py:774: The name tf.logging.info is deprecated. Please use tf.compat.v1.logging.info instead.\n",
            "\n"
          ]
        },
        {
          "output_type": "stream",
          "name": "stdout",
          "text": [
            "INFO:tensorflow:Writing example 0 of 400\n"
          ]
        },
        {
          "output_type": "stream",
          "name": "stderr",
          "text": [
            "INFO:tensorflow:Writing example 0 of 400\n"
          ]
        },
        {
          "output_type": "stream",
          "name": "stdout",
          "text": [
            "INFO:tensorflow:*** Example ***\n"
          ]
        },
        {
          "output_type": "stream",
          "name": "stderr",
          "text": [
            "INFO:tensorflow:*** Example ***\n"
          ]
        },
        {
          "output_type": "stream",
          "name": "stdout",
          "text": [
            "INFO:tensorflow:guid: None\n"
          ]
        },
        {
          "output_type": "stream",
          "name": "stderr",
          "text": [
            "INFO:tensorflow:guid: None\n"
          ]
        },
        {
          "output_type": "stream",
          "name": "stdout",
          "text": [
            "INFO:tensorflow:tokens: [CLS] years clutch oscar nominees least popular years according box office figures us five nominated best film seen fewer people movies previous years awards based box office popularity concern ratings televised ceremony don ##t titanic lord rings think fair say concern us bit said academy executive director bruce davis million people us seen years nominees compared million million recent years last time combined attendance low amadeus beat killing fields passage india places heart soldiers story best picture million saw five films last years ceremony attracted highest audience four years viewers tuned see lord ring return king sweep board show re ##ape ##d biggest audience titanic took home oscar ##s film taken m m worldwide ceremony eventually took bn m eye ##balls starring movie screen translates eye ##balls staring tv screen said paul der ##gara ##bed ##ian box office tracker exhibit ##or relations people like vested interest they ##re watching titanic bn worldwide box office you ##ve got lot people vested interest past years also seen blockbuster ##s saving private ryan forrest gum ##p ghost compete oscar ##s biggest box office hitter among years nominees aviator taken m m us although taking ##s uk reached m far low ##bu ##dget [SEP]\n"
          ]
        },
        {
          "output_type": "stream",
          "name": "stderr",
          "text": [
            "INFO:tensorflow:tokens: [CLS] years clutch oscar nominees least popular years according box office figures us five nominated best film seen fewer people movies previous years awards based box office popularity concern ratings televised ceremony don ##t titanic lord rings think fair say concern us bit said academy executive director bruce davis million people us seen years nominees compared million million recent years last time combined attendance low amadeus beat killing fields passage india places heart soldiers story best picture million saw five films last years ceremony attracted highest audience four years viewers tuned see lord ring return king sweep board show re ##ape ##d biggest audience titanic took home oscar ##s film taken m m worldwide ceremony eventually took bn m eye ##balls starring movie screen translates eye ##balls staring tv screen said paul der ##gara ##bed ##ian box office tracker exhibit ##or relations people like vested interest they ##re watching titanic bn worldwide box office you ##ve got lot people vested interest past years also seen blockbuster ##s saving private ryan forrest gum ##p ghost compete oscar ##s biggest box office hitter among years nominees aviator taken m m us although taking ##s uk reached m far low ##bu ##dget [SEP]\n"
          ]
        },
        {
          "output_type": "stream",
          "name": "stdout",
          "text": [
            "INFO:tensorflow:input_ids: 101 2086 15357 7436 17853 2560 2759 2086 2429 3482 2436 4481 2149 2274 4222 2190 2143 2464 8491 2111 5691 3025 2086 2982 2241 3482 2436 6217 5142 8599 13762 5103 2123 2102 20753 2935 7635 2228 4189 2360 5142 2149 2978 2056 2914 3237 2472 5503 4482 2454 2111 2149 2464 2086 17853 4102 2454 2454 3522 2086 2197 2051 4117 5270 2659 27185 3786 4288 4249 6019 2634 3182 2540 3548 2466 2190 3861 2454 2387 2274 3152 2197 2086 5103 6296 3284 4378 2176 2086 7193 15757 2156 2935 3614 2709 2332 11740 2604 2265 2128 24065 2094 5221 4378 20753 2165 2188 7436 2015 2143 2579 1049 1049 4969 5103 2776 2165 24869 1049 3239 18510 4626 3185 3898 16315 3239 18510 4582 2694 3898 2056 2703 4315 24864 8270 2937 3482 2436 27080 8327 2953 4262 2111 2066 26003 3037 2027 2890 3666 20753 24869 4969 3482 2436 2017 3726 2288 2843 2111 26003 3037 2627 2086 2036 2464 27858 2015 7494 2797 4575 16319 16031 2361 5745 5566 7436 2015 5221 3482 2436 18694 2426 2086 17853 24035 2579 1049 1049 2149 2348 2635 2015 2866 2584 1049 2521 2659 8569 24291 102\n"
          ]
        },
        {
          "output_type": "stream",
          "name": "stderr",
          "text": [
            "INFO:tensorflow:input_ids: 101 2086 15357 7436 17853 2560 2759 2086 2429 3482 2436 4481 2149 2274 4222 2190 2143 2464 8491 2111 5691 3025 2086 2982 2241 3482 2436 6217 5142 8599 13762 5103 2123 2102 20753 2935 7635 2228 4189 2360 5142 2149 2978 2056 2914 3237 2472 5503 4482 2454 2111 2149 2464 2086 17853 4102 2454 2454 3522 2086 2197 2051 4117 5270 2659 27185 3786 4288 4249 6019 2634 3182 2540 3548 2466 2190 3861 2454 2387 2274 3152 2197 2086 5103 6296 3284 4378 2176 2086 7193 15757 2156 2935 3614 2709 2332 11740 2604 2265 2128 24065 2094 5221 4378 20753 2165 2188 7436 2015 2143 2579 1049 1049 4969 5103 2776 2165 24869 1049 3239 18510 4626 3185 3898 16315 3239 18510 4582 2694 3898 2056 2703 4315 24864 8270 2937 3482 2436 27080 8327 2953 4262 2111 2066 26003 3037 2027 2890 3666 20753 24869 4969 3482 2436 2017 3726 2288 2843 2111 26003 3037 2627 2086 2036 2464 27858 2015 7494 2797 4575 16319 16031 2361 5745 5566 7436 2015 5221 3482 2436 18694 2426 2086 17853 24035 2579 1049 1049 2149 2348 2635 2015 2866 2584 1049 2521 2659 8569 24291 102\n"
          ]
        },
        {
          "output_type": "stream",
          "name": "stdout",
          "text": [
            "INFO:tensorflow:input_mask: 1 1 1 1 1 1 1 1 1 1 1 1 1 1 1 1 1 1 1 1 1 1 1 1 1 1 1 1 1 1 1 1 1 1 1 1 1 1 1 1 1 1 1 1 1 1 1 1 1 1 1 1 1 1 1 1 1 1 1 1 1 1 1 1 1 1 1 1 1 1 1 1 1 1 1 1 1 1 1 1 1 1 1 1 1 1 1 1 1 1 1 1 1 1 1 1 1 1 1 1 1 1 1 1 1 1 1 1 1 1 1 1 1 1 1 1 1 1 1 1 1 1 1 1 1 1 1 1 1 1 1 1 1 1 1 1 1 1 1 1 1 1 1 1 1 1 1 1 1 1 1 1 1 1 1 1 1 1 1 1 1 1 1 1 1 1 1 1 1 1 1 1 1 1 1 1 1 1 1 1 1 1 1 1 1 1 1 1 1 1 1 1 1 1 1 1 1 1 1 1\n"
          ]
        },
        {
          "output_type": "stream",
          "name": "stderr",
          "text": [
            "INFO:tensorflow:input_mask: 1 1 1 1 1 1 1 1 1 1 1 1 1 1 1 1 1 1 1 1 1 1 1 1 1 1 1 1 1 1 1 1 1 1 1 1 1 1 1 1 1 1 1 1 1 1 1 1 1 1 1 1 1 1 1 1 1 1 1 1 1 1 1 1 1 1 1 1 1 1 1 1 1 1 1 1 1 1 1 1 1 1 1 1 1 1 1 1 1 1 1 1 1 1 1 1 1 1 1 1 1 1 1 1 1 1 1 1 1 1 1 1 1 1 1 1 1 1 1 1 1 1 1 1 1 1 1 1 1 1 1 1 1 1 1 1 1 1 1 1 1 1 1 1 1 1 1 1 1 1 1 1 1 1 1 1 1 1 1 1 1 1 1 1 1 1 1 1 1 1 1 1 1 1 1 1 1 1 1 1 1 1 1 1 1 1 1 1 1 1 1 1 1 1 1 1 1 1 1 1\n"
          ]
        },
        {
          "output_type": "stream",
          "name": "stdout",
          "text": [
            "INFO:tensorflow:segment_ids: 0 0 0 0 0 0 0 0 0 0 0 0 0 0 0 0 0 0 0 0 0 0 0 0 0 0 0 0 0 0 0 0 0 0 0 0 0 0 0 0 0 0 0 0 0 0 0 0 0 0 0 0 0 0 0 0 0 0 0 0 0 0 0 0 0 0 0 0 0 0 0 0 0 0 0 0 0 0 0 0 0 0 0 0 0 0 0 0 0 0 0 0 0 0 0 0 0 0 0 0 0 0 0 0 0 0 0 0 0 0 0 0 0 0 0 0 0 0 0 0 0 0 0 0 0 0 0 0 0 0 0 0 0 0 0 0 0 0 0 0 0 0 0 0 0 0 0 0 0 0 0 0 0 0 0 0 0 0 0 0 0 0 0 0 0 0 0 0 0 0 0 0 0 0 0 0 0 0 0 0 0 0 0 0 0 0 0 0 0 0 0 0 0 0 0 0 0 0 0 0\n"
          ]
        },
        {
          "output_type": "stream",
          "name": "stderr",
          "text": [
            "INFO:tensorflow:segment_ids: 0 0 0 0 0 0 0 0 0 0 0 0 0 0 0 0 0 0 0 0 0 0 0 0 0 0 0 0 0 0 0 0 0 0 0 0 0 0 0 0 0 0 0 0 0 0 0 0 0 0 0 0 0 0 0 0 0 0 0 0 0 0 0 0 0 0 0 0 0 0 0 0 0 0 0 0 0 0 0 0 0 0 0 0 0 0 0 0 0 0 0 0 0 0 0 0 0 0 0 0 0 0 0 0 0 0 0 0 0 0 0 0 0 0 0 0 0 0 0 0 0 0 0 0 0 0 0 0 0 0 0 0 0 0 0 0 0 0 0 0 0 0 0 0 0 0 0 0 0 0 0 0 0 0 0 0 0 0 0 0 0 0 0 0 0 0 0 0 0 0 0 0 0 0 0 0 0 0 0 0 0 0 0 0 0 0 0 0 0 0 0 0 0 0 0 0 0 0 0 0\n"
          ]
        },
        {
          "output_type": "stream",
          "name": "stdout",
          "text": [
            "INFO:tensorflow:label: 1 (id = 1)\n"
          ]
        },
        {
          "output_type": "stream",
          "name": "stderr",
          "text": [
            "INFO:tensorflow:label: 1 (id = 1)\n"
          ]
        },
        {
          "output_type": "stream",
          "name": "stdout",
          "text": [
            "INFO:tensorflow:*** Example ***\n"
          ]
        },
        {
          "output_type": "stream",
          "name": "stderr",
          "text": [
            "INFO:tensorflow:*** Example ***\n"
          ]
        },
        {
          "output_type": "stream",
          "name": "stdout",
          "text": [
            "INFO:tensorflow:guid: None\n"
          ]
        },
        {
          "output_type": "stream",
          "name": "stderr",
          "text": [
            "INFO:tensorflow:guid: None\n"
          ]
        },
        {
          "output_type": "stream",
          "name": "stdout",
          "text": [
            "INFO:tensorflow:tokens: [CLS] geek ga ##dget fan next months look like going lot fun relentless pace development hit ##ech world rampant competition many sectors particularly among mobile phone firms suggests going good year begin year third ##gen ##eration g mobile phones become in ##es ##cap ##able network launched vo ##da ##fo ##ne launched consumer service november orange followed early december t ##mobile o due launch main result launches likely sl ##ew good deals consumers operators try po ##ach new customers rivals convince existing users trade already extra capacity g networks lets offer good deals voice calls rates probably matched operators shift technology low cost voice calls means operators lose significant chunk revenue show operator believes voice business sustain ill write obituary said ni ##el ransom chief technology officer al ##cate ##l instead operators likely push things g phones video messaging multimedia capabilities already camera phones look set challenge digital cameras likely win fans multi ##me ##ga ##pi ##x ##el devices go sale g everything way face competition emerging technologies wi ##max wireless technology boost data transmission speeds mega ##bit ##s per second works distances miles kent likely site uk ##s first wi ##max network due go live could way rural areas [SEP]\n"
          ]
        },
        {
          "output_type": "stream",
          "name": "stderr",
          "text": [
            "INFO:tensorflow:tokens: [CLS] geek ga ##dget fan next months look like going lot fun relentless pace development hit ##ech world rampant competition many sectors particularly among mobile phone firms suggests going good year begin year third ##gen ##eration g mobile phones become in ##es ##cap ##able network launched vo ##da ##fo ##ne launched consumer service november orange followed early december t ##mobile o due launch main result launches likely sl ##ew good deals consumers operators try po ##ach new customers rivals convince existing users trade already extra capacity g networks lets offer good deals voice calls rates probably matched operators shift technology low cost voice calls means operators lose significant chunk revenue show operator believes voice business sustain ill write obituary said ni ##el ransom chief technology officer al ##cate ##l instead operators likely push things g phones video messaging multimedia capabilities already camera phones look set challenge digital cameras likely win fans multi ##me ##ga ##pi ##x ##el devices go sale g everything way face competition emerging technologies wi ##max wireless technology boost data transmission speeds mega ##bit ##s per second works distances miles kent likely site uk ##s first wi ##max network due go live could way rural areas [SEP]\n"
          ]
        },
        {
          "output_type": "stream",
          "name": "stdout",
          "text": [
            "INFO:tensorflow:input_ids: 101 29294 11721 24291 5470 2279 2706 2298 2066 2183 2843 4569 21660 6393 2458 2718 15937 2088 25883 2971 2116 11105 3391 2426 4684 3042 9786 6083 2183 2204 2095 4088 2095 2353 6914 16754 1043 4684 11640 2468 1999 2229 17695 3085 2897 3390 29536 2850 14876 2638 3390 7325 2326 2281 4589 2628 2220 2285 1056 17751 1051 2349 4888 2364 2765 18989 3497 22889 7974 2204 9144 10390 9224 3046 13433 6776 2047 6304 9169 8054 4493 5198 3119 2525 4469 3977 1043 6125 11082 3749 2204 9144 2376 4455 6165 2763 10349 9224 5670 2974 2659 3465 2376 4455 2965 9224 4558 3278 20000 6599 2265 6872 7164 2376 2449 15770 5665 4339 20815 2056 9152 2884 16540 2708 2974 2961 2632 16280 2140 2612 9224 3497 5245 2477 1043 11640 2678 24732 14959 9859 2525 4950 11640 2298 2275 4119 3617 8629 3497 2663 4599 4800 4168 3654 8197 2595 2884 5733 2175 5096 1043 2673 2126 2227 2971 8361 6786 15536 17848 9949 2974 12992 2951 6726 10898 13164 16313 2015 2566 2117 2573 12103 2661 5982 3497 2609 2866 2015 2034 15536 17848 2897 2349 2175 2444 2071 2126 3541 2752 102\n"
          ]
        },
        {
          "output_type": "stream",
          "name": "stderr",
          "text": [
            "INFO:tensorflow:input_ids: 101 29294 11721 24291 5470 2279 2706 2298 2066 2183 2843 4569 21660 6393 2458 2718 15937 2088 25883 2971 2116 11105 3391 2426 4684 3042 9786 6083 2183 2204 2095 4088 2095 2353 6914 16754 1043 4684 11640 2468 1999 2229 17695 3085 2897 3390 29536 2850 14876 2638 3390 7325 2326 2281 4589 2628 2220 2285 1056 17751 1051 2349 4888 2364 2765 18989 3497 22889 7974 2204 9144 10390 9224 3046 13433 6776 2047 6304 9169 8054 4493 5198 3119 2525 4469 3977 1043 6125 11082 3749 2204 9144 2376 4455 6165 2763 10349 9224 5670 2974 2659 3465 2376 4455 2965 9224 4558 3278 20000 6599 2265 6872 7164 2376 2449 15770 5665 4339 20815 2056 9152 2884 16540 2708 2974 2961 2632 16280 2140 2612 9224 3497 5245 2477 1043 11640 2678 24732 14959 9859 2525 4950 11640 2298 2275 4119 3617 8629 3497 2663 4599 4800 4168 3654 8197 2595 2884 5733 2175 5096 1043 2673 2126 2227 2971 8361 6786 15536 17848 9949 2974 12992 2951 6726 10898 13164 16313 2015 2566 2117 2573 12103 2661 5982 3497 2609 2866 2015 2034 15536 17848 2897 2349 2175 2444 2071 2126 3541 2752 102\n"
          ]
        },
        {
          "output_type": "stream",
          "name": "stdout",
          "text": [
            "INFO:tensorflow:input_mask: 1 1 1 1 1 1 1 1 1 1 1 1 1 1 1 1 1 1 1 1 1 1 1 1 1 1 1 1 1 1 1 1 1 1 1 1 1 1 1 1 1 1 1 1 1 1 1 1 1 1 1 1 1 1 1 1 1 1 1 1 1 1 1 1 1 1 1 1 1 1 1 1 1 1 1 1 1 1 1 1 1 1 1 1 1 1 1 1 1 1 1 1 1 1 1 1 1 1 1 1 1 1 1 1 1 1 1 1 1 1 1 1 1 1 1 1 1 1 1 1 1 1 1 1 1 1 1 1 1 1 1 1 1 1 1 1 1 1 1 1 1 1 1 1 1 1 1 1 1 1 1 1 1 1 1 1 1 1 1 1 1 1 1 1 1 1 1 1 1 1 1 1 1 1 1 1 1 1 1 1 1 1 1 1 1 1 1 1 1 1 1 1 1 1 1 1 1 1 1 1\n"
          ]
        },
        {
          "output_type": "stream",
          "name": "stderr",
          "text": [
            "INFO:tensorflow:input_mask: 1 1 1 1 1 1 1 1 1 1 1 1 1 1 1 1 1 1 1 1 1 1 1 1 1 1 1 1 1 1 1 1 1 1 1 1 1 1 1 1 1 1 1 1 1 1 1 1 1 1 1 1 1 1 1 1 1 1 1 1 1 1 1 1 1 1 1 1 1 1 1 1 1 1 1 1 1 1 1 1 1 1 1 1 1 1 1 1 1 1 1 1 1 1 1 1 1 1 1 1 1 1 1 1 1 1 1 1 1 1 1 1 1 1 1 1 1 1 1 1 1 1 1 1 1 1 1 1 1 1 1 1 1 1 1 1 1 1 1 1 1 1 1 1 1 1 1 1 1 1 1 1 1 1 1 1 1 1 1 1 1 1 1 1 1 1 1 1 1 1 1 1 1 1 1 1 1 1 1 1 1 1 1 1 1 1 1 1 1 1 1 1 1 1 1 1 1 1 1 1\n"
          ]
        },
        {
          "output_type": "stream",
          "name": "stdout",
          "text": [
            "INFO:tensorflow:segment_ids: 0 0 0 0 0 0 0 0 0 0 0 0 0 0 0 0 0 0 0 0 0 0 0 0 0 0 0 0 0 0 0 0 0 0 0 0 0 0 0 0 0 0 0 0 0 0 0 0 0 0 0 0 0 0 0 0 0 0 0 0 0 0 0 0 0 0 0 0 0 0 0 0 0 0 0 0 0 0 0 0 0 0 0 0 0 0 0 0 0 0 0 0 0 0 0 0 0 0 0 0 0 0 0 0 0 0 0 0 0 0 0 0 0 0 0 0 0 0 0 0 0 0 0 0 0 0 0 0 0 0 0 0 0 0 0 0 0 0 0 0 0 0 0 0 0 0 0 0 0 0 0 0 0 0 0 0 0 0 0 0 0 0 0 0 0 0 0 0 0 0 0 0 0 0 0 0 0 0 0 0 0 0 0 0 0 0 0 0 0 0 0 0 0 0 0 0 0 0 0 0\n"
          ]
        },
        {
          "output_type": "stream",
          "name": "stderr",
          "text": [
            "INFO:tensorflow:segment_ids: 0 0 0 0 0 0 0 0 0 0 0 0 0 0 0 0 0 0 0 0 0 0 0 0 0 0 0 0 0 0 0 0 0 0 0 0 0 0 0 0 0 0 0 0 0 0 0 0 0 0 0 0 0 0 0 0 0 0 0 0 0 0 0 0 0 0 0 0 0 0 0 0 0 0 0 0 0 0 0 0 0 0 0 0 0 0 0 0 0 0 0 0 0 0 0 0 0 0 0 0 0 0 0 0 0 0 0 0 0 0 0 0 0 0 0 0 0 0 0 0 0 0 0 0 0 0 0 0 0 0 0 0 0 0 0 0 0 0 0 0 0 0 0 0 0 0 0 0 0 0 0 0 0 0 0 0 0 0 0 0 0 0 0 0 0 0 0 0 0 0 0 0 0 0 0 0 0 0 0 0 0 0 0 0 0 0 0 0 0 0 0 0 0 0 0 0 0 0 0 0\n"
          ]
        },
        {
          "output_type": "stream",
          "name": "stdout",
          "text": [
            "INFO:tensorflow:label: 4 (id = 4)\n"
          ]
        },
        {
          "output_type": "stream",
          "name": "stderr",
          "text": [
            "INFO:tensorflow:label: 4 (id = 4)\n"
          ]
        },
        {
          "output_type": "stream",
          "name": "stdout",
          "text": [
            "INFO:tensorflow:*** Example ***\n"
          ]
        },
        {
          "output_type": "stream",
          "name": "stderr",
          "text": [
            "INFO:tensorflow:*** Example ***\n"
          ]
        },
        {
          "output_type": "stream",
          "name": "stdout",
          "text": [
            "INFO:tensorflow:guid: None\n"
          ]
        },
        {
          "output_type": "stream",
          "name": "stderr",
          "text": [
            "INFO:tensorflow:guid: None\n"
          ]
        },
        {
          "output_type": "stream",
          "name": "stdout",
          "text": [
            "INFO:tensorflow:tokens: [CLS] lessons music piracy copyright issues taught secondary school pupils uk lessons aimed year ##old ##s introduce copyright including issues download ##ing internet illegal copying cds role protecting creativity music piracy including illegally swap ##ping music online costs uk music industry millions every year blamed decline worldwide cd sales british music rights b ##m ##r formed represent interests songwriters composers worked education experts put together learning pack songwriter guy chambers worked stars including robbie williams thrown support behind scheme said well educating children music piracy would also protect young people planning career music industry un ##sc ##rup ##ulous individuals debate london launch scheme chambers said think important young people receive practical engaging learning schools lessons give insight creative industries work help possible future careers education pack already requested secondary schools aimed giving children understanding copyright relation music industry also teach children importance royalties raises awareness different careers music industry particularly digital age henri yo ##xa ##ll general manager british music rights told bbc news schools crying resource help educate pupils issues scheme extension b ##m ##rs respect value music campaign also backed singers ##ong ##writer ##s fear ##gal shark ##ey lucie silva ##s grammy award ##win ##ning composer david [SEP]\n"
          ]
        },
        {
          "output_type": "stream",
          "name": "stderr",
          "text": [
            "INFO:tensorflow:tokens: [CLS] lessons music piracy copyright issues taught secondary school pupils uk lessons aimed year ##old ##s introduce copyright including issues download ##ing internet illegal copying cds role protecting creativity music piracy including illegally swap ##ping music online costs uk music industry millions every year blamed decline worldwide cd sales british music rights b ##m ##r formed represent interests songwriters composers worked education experts put together learning pack songwriter guy chambers worked stars including robbie williams thrown support behind scheme said well educating children music piracy would also protect young people planning career music industry un ##sc ##rup ##ulous individuals debate london launch scheme chambers said think important young people receive practical engaging learning schools lessons give insight creative industries work help possible future careers education pack already requested secondary schools aimed giving children understanding copyright relation music industry also teach children importance royalties raises awareness different careers music industry particularly digital age henri yo ##xa ##ll general manager british music rights told bbc news schools crying resource help educate pupils issues scheme extension b ##m ##rs respect value music campaign also backed singers ##ong ##writer ##s fear ##gal shark ##ey lucie silva ##s grammy award ##win ##ning composer david [SEP]\n"
          ]
        },
        {
          "output_type": "stream",
          "name": "stdout",
          "text": [
            "INFO:tensorflow:input_ids: 101 8220 2189 24386 9385 3314 4036 3905 2082 7391 2866 8220 6461 2095 11614 2015 8970 9385 2164 3314 8816 2075 4274 6206 24731 14340 2535 8650 14842 2189 24386 2164 17800 19948 4691 2189 3784 5366 2866 2189 3068 8817 2296 2095 11248 6689 4969 3729 4341 2329 2189 2916 1038 2213 2099 2719 5050 5426 20602 9929 2499 2495 8519 2404 2362 4083 5308 6009 3124 8477 2499 3340 2164 12289 3766 6908 2490 2369 5679 2056 2092 25088 2336 2189 24386 2052 2036 4047 2402 2111 4041 2476 2189 3068 4895 11020 21531 16203 3633 5981 2414 4888 5679 8477 2056 2228 2590 2402 2111 4374 6742 11973 4083 2816 8220 2507 12369 5541 6088 2147 2393 2825 2925 10922 2495 5308 2525 7303 3905 2816 6461 3228 2336 4824 9385 7189 2189 3068 2036 6570 2336 5197 25335 13275 7073 2367 10922 2189 3068 3391 3617 2287 8863 10930 18684 3363 2236 3208 2329 2189 2916 2409 4035 2739 2816 6933 7692 2393 16957 7391 3314 5679 5331 1038 2213 2869 4847 3643 2189 3049 2036 6153 8453 5063 15994 2015 3571 9692 11420 3240 28831 11183 2015 8922 2400 10105 5582 4543 2585 102\n"
          ]
        },
        {
          "output_type": "stream",
          "name": "stderr",
          "text": [
            "INFO:tensorflow:input_ids: 101 8220 2189 24386 9385 3314 4036 3905 2082 7391 2866 8220 6461 2095 11614 2015 8970 9385 2164 3314 8816 2075 4274 6206 24731 14340 2535 8650 14842 2189 24386 2164 17800 19948 4691 2189 3784 5366 2866 2189 3068 8817 2296 2095 11248 6689 4969 3729 4341 2329 2189 2916 1038 2213 2099 2719 5050 5426 20602 9929 2499 2495 8519 2404 2362 4083 5308 6009 3124 8477 2499 3340 2164 12289 3766 6908 2490 2369 5679 2056 2092 25088 2336 2189 24386 2052 2036 4047 2402 2111 4041 2476 2189 3068 4895 11020 21531 16203 3633 5981 2414 4888 5679 8477 2056 2228 2590 2402 2111 4374 6742 11973 4083 2816 8220 2507 12369 5541 6088 2147 2393 2825 2925 10922 2495 5308 2525 7303 3905 2816 6461 3228 2336 4824 9385 7189 2189 3068 2036 6570 2336 5197 25335 13275 7073 2367 10922 2189 3068 3391 3617 2287 8863 10930 18684 3363 2236 3208 2329 2189 2916 2409 4035 2739 2816 6933 7692 2393 16957 7391 3314 5679 5331 1038 2213 2869 4847 3643 2189 3049 2036 6153 8453 5063 15994 2015 3571 9692 11420 3240 28831 11183 2015 8922 2400 10105 5582 4543 2585 102\n"
          ]
        },
        {
          "output_type": "stream",
          "name": "stdout",
          "text": [
            "INFO:tensorflow:input_mask: 1 1 1 1 1 1 1 1 1 1 1 1 1 1 1 1 1 1 1 1 1 1 1 1 1 1 1 1 1 1 1 1 1 1 1 1 1 1 1 1 1 1 1 1 1 1 1 1 1 1 1 1 1 1 1 1 1 1 1 1 1 1 1 1 1 1 1 1 1 1 1 1 1 1 1 1 1 1 1 1 1 1 1 1 1 1 1 1 1 1 1 1 1 1 1 1 1 1 1 1 1 1 1 1 1 1 1 1 1 1 1 1 1 1 1 1 1 1 1 1 1 1 1 1 1 1 1 1 1 1 1 1 1 1 1 1 1 1 1 1 1 1 1 1 1 1 1 1 1 1 1 1 1 1 1 1 1 1 1 1 1 1 1 1 1 1 1 1 1 1 1 1 1 1 1 1 1 1 1 1 1 1 1 1 1 1 1 1 1 1 1 1 1 1 1 1 1 1 1 1\n"
          ]
        },
        {
          "output_type": "stream",
          "name": "stderr",
          "text": [
            "INFO:tensorflow:input_mask: 1 1 1 1 1 1 1 1 1 1 1 1 1 1 1 1 1 1 1 1 1 1 1 1 1 1 1 1 1 1 1 1 1 1 1 1 1 1 1 1 1 1 1 1 1 1 1 1 1 1 1 1 1 1 1 1 1 1 1 1 1 1 1 1 1 1 1 1 1 1 1 1 1 1 1 1 1 1 1 1 1 1 1 1 1 1 1 1 1 1 1 1 1 1 1 1 1 1 1 1 1 1 1 1 1 1 1 1 1 1 1 1 1 1 1 1 1 1 1 1 1 1 1 1 1 1 1 1 1 1 1 1 1 1 1 1 1 1 1 1 1 1 1 1 1 1 1 1 1 1 1 1 1 1 1 1 1 1 1 1 1 1 1 1 1 1 1 1 1 1 1 1 1 1 1 1 1 1 1 1 1 1 1 1 1 1 1 1 1 1 1 1 1 1 1 1 1 1 1 1\n"
          ]
        },
        {
          "output_type": "stream",
          "name": "stdout",
          "text": [
            "INFO:tensorflow:segment_ids: 0 0 0 0 0 0 0 0 0 0 0 0 0 0 0 0 0 0 0 0 0 0 0 0 0 0 0 0 0 0 0 0 0 0 0 0 0 0 0 0 0 0 0 0 0 0 0 0 0 0 0 0 0 0 0 0 0 0 0 0 0 0 0 0 0 0 0 0 0 0 0 0 0 0 0 0 0 0 0 0 0 0 0 0 0 0 0 0 0 0 0 0 0 0 0 0 0 0 0 0 0 0 0 0 0 0 0 0 0 0 0 0 0 0 0 0 0 0 0 0 0 0 0 0 0 0 0 0 0 0 0 0 0 0 0 0 0 0 0 0 0 0 0 0 0 0 0 0 0 0 0 0 0 0 0 0 0 0 0 0 0 0 0 0 0 0 0 0 0 0 0 0 0 0 0 0 0 0 0 0 0 0 0 0 0 0 0 0 0 0 0 0 0 0 0 0 0 0 0 0\n"
          ]
        },
        {
          "output_type": "stream",
          "name": "stderr",
          "text": [
            "INFO:tensorflow:segment_ids: 0 0 0 0 0 0 0 0 0 0 0 0 0 0 0 0 0 0 0 0 0 0 0 0 0 0 0 0 0 0 0 0 0 0 0 0 0 0 0 0 0 0 0 0 0 0 0 0 0 0 0 0 0 0 0 0 0 0 0 0 0 0 0 0 0 0 0 0 0 0 0 0 0 0 0 0 0 0 0 0 0 0 0 0 0 0 0 0 0 0 0 0 0 0 0 0 0 0 0 0 0 0 0 0 0 0 0 0 0 0 0 0 0 0 0 0 0 0 0 0 0 0 0 0 0 0 0 0 0 0 0 0 0 0 0 0 0 0 0 0 0 0 0 0 0 0 0 0 0 0 0 0 0 0 0 0 0 0 0 0 0 0 0 0 0 0 0 0 0 0 0 0 0 0 0 0 0 0 0 0 0 0 0 0 0 0 0 0 0 0 0 0 0 0 0 0 0 0 0 0\n"
          ]
        },
        {
          "output_type": "stream",
          "name": "stdout",
          "text": [
            "INFO:tensorflow:label: 1 (id = 1)\n"
          ]
        },
        {
          "output_type": "stream",
          "name": "stderr",
          "text": [
            "INFO:tensorflow:label: 1 (id = 1)\n"
          ]
        },
        {
          "output_type": "stream",
          "name": "stdout",
          "text": [
            "INFO:tensorflow:*** Example ***\n"
          ]
        },
        {
          "output_type": "stream",
          "name": "stderr",
          "text": [
            "INFO:tensorflow:*** Example ***\n"
          ]
        },
        {
          "output_type": "stream",
          "name": "stdout",
          "text": [
            "INFO:tensorflow:guid: None\n"
          ]
        },
        {
          "output_type": "stream",
          "name": "stderr",
          "text": [
            "INFO:tensorflow:guid: None\n"
          ]
        },
        {
          "output_type": "stream",
          "name": "stdout",
          "text": [
            "INFO:tensorflow:tokens: [CLS] ab ##n am ##ro netherlands largest bank cut jobs result falling profits cuts amount ##ing banks workforce result one ##off charge m euros bn jobs go investment banking go human resources respectively ab ##n am ##ro third large european bank announce cut ##backs past month following deutsche bank credit sui ##sse group profit ##ability hit fall mortgage lending united states banks largest single market following recent interest rate rises ab ##n am ##ros operations netherlands united kingdom hardest hit jobs also lost us accounted profit first half across operations americas asia ##pac ##ific regions restructuring designed improve efficiency reducing administrative costs increasing focus client service bank said course rise net income year operating profits set fall fall us revenues ab ##n am ##ro currently staff get profit growth coming years lower costs shed ##ding jobs makes total sense ivo ge ##ij ##sen analyst bank o ##yen ##s van ee ##gh ##en told bloomberg europe ##s leading banks seem set period re ##tre ##nch ##ment deutsche bank said earlier month would reduce german workforce many jobs lost credit sui ##sse first boston [SEP]\n"
          ]
        },
        {
          "output_type": "stream",
          "name": "stderr",
          "text": [
            "INFO:tensorflow:tokens: [CLS] ab ##n am ##ro netherlands largest bank cut jobs result falling profits cuts amount ##ing banks workforce result one ##off charge m euros bn jobs go investment banking go human resources respectively ab ##n am ##ro third large european bank announce cut ##backs past month following deutsche bank credit sui ##sse group profit ##ability hit fall mortgage lending united states banks largest single market following recent interest rate rises ab ##n am ##ros operations netherlands united kingdom hardest hit jobs also lost us accounted profit first half across operations americas asia ##pac ##ific regions restructuring designed improve efficiency reducing administrative costs increasing focus client service bank said course rise net income year operating profits set fall fall us revenues ab ##n am ##ro currently staff get profit growth coming years lower costs shed ##ding jobs makes total sense ivo ge ##ij ##sen analyst bank o ##yen ##s van ee ##gh ##en told bloomberg europe ##s leading banks seem set period re ##tre ##nch ##ment deutsche bank said earlier month would reduce german workforce many jobs lost credit sui ##sse first boston [SEP]\n"
          ]
        },
        {
          "output_type": "stream",
          "name": "stdout",
          "text": [
            "INFO:tensorflow:input_ids: 101 11113 2078 2572 3217 4549 2922 2924 3013 5841 2765 4634 11372 7659 3815 2075 5085 14877 2765 2028 7245 3715 1049 19329 24869 5841 2175 5211 8169 2175 2529 4219 4414 11113 2078 2572 3217 2353 2312 2647 2924 14970 3013 12221 2627 3204 2206 11605 2924 4923 24086 11393 2177 5618 8010 2718 2991 14344 18435 2142 2163 5085 2922 2309 3006 2206 3522 3037 3446 9466 11113 2078 2572 7352 3136 4549 2142 2983 18263 2718 5841 2036 2439 2149 14729 5618 2034 2431 2408 3136 10925 4021 19498 18513 4655 18322 2881 5335 8122 8161 3831 5366 4852 3579 7396 2326 2924 2056 2607 4125 5658 3318 2095 4082 11372 2275 2991 2991 2149 12594 11113 2078 2572 3217 2747 3095 2131 5618 3930 2746 2086 2896 5366 8328 4667 5841 3084 2561 3168 28346 16216 28418 5054 12941 2924 1051 20684 2015 3158 25212 5603 2368 2409 22950 2885 2015 2877 5085 4025 2275 2558 2128 7913 12680 3672 11605 2924 2056 3041 3204 2052 5547 2446 14877 2116 5841 2439 4923 24086 11393 2034 3731 102 0 0 0 0 0 0 0 0 0 0 0 0 0 0 0 0 0\n"
          ]
        },
        {
          "output_type": "stream",
          "name": "stderr",
          "text": [
            "INFO:tensorflow:input_ids: 101 11113 2078 2572 3217 4549 2922 2924 3013 5841 2765 4634 11372 7659 3815 2075 5085 14877 2765 2028 7245 3715 1049 19329 24869 5841 2175 5211 8169 2175 2529 4219 4414 11113 2078 2572 3217 2353 2312 2647 2924 14970 3013 12221 2627 3204 2206 11605 2924 4923 24086 11393 2177 5618 8010 2718 2991 14344 18435 2142 2163 5085 2922 2309 3006 2206 3522 3037 3446 9466 11113 2078 2572 7352 3136 4549 2142 2983 18263 2718 5841 2036 2439 2149 14729 5618 2034 2431 2408 3136 10925 4021 19498 18513 4655 18322 2881 5335 8122 8161 3831 5366 4852 3579 7396 2326 2924 2056 2607 4125 5658 3318 2095 4082 11372 2275 2991 2991 2149 12594 11113 2078 2572 3217 2747 3095 2131 5618 3930 2746 2086 2896 5366 8328 4667 5841 3084 2561 3168 28346 16216 28418 5054 12941 2924 1051 20684 2015 3158 25212 5603 2368 2409 22950 2885 2015 2877 5085 4025 2275 2558 2128 7913 12680 3672 11605 2924 2056 3041 3204 2052 5547 2446 14877 2116 5841 2439 4923 24086 11393 2034 3731 102 0 0 0 0 0 0 0 0 0 0 0 0 0 0 0 0 0\n"
          ]
        },
        {
          "output_type": "stream",
          "name": "stdout",
          "text": [
            "INFO:tensorflow:input_mask: 1 1 1 1 1 1 1 1 1 1 1 1 1 1 1 1 1 1 1 1 1 1 1 1 1 1 1 1 1 1 1 1 1 1 1 1 1 1 1 1 1 1 1 1 1 1 1 1 1 1 1 1 1 1 1 1 1 1 1 1 1 1 1 1 1 1 1 1 1 1 1 1 1 1 1 1 1 1 1 1 1 1 1 1 1 1 1 1 1 1 1 1 1 1 1 1 1 1 1 1 1 1 1 1 1 1 1 1 1 1 1 1 1 1 1 1 1 1 1 1 1 1 1 1 1 1 1 1 1 1 1 1 1 1 1 1 1 1 1 1 1 1 1 1 1 1 1 1 1 1 1 1 1 1 1 1 1 1 1 1 1 1 1 1 1 1 1 1 1 1 1 1 1 1 1 1 1 1 1 1 1 1 1 0 0 0 0 0 0 0 0 0 0 0 0 0 0 0 0 0\n"
          ]
        },
        {
          "output_type": "stream",
          "name": "stderr",
          "text": [
            "INFO:tensorflow:input_mask: 1 1 1 1 1 1 1 1 1 1 1 1 1 1 1 1 1 1 1 1 1 1 1 1 1 1 1 1 1 1 1 1 1 1 1 1 1 1 1 1 1 1 1 1 1 1 1 1 1 1 1 1 1 1 1 1 1 1 1 1 1 1 1 1 1 1 1 1 1 1 1 1 1 1 1 1 1 1 1 1 1 1 1 1 1 1 1 1 1 1 1 1 1 1 1 1 1 1 1 1 1 1 1 1 1 1 1 1 1 1 1 1 1 1 1 1 1 1 1 1 1 1 1 1 1 1 1 1 1 1 1 1 1 1 1 1 1 1 1 1 1 1 1 1 1 1 1 1 1 1 1 1 1 1 1 1 1 1 1 1 1 1 1 1 1 1 1 1 1 1 1 1 1 1 1 1 1 1 1 1 1 1 1 0 0 0 0 0 0 0 0 0 0 0 0 0 0 0 0 0\n"
          ]
        },
        {
          "output_type": "stream",
          "name": "stdout",
          "text": [
            "INFO:tensorflow:segment_ids: 0 0 0 0 0 0 0 0 0 0 0 0 0 0 0 0 0 0 0 0 0 0 0 0 0 0 0 0 0 0 0 0 0 0 0 0 0 0 0 0 0 0 0 0 0 0 0 0 0 0 0 0 0 0 0 0 0 0 0 0 0 0 0 0 0 0 0 0 0 0 0 0 0 0 0 0 0 0 0 0 0 0 0 0 0 0 0 0 0 0 0 0 0 0 0 0 0 0 0 0 0 0 0 0 0 0 0 0 0 0 0 0 0 0 0 0 0 0 0 0 0 0 0 0 0 0 0 0 0 0 0 0 0 0 0 0 0 0 0 0 0 0 0 0 0 0 0 0 0 0 0 0 0 0 0 0 0 0 0 0 0 0 0 0 0 0 0 0 0 0 0 0 0 0 0 0 0 0 0 0 0 0 0 0 0 0 0 0 0 0 0 0 0 0 0 0 0 0 0 0\n"
          ]
        },
        {
          "output_type": "stream",
          "name": "stderr",
          "text": [
            "INFO:tensorflow:segment_ids: 0 0 0 0 0 0 0 0 0 0 0 0 0 0 0 0 0 0 0 0 0 0 0 0 0 0 0 0 0 0 0 0 0 0 0 0 0 0 0 0 0 0 0 0 0 0 0 0 0 0 0 0 0 0 0 0 0 0 0 0 0 0 0 0 0 0 0 0 0 0 0 0 0 0 0 0 0 0 0 0 0 0 0 0 0 0 0 0 0 0 0 0 0 0 0 0 0 0 0 0 0 0 0 0 0 0 0 0 0 0 0 0 0 0 0 0 0 0 0 0 0 0 0 0 0 0 0 0 0 0 0 0 0 0 0 0 0 0 0 0 0 0 0 0 0 0 0 0 0 0 0 0 0 0 0 0 0 0 0 0 0 0 0 0 0 0 0 0 0 0 0 0 0 0 0 0 0 0 0 0 0 0 0 0 0 0 0 0 0 0 0 0 0 0 0 0 0 0 0 0\n"
          ]
        },
        {
          "output_type": "stream",
          "name": "stdout",
          "text": [
            "INFO:tensorflow:label: 0 (id = 0)\n"
          ]
        },
        {
          "output_type": "stream",
          "name": "stderr",
          "text": [
            "INFO:tensorflow:label: 0 (id = 0)\n"
          ]
        },
        {
          "output_type": "stream",
          "name": "stdout",
          "text": [
            "INFO:tensorflow:*** Example ***\n"
          ]
        },
        {
          "output_type": "stream",
          "name": "stderr",
          "text": [
            "INFO:tensorflow:*** Example ***\n"
          ]
        },
        {
          "output_type": "stream",
          "name": "stdout",
          "text": [
            "INFO:tensorflow:guid: None\n"
          ]
        },
        {
          "output_type": "stream",
          "name": "stderr",
          "text": [
            "INFO:tensorflow:guid: None\n"
          ]
        },
        {
          "output_type": "stream",
          "name": "stdout",
          "text": [
            "INFO:tensorflow:tokens: [CLS] indian telecommunications firm turned lasers help overcome problems setting voice data networks country tata tel ##ese ##r ##vic ##es using lasers make link customers offices core network laser bridges work across distances km set much faster cable connections months lasers helped firm set networks locations particular geography getting permission dig ground lay pipes bit task said mr r sri ##dhar ##an vice president networks tata heavy traffic layout ground mean digging uniquely difficult said locations said permission dig roads lay cables impossible get said far easier secure permission putting networking hardware roofs led chennai ##base ##d tata turn equipment uses lasers make final mile leap tata ##s core network premises customers light ##point ##e laser bridges work distances km used route voice data businesses backbone network hardware works pairs beam data air form laser pulses laser bridges route data speeds gb ##ps times faster kb ##ps broadband connection tata running hardware modest speeds mb ##ps lasers also ideal india climate particularly suitable rain rate little low hardly ever fog ##gy said places rain heavy fog common laser links struggle maintain good connection speeds laser links also take far less time set get working said mr sri ##dhar ##an [SEP]\n"
          ]
        },
        {
          "output_type": "stream",
          "name": "stderr",
          "text": [
            "INFO:tensorflow:tokens: [CLS] indian telecommunications firm turned lasers help overcome problems setting voice data networks country tata tel ##ese ##r ##vic ##es using lasers make link customers offices core network laser bridges work across distances km set much faster cable connections months lasers helped firm set networks locations particular geography getting permission dig ground lay pipes bit task said mr r sri ##dhar ##an vice president networks tata heavy traffic layout ground mean digging uniquely difficult said locations said permission dig roads lay cables impossible get said far easier secure permission putting networking hardware roofs led chennai ##base ##d tata turn equipment uses lasers make final mile leap tata ##s core network premises customers light ##point ##e laser bridges work distances km used route voice data businesses backbone network hardware works pairs beam data air form laser pulses laser bridges route data speeds gb ##ps times faster kb ##ps broadband connection tata running hardware modest speeds mb ##ps lasers also ideal india climate particularly suitable rain rate little low hardly ever fog ##gy said places rain heavy fog common laser links struggle maintain good connection speeds laser links also take far less time set get working said mr sri ##dhar ##an [SEP]\n"
          ]
        },
        {
          "output_type": "stream",
          "name": "stdout",
          "text": [
            "INFO:tensorflow:input_ids: 101 2796 12108 3813 2357 23965 2393 9462 3471 4292 2376 2951 6125 2406 23236 10093 6810 2099 7903 2229 2478 23965 2191 4957 6304 4822 4563 2897 9138 7346 2147 2408 12103 2463 2275 2172 5514 5830 7264 2706 23965 3271 3813 2275 6125 5269 3327 10505 2893 6656 10667 2598 3913 12432 2978 4708 2056 2720 1054 5185 25632 2319 3580 2343 6125 23236 3082 4026 9621 2598 2812 10443 20640 3697 2056 5269 2056 6656 10667 4925 3913 15196 5263 2131 2056 2521 6082 5851 6656 5128 14048 8051 15753 2419 12249 15058 2094 23236 2735 3941 3594 23965 2191 2345 3542 11679 23236 2015 4563 2897 10345 6304 2422 8400 2063 9138 7346 2147 12103 2463 2109 2799 2376 2951 5661 21505 2897 8051 2573 7689 7504 2951 2250 2433 9138 23894 9138 7346 2799 2951 10898 16351 4523 2335 5514 21677 4523 19595 4434 23236 2770 8051 10754 10898 16914 4523 23965 2036 7812 2634 4785 3391 7218 4542 3446 2210 2659 6684 2412 9666 6292 2056 3182 4542 3082 9666 2691 9138 6971 5998 5441 2204 4434 10898 9138 6971 2036 2202 2521 2625 2051 2275 2131 2551 2056 2720 5185 25632 2319 102\n"
          ]
        },
        {
          "output_type": "stream",
          "name": "stderr",
          "text": [
            "INFO:tensorflow:input_ids: 101 2796 12108 3813 2357 23965 2393 9462 3471 4292 2376 2951 6125 2406 23236 10093 6810 2099 7903 2229 2478 23965 2191 4957 6304 4822 4563 2897 9138 7346 2147 2408 12103 2463 2275 2172 5514 5830 7264 2706 23965 3271 3813 2275 6125 5269 3327 10505 2893 6656 10667 2598 3913 12432 2978 4708 2056 2720 1054 5185 25632 2319 3580 2343 6125 23236 3082 4026 9621 2598 2812 10443 20640 3697 2056 5269 2056 6656 10667 4925 3913 15196 5263 2131 2056 2521 6082 5851 6656 5128 14048 8051 15753 2419 12249 15058 2094 23236 2735 3941 3594 23965 2191 2345 3542 11679 23236 2015 4563 2897 10345 6304 2422 8400 2063 9138 7346 2147 12103 2463 2109 2799 2376 2951 5661 21505 2897 8051 2573 7689 7504 2951 2250 2433 9138 23894 9138 7346 2799 2951 10898 16351 4523 2335 5514 21677 4523 19595 4434 23236 2770 8051 10754 10898 16914 4523 23965 2036 7812 2634 4785 3391 7218 4542 3446 2210 2659 6684 2412 9666 6292 2056 3182 4542 3082 9666 2691 9138 6971 5998 5441 2204 4434 10898 9138 6971 2036 2202 2521 2625 2051 2275 2131 2551 2056 2720 5185 25632 2319 102\n"
          ]
        },
        {
          "output_type": "stream",
          "name": "stdout",
          "text": [
            "INFO:tensorflow:input_mask: 1 1 1 1 1 1 1 1 1 1 1 1 1 1 1 1 1 1 1 1 1 1 1 1 1 1 1 1 1 1 1 1 1 1 1 1 1 1 1 1 1 1 1 1 1 1 1 1 1 1 1 1 1 1 1 1 1 1 1 1 1 1 1 1 1 1 1 1 1 1 1 1 1 1 1 1 1 1 1 1 1 1 1 1 1 1 1 1 1 1 1 1 1 1 1 1 1 1 1 1 1 1 1 1 1 1 1 1 1 1 1 1 1 1 1 1 1 1 1 1 1 1 1 1 1 1 1 1 1 1 1 1 1 1 1 1 1 1 1 1 1 1 1 1 1 1 1 1 1 1 1 1 1 1 1 1 1 1 1 1 1 1 1 1 1 1 1 1 1 1 1 1 1 1 1 1 1 1 1 1 1 1 1 1 1 1 1 1 1 1 1 1 1 1 1 1 1 1 1 1\n"
          ]
        },
        {
          "output_type": "stream",
          "name": "stderr",
          "text": [
            "INFO:tensorflow:input_mask: 1 1 1 1 1 1 1 1 1 1 1 1 1 1 1 1 1 1 1 1 1 1 1 1 1 1 1 1 1 1 1 1 1 1 1 1 1 1 1 1 1 1 1 1 1 1 1 1 1 1 1 1 1 1 1 1 1 1 1 1 1 1 1 1 1 1 1 1 1 1 1 1 1 1 1 1 1 1 1 1 1 1 1 1 1 1 1 1 1 1 1 1 1 1 1 1 1 1 1 1 1 1 1 1 1 1 1 1 1 1 1 1 1 1 1 1 1 1 1 1 1 1 1 1 1 1 1 1 1 1 1 1 1 1 1 1 1 1 1 1 1 1 1 1 1 1 1 1 1 1 1 1 1 1 1 1 1 1 1 1 1 1 1 1 1 1 1 1 1 1 1 1 1 1 1 1 1 1 1 1 1 1 1 1 1 1 1 1 1 1 1 1 1 1 1 1 1 1 1 1\n"
          ]
        },
        {
          "output_type": "stream",
          "name": "stdout",
          "text": [
            "INFO:tensorflow:segment_ids: 0 0 0 0 0 0 0 0 0 0 0 0 0 0 0 0 0 0 0 0 0 0 0 0 0 0 0 0 0 0 0 0 0 0 0 0 0 0 0 0 0 0 0 0 0 0 0 0 0 0 0 0 0 0 0 0 0 0 0 0 0 0 0 0 0 0 0 0 0 0 0 0 0 0 0 0 0 0 0 0 0 0 0 0 0 0 0 0 0 0 0 0 0 0 0 0 0 0 0 0 0 0 0 0 0 0 0 0 0 0 0 0 0 0 0 0 0 0 0 0 0 0 0 0 0 0 0 0 0 0 0 0 0 0 0 0 0 0 0 0 0 0 0 0 0 0 0 0 0 0 0 0 0 0 0 0 0 0 0 0 0 0 0 0 0 0 0 0 0 0 0 0 0 0 0 0 0 0 0 0 0 0 0 0 0 0 0 0 0 0 0 0 0 0 0 0 0 0 0 0\n"
          ]
        },
        {
          "output_type": "stream",
          "name": "stderr",
          "text": [
            "INFO:tensorflow:segment_ids: 0 0 0 0 0 0 0 0 0 0 0 0 0 0 0 0 0 0 0 0 0 0 0 0 0 0 0 0 0 0 0 0 0 0 0 0 0 0 0 0 0 0 0 0 0 0 0 0 0 0 0 0 0 0 0 0 0 0 0 0 0 0 0 0 0 0 0 0 0 0 0 0 0 0 0 0 0 0 0 0 0 0 0 0 0 0 0 0 0 0 0 0 0 0 0 0 0 0 0 0 0 0 0 0 0 0 0 0 0 0 0 0 0 0 0 0 0 0 0 0 0 0 0 0 0 0 0 0 0 0 0 0 0 0 0 0 0 0 0 0 0 0 0 0 0 0 0 0 0 0 0 0 0 0 0 0 0 0 0 0 0 0 0 0 0 0 0 0 0 0 0 0 0 0 0 0 0 0 0 0 0 0 0 0 0 0 0 0 0 0 0 0 0 0 0 0 0 0 0 0\n"
          ]
        },
        {
          "output_type": "stream",
          "name": "stdout",
          "text": [
            "INFO:tensorflow:label: 4 (id = 4)\n"
          ]
        },
        {
          "output_type": "stream",
          "name": "stderr",
          "text": [
            "INFO:tensorflow:label: 4 (id = 4)\n"
          ]
        },
        {
          "output_type": "stream",
          "name": "stdout",
          "text": [
            "INFO:tensorflow:Writing example 0 of 100\n"
          ]
        },
        {
          "output_type": "stream",
          "name": "stderr",
          "text": [
            "INFO:tensorflow:Writing example 0 of 100\n"
          ]
        },
        {
          "output_type": "stream",
          "name": "stdout",
          "text": [
            "INFO:tensorflow:*** Example ***\n"
          ]
        },
        {
          "output_type": "stream",
          "name": "stderr",
          "text": [
            "INFO:tensorflow:*** Example ***\n"
          ]
        },
        {
          "output_type": "stream",
          "name": "stdout",
          "text": [
            "INFO:tensorflow:guid: None\n"
          ]
        },
        {
          "output_type": "stream",
          "name": "stderr",
          "text": [
            "INFO:tensorflow:guid: None\n"
          ]
        },
        {
          "output_type": "stream",
          "name": "stdout",
          "text": [
            "INFO:tensorflow:tokens: [CLS] actor ke ##anu reeves best known role matrix movies awarded star prestigious hollywood walk fame year ##old attended un ##ve ##iling star mother patricia thanked inspiring become actor years old asked mom ok actor reeves said said whatever want star th embedded pavement hollywood boulevard actor born lebanese capital beirut also spoke dropped school pursue acting career hollywood calling said got car british racing green volvo holes floor bricks holding seats young man full hopes dreams reeves first found fame teen comedy bill ted ##s excellent adventure went combine blockbuster ##s speed devils advocate matrix series smaller films including private idaho recently seen something ##s gotta give alongside jack nicholson diane ke ##aton next film supernatural thriller constantine released us later month opens uk march [SEP]\n"
          ]
        },
        {
          "output_type": "stream",
          "name": "stderr",
          "text": [
            "INFO:tensorflow:tokens: [CLS] actor ke ##anu reeves best known role matrix movies awarded star prestigious hollywood walk fame year ##old attended un ##ve ##iling star mother patricia thanked inspiring become actor years old asked mom ok actor reeves said said whatever want star th embedded pavement hollywood boulevard actor born lebanese capital beirut also spoke dropped school pursue acting career hollywood calling said got car british racing green volvo holes floor bricks holding seats young man full hopes dreams reeves first found fame teen comedy bill ted ##s excellent adventure went combine blockbuster ##s speed devils advocate matrix series smaller films including private idaho recently seen something ##s gotta give alongside jack nicholson diane ke ##aton next film supernatural thriller constantine released us later month opens uk march [SEP]\n"
          ]
        },
        {
          "output_type": "stream",
          "name": "stdout",
          "text": [
            "INFO:tensorflow:input_ids: 101 3364 17710 24076 17891 2190 2124 2535 8185 5691 3018 2732 8919 5365 3328 4476 2095 11614 3230 4895 3726 16281 2732 2388 10717 15583 18988 2468 3364 2086 2214 2356 3566 7929 3364 17891 2056 2056 3649 2215 2732 16215 11157 14271 5365 8459 3364 2141 12592 3007 15335 2036 3764 3333 2082 7323 3772 2476 5365 4214 2056 2288 2482 2329 3868 2665 21074 8198 2723 14219 3173 4272 2402 2158 2440 8069 5544 17891 2034 2179 4476 9458 4038 3021 6945 2015 6581 6172 2253 11506 27858 2015 3177 13664 8175 8185 2186 3760 3152 2164 2797 9795 3728 2464 2242 2015 10657 2507 4077 2990 16955 12082 17710 22436 2279 2143 11189 10874 12790 2207 2149 2101 3204 7480 2866 2233 102 0 0 0 0 0 0 0 0 0 0 0 0 0 0 0 0 0 0 0 0 0 0 0 0 0 0 0 0 0 0 0 0 0 0 0 0 0 0 0 0 0 0 0 0 0 0 0 0 0 0 0 0 0 0 0 0 0 0 0 0 0 0 0 0 0 0 0 0 0 0 0 0 0\n"
          ]
        },
        {
          "output_type": "stream",
          "name": "stderr",
          "text": [
            "INFO:tensorflow:input_ids: 101 3364 17710 24076 17891 2190 2124 2535 8185 5691 3018 2732 8919 5365 3328 4476 2095 11614 3230 4895 3726 16281 2732 2388 10717 15583 18988 2468 3364 2086 2214 2356 3566 7929 3364 17891 2056 2056 3649 2215 2732 16215 11157 14271 5365 8459 3364 2141 12592 3007 15335 2036 3764 3333 2082 7323 3772 2476 5365 4214 2056 2288 2482 2329 3868 2665 21074 8198 2723 14219 3173 4272 2402 2158 2440 8069 5544 17891 2034 2179 4476 9458 4038 3021 6945 2015 6581 6172 2253 11506 27858 2015 3177 13664 8175 8185 2186 3760 3152 2164 2797 9795 3728 2464 2242 2015 10657 2507 4077 2990 16955 12082 17710 22436 2279 2143 11189 10874 12790 2207 2149 2101 3204 7480 2866 2233 102 0 0 0 0 0 0 0 0 0 0 0 0 0 0 0 0 0 0 0 0 0 0 0 0 0 0 0 0 0 0 0 0 0 0 0 0 0 0 0 0 0 0 0 0 0 0 0 0 0 0 0 0 0 0 0 0 0 0 0 0 0 0 0 0 0 0 0 0 0 0 0 0 0\n"
          ]
        },
        {
          "output_type": "stream",
          "name": "stdout",
          "text": [
            "INFO:tensorflow:input_mask: 1 1 1 1 1 1 1 1 1 1 1 1 1 1 1 1 1 1 1 1 1 1 1 1 1 1 1 1 1 1 1 1 1 1 1 1 1 1 1 1 1 1 1 1 1 1 1 1 1 1 1 1 1 1 1 1 1 1 1 1 1 1 1 1 1 1 1 1 1 1 1 1 1 1 1 1 1 1 1 1 1 1 1 1 1 1 1 1 1 1 1 1 1 1 1 1 1 1 1 1 1 1 1 1 1 1 1 1 1 1 1 1 1 1 1 1 1 1 1 1 1 1 1 1 1 1 1 0 0 0 0 0 0 0 0 0 0 0 0 0 0 0 0 0 0 0 0 0 0 0 0 0 0 0 0 0 0 0 0 0 0 0 0 0 0 0 0 0 0 0 0 0 0 0 0 0 0 0 0 0 0 0 0 0 0 0 0 0 0 0 0 0 0 0 0 0 0 0 0 0\n"
          ]
        },
        {
          "output_type": "stream",
          "name": "stderr",
          "text": [
            "INFO:tensorflow:input_mask: 1 1 1 1 1 1 1 1 1 1 1 1 1 1 1 1 1 1 1 1 1 1 1 1 1 1 1 1 1 1 1 1 1 1 1 1 1 1 1 1 1 1 1 1 1 1 1 1 1 1 1 1 1 1 1 1 1 1 1 1 1 1 1 1 1 1 1 1 1 1 1 1 1 1 1 1 1 1 1 1 1 1 1 1 1 1 1 1 1 1 1 1 1 1 1 1 1 1 1 1 1 1 1 1 1 1 1 1 1 1 1 1 1 1 1 1 1 1 1 1 1 1 1 1 1 1 1 0 0 0 0 0 0 0 0 0 0 0 0 0 0 0 0 0 0 0 0 0 0 0 0 0 0 0 0 0 0 0 0 0 0 0 0 0 0 0 0 0 0 0 0 0 0 0 0 0 0 0 0 0 0 0 0 0 0 0 0 0 0 0 0 0 0 0 0 0 0 0 0 0\n"
          ]
        },
        {
          "output_type": "stream",
          "name": "stdout",
          "text": [
            "INFO:tensorflow:segment_ids: 0 0 0 0 0 0 0 0 0 0 0 0 0 0 0 0 0 0 0 0 0 0 0 0 0 0 0 0 0 0 0 0 0 0 0 0 0 0 0 0 0 0 0 0 0 0 0 0 0 0 0 0 0 0 0 0 0 0 0 0 0 0 0 0 0 0 0 0 0 0 0 0 0 0 0 0 0 0 0 0 0 0 0 0 0 0 0 0 0 0 0 0 0 0 0 0 0 0 0 0 0 0 0 0 0 0 0 0 0 0 0 0 0 0 0 0 0 0 0 0 0 0 0 0 0 0 0 0 0 0 0 0 0 0 0 0 0 0 0 0 0 0 0 0 0 0 0 0 0 0 0 0 0 0 0 0 0 0 0 0 0 0 0 0 0 0 0 0 0 0 0 0 0 0 0 0 0 0 0 0 0 0 0 0 0 0 0 0 0 0 0 0 0 0 0 0 0 0 0 0\n"
          ]
        },
        {
          "output_type": "stream",
          "name": "stderr",
          "text": [
            "INFO:tensorflow:segment_ids: 0 0 0 0 0 0 0 0 0 0 0 0 0 0 0 0 0 0 0 0 0 0 0 0 0 0 0 0 0 0 0 0 0 0 0 0 0 0 0 0 0 0 0 0 0 0 0 0 0 0 0 0 0 0 0 0 0 0 0 0 0 0 0 0 0 0 0 0 0 0 0 0 0 0 0 0 0 0 0 0 0 0 0 0 0 0 0 0 0 0 0 0 0 0 0 0 0 0 0 0 0 0 0 0 0 0 0 0 0 0 0 0 0 0 0 0 0 0 0 0 0 0 0 0 0 0 0 0 0 0 0 0 0 0 0 0 0 0 0 0 0 0 0 0 0 0 0 0 0 0 0 0 0 0 0 0 0 0 0 0 0 0 0 0 0 0 0 0 0 0 0 0 0 0 0 0 0 0 0 0 0 0 0 0 0 0 0 0 0 0 0 0 0 0 0 0 0 0 0 0\n"
          ]
        },
        {
          "output_type": "stream",
          "name": "stdout",
          "text": [
            "INFO:tensorflow:label: 1 (id = 1)\n"
          ]
        },
        {
          "output_type": "stream",
          "name": "stderr",
          "text": [
            "INFO:tensorflow:label: 1 (id = 1)\n"
          ]
        },
        {
          "output_type": "stream",
          "name": "stdout",
          "text": [
            "INFO:tensorflow:*** Example ***\n"
          ]
        },
        {
          "output_type": "stream",
          "name": "stderr",
          "text": [
            "INFO:tensorflow:*** Example ***\n"
          ]
        },
        {
          "output_type": "stream",
          "name": "stdout",
          "text": [
            "INFO:tensorflow:guid: None\n"
          ]
        },
        {
          "output_type": "stream",
          "name": "stderr",
          "text": [
            "INFO:tensorflow:guid: None\n"
          ]
        },
        {
          "output_type": "stream",
          "name": "stdout",
          "text": [
            "INFO:tensorflow:tokens: [CLS] researchers mona ##sh sw ##in ##burn ##e rm ##it universities successfully tested recorded australia ##s fastest internet data speed world single optical chip capable download ##ing high definition movies split second published prestigious journal nature communications findings potential fast ##tra ##ck next years australia ##s telecommunications capacity also possibility home ##gr ##own technology rolled across world technology capacity support highs ##peed internet connections million households melbourne australia time billions across world peak periods used new device replaces lasers one single piece equipment known micro ##comb smaller lighter existing telecommunications hardware planted load ##test ##ed using existing infrastructure mirrors used n ##bn first time micro ##comb used field trial possesses highest amount data produced single optical chip currently getting sneak ##pe ##ak infrastructure internet hold two three years time due unprecedented number people using internet remote work social ##izing streaming really showing us need able scale capacity internet connections said dr bill co ##rco ##ran cole ##ad author study lecturer electrical computer systems engineering mona ##sh university research demonstrates ability fibers already ground thanks n ##bn project backbone communications networks future we ##ve developed something scala ##ble meet future needs [SEP]\n"
          ]
        },
        {
          "output_type": "stream",
          "name": "stderr",
          "text": [
            "INFO:tensorflow:tokens: [CLS] researchers mona ##sh sw ##in ##burn ##e rm ##it universities successfully tested recorded australia ##s fastest internet data speed world single optical chip capable download ##ing high definition movies split second published prestigious journal nature communications findings potential fast ##tra ##ck next years australia ##s telecommunications capacity also possibility home ##gr ##own technology rolled across world technology capacity support highs ##peed internet connections million households melbourne australia time billions across world peak periods used new device replaces lasers one single piece equipment known micro ##comb smaller lighter existing telecommunications hardware planted load ##test ##ed using existing infrastructure mirrors used n ##bn first time micro ##comb used field trial possesses highest amount data produced single optical chip currently getting sneak ##pe ##ak infrastructure internet hold two three years time due unprecedented number people using internet remote work social ##izing streaming really showing us need able scale capacity internet connections said dr bill co ##rco ##ran cole ##ad author study lecturer electrical computer systems engineering mona ##sh university research demonstrates ability fibers already ground thanks n ##bn project backbone communications networks future we ##ve developed something scala ##ble meet future needs [SEP]\n"
          ]
        },
        {
          "output_type": "stream",
          "name": "stdout",
          "text": [
            "INFO:tensorflow:input_ids: 101 6950 13813 4095 25430 2378 8022 2063 28549 4183 5534 5147 7718 2680 2660 2015 7915 4274 2951 3177 2088 2309 9380 9090 5214 8816 2075 2152 6210 5691 3975 2117 2405 8919 3485 3267 4806 9556 4022 3435 6494 3600 2279 2086 2660 2015 12108 3977 2036 6061 2188 16523 12384 2974 4565 2408 2088 2974 3977 2490 26836 25599 4274 7264 2454 3911 4940 2660 2051 25501 2408 2088 4672 6993 2109 2047 5080 20736 23965 2028 2309 3538 3941 2124 12702 18274 3760 9442 4493 12108 8051 8461 7170 22199 2098 2478 4493 6502 13536 2109 1050 24700 2034 2051 12702 18274 2109 2492 3979 14882 3284 3815 2951 2550 2309 9380 9090 2747 2893 13583 5051 4817 6502 4274 2907 2048 2093 2086 2051 2349 15741 2193 2111 2478 4274 6556 2147 2591 6026 11058 2428 4760 2149 2342 2583 4094 3977 4274 7264 2056 2852 3021 2522 29566 5521 5624 4215 3166 2817 9162 5992 3274 3001 3330 13813 4095 2118 2470 16691 3754 16662 2525 2598 4283 1050 24700 2622 21505 4806 6125 2925 2057 3726 2764 2242 26743 3468 3113 2925 3791 102 0 0 0 0 0 0 0 0 0\n"
          ]
        },
        {
          "output_type": "stream",
          "name": "stderr",
          "text": [
            "INFO:tensorflow:input_ids: 101 6950 13813 4095 25430 2378 8022 2063 28549 4183 5534 5147 7718 2680 2660 2015 7915 4274 2951 3177 2088 2309 9380 9090 5214 8816 2075 2152 6210 5691 3975 2117 2405 8919 3485 3267 4806 9556 4022 3435 6494 3600 2279 2086 2660 2015 12108 3977 2036 6061 2188 16523 12384 2974 4565 2408 2088 2974 3977 2490 26836 25599 4274 7264 2454 3911 4940 2660 2051 25501 2408 2088 4672 6993 2109 2047 5080 20736 23965 2028 2309 3538 3941 2124 12702 18274 3760 9442 4493 12108 8051 8461 7170 22199 2098 2478 4493 6502 13536 2109 1050 24700 2034 2051 12702 18274 2109 2492 3979 14882 3284 3815 2951 2550 2309 9380 9090 2747 2893 13583 5051 4817 6502 4274 2907 2048 2093 2086 2051 2349 15741 2193 2111 2478 4274 6556 2147 2591 6026 11058 2428 4760 2149 2342 2583 4094 3977 4274 7264 2056 2852 3021 2522 29566 5521 5624 4215 3166 2817 9162 5992 3274 3001 3330 13813 4095 2118 2470 16691 3754 16662 2525 2598 4283 1050 24700 2622 21505 4806 6125 2925 2057 3726 2764 2242 26743 3468 3113 2925 3791 102 0 0 0 0 0 0 0 0 0\n"
          ]
        },
        {
          "output_type": "stream",
          "name": "stdout",
          "text": [
            "INFO:tensorflow:input_mask: 1 1 1 1 1 1 1 1 1 1 1 1 1 1 1 1 1 1 1 1 1 1 1 1 1 1 1 1 1 1 1 1 1 1 1 1 1 1 1 1 1 1 1 1 1 1 1 1 1 1 1 1 1 1 1 1 1 1 1 1 1 1 1 1 1 1 1 1 1 1 1 1 1 1 1 1 1 1 1 1 1 1 1 1 1 1 1 1 1 1 1 1 1 1 1 1 1 1 1 1 1 1 1 1 1 1 1 1 1 1 1 1 1 1 1 1 1 1 1 1 1 1 1 1 1 1 1 1 1 1 1 1 1 1 1 1 1 1 1 1 1 1 1 1 1 1 1 1 1 1 1 1 1 1 1 1 1 1 1 1 1 1 1 1 1 1 1 1 1 1 1 1 1 1 1 1 1 1 1 1 1 1 1 1 1 1 1 1 1 1 1 0 0 0 0 0 0 0 0 0\n"
          ]
        },
        {
          "output_type": "stream",
          "name": "stderr",
          "text": [
            "INFO:tensorflow:input_mask: 1 1 1 1 1 1 1 1 1 1 1 1 1 1 1 1 1 1 1 1 1 1 1 1 1 1 1 1 1 1 1 1 1 1 1 1 1 1 1 1 1 1 1 1 1 1 1 1 1 1 1 1 1 1 1 1 1 1 1 1 1 1 1 1 1 1 1 1 1 1 1 1 1 1 1 1 1 1 1 1 1 1 1 1 1 1 1 1 1 1 1 1 1 1 1 1 1 1 1 1 1 1 1 1 1 1 1 1 1 1 1 1 1 1 1 1 1 1 1 1 1 1 1 1 1 1 1 1 1 1 1 1 1 1 1 1 1 1 1 1 1 1 1 1 1 1 1 1 1 1 1 1 1 1 1 1 1 1 1 1 1 1 1 1 1 1 1 1 1 1 1 1 1 1 1 1 1 1 1 1 1 1 1 1 1 1 1 1 1 1 1 0 0 0 0 0 0 0 0 0\n"
          ]
        },
        {
          "output_type": "stream",
          "name": "stdout",
          "text": [
            "INFO:tensorflow:segment_ids: 0 0 0 0 0 0 0 0 0 0 0 0 0 0 0 0 0 0 0 0 0 0 0 0 0 0 0 0 0 0 0 0 0 0 0 0 0 0 0 0 0 0 0 0 0 0 0 0 0 0 0 0 0 0 0 0 0 0 0 0 0 0 0 0 0 0 0 0 0 0 0 0 0 0 0 0 0 0 0 0 0 0 0 0 0 0 0 0 0 0 0 0 0 0 0 0 0 0 0 0 0 0 0 0 0 0 0 0 0 0 0 0 0 0 0 0 0 0 0 0 0 0 0 0 0 0 0 0 0 0 0 0 0 0 0 0 0 0 0 0 0 0 0 0 0 0 0 0 0 0 0 0 0 0 0 0 0 0 0 0 0 0 0 0 0 0 0 0 0 0 0 0 0 0 0 0 0 0 0 0 0 0 0 0 0 0 0 0 0 0 0 0 0 0 0 0 0 0 0 0\n"
          ]
        },
        {
          "output_type": "stream",
          "name": "stderr",
          "text": [
            "INFO:tensorflow:segment_ids: 0 0 0 0 0 0 0 0 0 0 0 0 0 0 0 0 0 0 0 0 0 0 0 0 0 0 0 0 0 0 0 0 0 0 0 0 0 0 0 0 0 0 0 0 0 0 0 0 0 0 0 0 0 0 0 0 0 0 0 0 0 0 0 0 0 0 0 0 0 0 0 0 0 0 0 0 0 0 0 0 0 0 0 0 0 0 0 0 0 0 0 0 0 0 0 0 0 0 0 0 0 0 0 0 0 0 0 0 0 0 0 0 0 0 0 0 0 0 0 0 0 0 0 0 0 0 0 0 0 0 0 0 0 0 0 0 0 0 0 0 0 0 0 0 0 0 0 0 0 0 0 0 0 0 0 0 0 0 0 0 0 0 0 0 0 0 0 0 0 0 0 0 0 0 0 0 0 0 0 0 0 0 0 0 0 0 0 0 0 0 0 0 0 0 0 0 0 0 0 0\n"
          ]
        },
        {
          "output_type": "stream",
          "name": "stdout",
          "text": [
            "INFO:tensorflow:label: 4 (id = 4)\n"
          ]
        },
        {
          "output_type": "stream",
          "name": "stderr",
          "text": [
            "INFO:tensorflow:label: 4 (id = 4)\n"
          ]
        },
        {
          "output_type": "stream",
          "name": "stdout",
          "text": [
            "INFO:tensorflow:*** Example ***\n"
          ]
        },
        {
          "output_type": "stream",
          "name": "stderr",
          "text": [
            "INFO:tensorflow:*** Example ***\n"
          ]
        },
        {
          "output_type": "stream",
          "name": "stdout",
          "text": [
            "INFO:tensorflow:guid: None\n"
          ]
        },
        {
          "output_type": "stream",
          "name": "stderr",
          "text": [
            "INFO:tensorflow:guid: None\n"
          ]
        },
        {
          "output_type": "stream",
          "name": "stdout",
          "text": [
            "INFO:tensorflow:tokens: [CLS] civil servants drastically stepped sh ##red ##ding official documents figures compiled tori ##es suggest government departments doubled number documents shredded ahead freedom information acts implementation january departments defence environment trade increased file destruction said following rules governing public records tori ##es want information commissioner investigate freedom information act first time give members public access government records previously kept secret years bbc political correspondent james hardy said prospect outsiders poking noses inner workings whitehall appeared causing ji ##tters among mandarin ##s liberal democrat alan beit ##h chairs select committee monitors department constitutional affairs said claims true whitehall acting entirely spirit new act information commissioner select committee keep issue close scrutiny fellow li ##b dem norman baker said episode painted un ##fl ##atter ##ing picture inner workings government clear governments initial enthusiasm open government turned self ##ser ##ving cy ##nic ##ism dr julian lewis conservative spokesman cabinet office said discovered huge acceleration sh ##red ##ding series parliamentary answers department work pensions destroyed nearly files last year four years ago act passed number files destroyed ministry defence departments environment food rural affairs trade industry also risen dramatically dr lewis called investigation information commissioner richard thomas earlier week mr thomas said looking [SEP]\n"
          ]
        },
        {
          "output_type": "stream",
          "name": "stderr",
          "text": [
            "INFO:tensorflow:tokens: [CLS] civil servants drastically stepped sh ##red ##ding official documents figures compiled tori ##es suggest government departments doubled number documents shredded ahead freedom information acts implementation january departments defence environment trade increased file destruction said following rules governing public records tori ##es want information commissioner investigate freedom information act first time give members public access government records previously kept secret years bbc political correspondent james hardy said prospect outsiders poking noses inner workings whitehall appeared causing ji ##tters among mandarin ##s liberal democrat alan beit ##h chairs select committee monitors department constitutional affairs said claims true whitehall acting entirely spirit new act information commissioner select committee keep issue close scrutiny fellow li ##b dem norman baker said episode painted un ##fl ##atter ##ing picture inner workings government clear governments initial enthusiasm open government turned self ##ser ##ving cy ##nic ##ism dr julian lewis conservative spokesman cabinet office said discovered huge acceleration sh ##red ##ding series parliamentary answers department work pensions destroyed nearly files last year four years ago act passed number files destroyed ministry defence departments environment food rural affairs trade industry also risen dramatically dr lewis called investigation information commissioner richard thomas earlier week mr thomas said looking [SEP]\n"
          ]
        },
        {
          "output_type": "stream",
          "name": "stdout",
          "text": [
            "INFO:tensorflow:input_ids: 101 2942 8858 21040 3706 14021 5596 4667 2880 5491 4481 9227 23413 2229 6592 2231 7640 11515 2193 5491 29022 3805 4071 2592 4490 7375 2254 7640 4721 4044 3119 3445 5371 6215 2056 2206 3513 8677 2270 2636 23413 2229 2215 2592 5849 8556 4071 2592 2552 2034 2051 2507 2372 2270 3229 2231 2636 3130 2921 3595 2086 4035 2576 11370 2508 9532 2056 9824 22361 21603 27518 5110 24884 28361 2596 4786 10147 24168 2426 15831 2015 4314 7672 5070 28236 2232 8397 7276 2837 15410 2533 6543 3821 2056 4447 2995 28361 3772 4498 4382 2047 2552 2592 5849 7276 2837 2562 3277 2485 17423 3507 5622 2497 17183 5879 6243 2056 2792 4993 4895 10258 20097 2075 3861 5110 24884 2231 3154 6867 3988 12024 2330 2231 2357 2969 8043 6455 22330 8713 2964 2852 6426 4572 4603 14056 5239 2436 2056 3603 4121 16264 14021 5596 4667 2186 5768 6998 2533 2147 22024 3908 3053 6764 2197 2095 2176 2086 3283 2552 2979 2193 6764 3908 3757 4721 7640 4044 2833 3541 3821 3119 3068 2036 13763 12099 2852 4572 2170 4812 2592 5849 2957 2726 3041 2733 2720 2726 2056 2559 102\n"
          ]
        },
        {
          "output_type": "stream",
          "name": "stderr",
          "text": [
            "INFO:tensorflow:input_ids: 101 2942 8858 21040 3706 14021 5596 4667 2880 5491 4481 9227 23413 2229 6592 2231 7640 11515 2193 5491 29022 3805 4071 2592 4490 7375 2254 7640 4721 4044 3119 3445 5371 6215 2056 2206 3513 8677 2270 2636 23413 2229 2215 2592 5849 8556 4071 2592 2552 2034 2051 2507 2372 2270 3229 2231 2636 3130 2921 3595 2086 4035 2576 11370 2508 9532 2056 9824 22361 21603 27518 5110 24884 28361 2596 4786 10147 24168 2426 15831 2015 4314 7672 5070 28236 2232 8397 7276 2837 15410 2533 6543 3821 2056 4447 2995 28361 3772 4498 4382 2047 2552 2592 5849 7276 2837 2562 3277 2485 17423 3507 5622 2497 17183 5879 6243 2056 2792 4993 4895 10258 20097 2075 3861 5110 24884 2231 3154 6867 3988 12024 2330 2231 2357 2969 8043 6455 22330 8713 2964 2852 6426 4572 4603 14056 5239 2436 2056 3603 4121 16264 14021 5596 4667 2186 5768 6998 2533 2147 22024 3908 3053 6764 2197 2095 2176 2086 3283 2552 2979 2193 6764 3908 3757 4721 7640 4044 2833 3541 3821 3119 3068 2036 13763 12099 2852 4572 2170 4812 2592 5849 2957 2726 3041 2733 2720 2726 2056 2559 102\n"
          ]
        },
        {
          "output_type": "stream",
          "name": "stdout",
          "text": [
            "INFO:tensorflow:input_mask: 1 1 1 1 1 1 1 1 1 1 1 1 1 1 1 1 1 1 1 1 1 1 1 1 1 1 1 1 1 1 1 1 1 1 1 1 1 1 1 1 1 1 1 1 1 1 1 1 1 1 1 1 1 1 1 1 1 1 1 1 1 1 1 1 1 1 1 1 1 1 1 1 1 1 1 1 1 1 1 1 1 1 1 1 1 1 1 1 1 1 1 1 1 1 1 1 1 1 1 1 1 1 1 1 1 1 1 1 1 1 1 1 1 1 1 1 1 1 1 1 1 1 1 1 1 1 1 1 1 1 1 1 1 1 1 1 1 1 1 1 1 1 1 1 1 1 1 1 1 1 1 1 1 1 1 1 1 1 1 1 1 1 1 1 1 1 1 1 1 1 1 1 1 1 1 1 1 1 1 1 1 1 1 1 1 1 1 1 1 1 1 1 1 1 1 1 1 1 1 1\n"
          ]
        },
        {
          "output_type": "stream",
          "name": "stderr",
          "text": [
            "INFO:tensorflow:input_mask: 1 1 1 1 1 1 1 1 1 1 1 1 1 1 1 1 1 1 1 1 1 1 1 1 1 1 1 1 1 1 1 1 1 1 1 1 1 1 1 1 1 1 1 1 1 1 1 1 1 1 1 1 1 1 1 1 1 1 1 1 1 1 1 1 1 1 1 1 1 1 1 1 1 1 1 1 1 1 1 1 1 1 1 1 1 1 1 1 1 1 1 1 1 1 1 1 1 1 1 1 1 1 1 1 1 1 1 1 1 1 1 1 1 1 1 1 1 1 1 1 1 1 1 1 1 1 1 1 1 1 1 1 1 1 1 1 1 1 1 1 1 1 1 1 1 1 1 1 1 1 1 1 1 1 1 1 1 1 1 1 1 1 1 1 1 1 1 1 1 1 1 1 1 1 1 1 1 1 1 1 1 1 1 1 1 1 1 1 1 1 1 1 1 1 1 1 1 1 1 1\n"
          ]
        },
        {
          "output_type": "stream",
          "name": "stdout",
          "text": [
            "INFO:tensorflow:segment_ids: 0 0 0 0 0 0 0 0 0 0 0 0 0 0 0 0 0 0 0 0 0 0 0 0 0 0 0 0 0 0 0 0 0 0 0 0 0 0 0 0 0 0 0 0 0 0 0 0 0 0 0 0 0 0 0 0 0 0 0 0 0 0 0 0 0 0 0 0 0 0 0 0 0 0 0 0 0 0 0 0 0 0 0 0 0 0 0 0 0 0 0 0 0 0 0 0 0 0 0 0 0 0 0 0 0 0 0 0 0 0 0 0 0 0 0 0 0 0 0 0 0 0 0 0 0 0 0 0 0 0 0 0 0 0 0 0 0 0 0 0 0 0 0 0 0 0 0 0 0 0 0 0 0 0 0 0 0 0 0 0 0 0 0 0 0 0 0 0 0 0 0 0 0 0 0 0 0 0 0 0 0 0 0 0 0 0 0 0 0 0 0 0 0 0 0 0 0 0 0 0\n"
          ]
        },
        {
          "output_type": "stream",
          "name": "stderr",
          "text": [
            "INFO:tensorflow:segment_ids: 0 0 0 0 0 0 0 0 0 0 0 0 0 0 0 0 0 0 0 0 0 0 0 0 0 0 0 0 0 0 0 0 0 0 0 0 0 0 0 0 0 0 0 0 0 0 0 0 0 0 0 0 0 0 0 0 0 0 0 0 0 0 0 0 0 0 0 0 0 0 0 0 0 0 0 0 0 0 0 0 0 0 0 0 0 0 0 0 0 0 0 0 0 0 0 0 0 0 0 0 0 0 0 0 0 0 0 0 0 0 0 0 0 0 0 0 0 0 0 0 0 0 0 0 0 0 0 0 0 0 0 0 0 0 0 0 0 0 0 0 0 0 0 0 0 0 0 0 0 0 0 0 0 0 0 0 0 0 0 0 0 0 0 0 0 0 0 0 0 0 0 0 0 0 0 0 0 0 0 0 0 0 0 0 0 0 0 0 0 0 0 0 0 0 0 0 0 0 0 0\n"
          ]
        },
        {
          "output_type": "stream",
          "name": "stdout",
          "text": [
            "INFO:tensorflow:label: 2 (id = 2)\n"
          ]
        },
        {
          "output_type": "stream",
          "name": "stderr",
          "text": [
            "INFO:tensorflow:label: 2 (id = 2)\n"
          ]
        },
        {
          "output_type": "stream",
          "name": "stdout",
          "text": [
            "INFO:tensorflow:*** Example ***\n"
          ]
        },
        {
          "output_type": "stream",
          "name": "stderr",
          "text": [
            "INFO:tensorflow:*** Example ***\n"
          ]
        },
        {
          "output_type": "stream",
          "name": "stdout",
          "text": [
            "INFO:tensorflow:guid: None\n"
          ]
        },
        {
          "output_type": "stream",
          "name": "stderr",
          "text": [
            "INFO:tensorflow:guid: None\n"
          ]
        },
        {
          "output_type": "stream",
          "name": "stdout",
          "text": [
            "INFO:tensorflow:tokens: [CLS] britain ##s jason gardener enjoyed double m success glasgow first competitive outing since m relay gold athens olympics gardener cruise ##d home ahead sc ##ot nick smith win invitational race norwich union international recovered poor start second race beat sw ##ede daniel per ##sson italy ##s luca verde ##cchi ##a times seconds well short american maurice greene ##s m world record sec ##s hard record break believe iv ##e trained well said world indoor champion hopes get closer mark season important come make sure got maximum points last race olympic final lot expectation needed sharpe ##n get race fitness im excited next couple months double olympic champion marked first appearance home soil since winning m m gold athens victory third success britain edged russia ##s olga fed ##oro ##va sweden ##s jenny ka ##ll ##ur win women ##s m race sec ##s mad ##ua ##ka unable repeat feat m finishing fourth took win russia year ##old also missed podium place x ##m relay british quartet came fourth russia setting new world indoor record set ##back jade johnson suffered rec ##ur ##rence back injury long jump russia meeting final total points britain second france one point behind third led [SEP]\n"
          ]
        },
        {
          "output_type": "stream",
          "name": "stderr",
          "text": [
            "INFO:tensorflow:tokens: [CLS] britain ##s jason gardener enjoyed double m success glasgow first competitive outing since m relay gold athens olympics gardener cruise ##d home ahead sc ##ot nick smith win invitational race norwich union international recovered poor start second race beat sw ##ede daniel per ##sson italy ##s luca verde ##cchi ##a times seconds well short american maurice greene ##s m world record sec ##s hard record break believe iv ##e trained well said world indoor champion hopes get closer mark season important come make sure got maximum points last race olympic final lot expectation needed sharpe ##n get race fitness im excited next couple months double olympic champion marked first appearance home soil since winning m m gold athens victory third success britain edged russia ##s olga fed ##oro ##va sweden ##s jenny ka ##ll ##ur win women ##s m race sec ##s mad ##ua ##ka unable repeat feat m finishing fourth took win russia year ##old also missed podium place x ##m relay british quartet came fourth russia setting new world indoor record set ##back jade johnson suffered rec ##ur ##rence back injury long jump russia meeting final total points britain second france one point behind third led [SEP]\n"
          ]
        },
        {
          "output_type": "stream",
          "name": "stdout",
          "text": [
            "INFO:tensorflow:input_ids: 101 3725 2015 4463 19785 5632 3313 1049 3112 6785 2034 6975 26256 2144 1049 8846 2751 7571 3783 19785 8592 2094 2188 3805 8040 4140 4172 3044 2663 20129 2679 12634 2586 2248 6757 3532 2707 2117 2679 3786 25430 14728 3817 2566 7092 3304 2015 15604 16184 25955 2050 2335 3823 2092 2460 2137 7994 11006 2015 1049 2088 2501 10819 2015 2524 2501 3338 2903 4921 2063 4738 2092 2056 2088 7169 3410 8069 2131 3553 2928 2161 2590 2272 2191 2469 2288 4555 2685 2197 2679 4386 2345 2843 17626 2734 22147 2078 2131 2679 10516 10047 7568 2279 3232 2706 3313 4386 3410 4417 2034 3311 2188 5800 2144 3045 1049 1049 2751 7571 3377 2353 3112 3725 13011 3607 2015 15585 7349 14604 3567 4701 2015 8437 10556 3363 3126 2663 2308 2015 1049 2679 10819 2015 5506 6692 2912 4039 9377 8658 1049 5131 2959 2165 2663 3607 2095 11614 2036 4771 14502 2173 1060 2213 8846 2329 8530 2234 2959 3607 4292 2047 2088 7169 2501 2275 5963 12323 3779 4265 28667 3126 24413 2067 4544 2146 5376 3607 3116 2345 2561 2685 3725 2117 2605 2028 2391 2369 2353 2419 102\n"
          ]
        },
        {
          "output_type": "stream",
          "name": "stderr",
          "text": [
            "INFO:tensorflow:input_ids: 101 3725 2015 4463 19785 5632 3313 1049 3112 6785 2034 6975 26256 2144 1049 8846 2751 7571 3783 19785 8592 2094 2188 3805 8040 4140 4172 3044 2663 20129 2679 12634 2586 2248 6757 3532 2707 2117 2679 3786 25430 14728 3817 2566 7092 3304 2015 15604 16184 25955 2050 2335 3823 2092 2460 2137 7994 11006 2015 1049 2088 2501 10819 2015 2524 2501 3338 2903 4921 2063 4738 2092 2056 2088 7169 3410 8069 2131 3553 2928 2161 2590 2272 2191 2469 2288 4555 2685 2197 2679 4386 2345 2843 17626 2734 22147 2078 2131 2679 10516 10047 7568 2279 3232 2706 3313 4386 3410 4417 2034 3311 2188 5800 2144 3045 1049 1049 2751 7571 3377 2353 3112 3725 13011 3607 2015 15585 7349 14604 3567 4701 2015 8437 10556 3363 3126 2663 2308 2015 1049 2679 10819 2015 5506 6692 2912 4039 9377 8658 1049 5131 2959 2165 2663 3607 2095 11614 2036 4771 14502 2173 1060 2213 8846 2329 8530 2234 2959 3607 4292 2047 2088 7169 2501 2275 5963 12323 3779 4265 28667 3126 24413 2067 4544 2146 5376 3607 3116 2345 2561 2685 3725 2117 2605 2028 2391 2369 2353 2419 102\n"
          ]
        },
        {
          "output_type": "stream",
          "name": "stdout",
          "text": [
            "INFO:tensorflow:input_mask: 1 1 1 1 1 1 1 1 1 1 1 1 1 1 1 1 1 1 1 1 1 1 1 1 1 1 1 1 1 1 1 1 1 1 1 1 1 1 1 1 1 1 1 1 1 1 1 1 1 1 1 1 1 1 1 1 1 1 1 1 1 1 1 1 1 1 1 1 1 1 1 1 1 1 1 1 1 1 1 1 1 1 1 1 1 1 1 1 1 1 1 1 1 1 1 1 1 1 1 1 1 1 1 1 1 1 1 1 1 1 1 1 1 1 1 1 1 1 1 1 1 1 1 1 1 1 1 1 1 1 1 1 1 1 1 1 1 1 1 1 1 1 1 1 1 1 1 1 1 1 1 1 1 1 1 1 1 1 1 1 1 1 1 1 1 1 1 1 1 1 1 1 1 1 1 1 1 1 1 1 1 1 1 1 1 1 1 1 1 1 1 1 1 1 1 1 1 1 1 1\n"
          ]
        },
        {
          "output_type": "stream",
          "name": "stderr",
          "text": [
            "INFO:tensorflow:input_mask: 1 1 1 1 1 1 1 1 1 1 1 1 1 1 1 1 1 1 1 1 1 1 1 1 1 1 1 1 1 1 1 1 1 1 1 1 1 1 1 1 1 1 1 1 1 1 1 1 1 1 1 1 1 1 1 1 1 1 1 1 1 1 1 1 1 1 1 1 1 1 1 1 1 1 1 1 1 1 1 1 1 1 1 1 1 1 1 1 1 1 1 1 1 1 1 1 1 1 1 1 1 1 1 1 1 1 1 1 1 1 1 1 1 1 1 1 1 1 1 1 1 1 1 1 1 1 1 1 1 1 1 1 1 1 1 1 1 1 1 1 1 1 1 1 1 1 1 1 1 1 1 1 1 1 1 1 1 1 1 1 1 1 1 1 1 1 1 1 1 1 1 1 1 1 1 1 1 1 1 1 1 1 1 1 1 1 1 1 1 1 1 1 1 1 1 1 1 1 1 1\n"
          ]
        },
        {
          "output_type": "stream",
          "name": "stdout",
          "text": [
            "INFO:tensorflow:segment_ids: 0 0 0 0 0 0 0 0 0 0 0 0 0 0 0 0 0 0 0 0 0 0 0 0 0 0 0 0 0 0 0 0 0 0 0 0 0 0 0 0 0 0 0 0 0 0 0 0 0 0 0 0 0 0 0 0 0 0 0 0 0 0 0 0 0 0 0 0 0 0 0 0 0 0 0 0 0 0 0 0 0 0 0 0 0 0 0 0 0 0 0 0 0 0 0 0 0 0 0 0 0 0 0 0 0 0 0 0 0 0 0 0 0 0 0 0 0 0 0 0 0 0 0 0 0 0 0 0 0 0 0 0 0 0 0 0 0 0 0 0 0 0 0 0 0 0 0 0 0 0 0 0 0 0 0 0 0 0 0 0 0 0 0 0 0 0 0 0 0 0 0 0 0 0 0 0 0 0 0 0 0 0 0 0 0 0 0 0 0 0 0 0 0 0 0 0 0 0 0 0\n"
          ]
        },
        {
          "output_type": "stream",
          "name": "stderr",
          "text": [
            "INFO:tensorflow:segment_ids: 0 0 0 0 0 0 0 0 0 0 0 0 0 0 0 0 0 0 0 0 0 0 0 0 0 0 0 0 0 0 0 0 0 0 0 0 0 0 0 0 0 0 0 0 0 0 0 0 0 0 0 0 0 0 0 0 0 0 0 0 0 0 0 0 0 0 0 0 0 0 0 0 0 0 0 0 0 0 0 0 0 0 0 0 0 0 0 0 0 0 0 0 0 0 0 0 0 0 0 0 0 0 0 0 0 0 0 0 0 0 0 0 0 0 0 0 0 0 0 0 0 0 0 0 0 0 0 0 0 0 0 0 0 0 0 0 0 0 0 0 0 0 0 0 0 0 0 0 0 0 0 0 0 0 0 0 0 0 0 0 0 0 0 0 0 0 0 0 0 0 0 0 0 0 0 0 0 0 0 0 0 0 0 0 0 0 0 0 0 0 0 0 0 0 0 0 0 0 0 0\n"
          ]
        },
        {
          "output_type": "stream",
          "name": "stdout",
          "text": [
            "INFO:tensorflow:label: 3 (id = 3)\n"
          ]
        },
        {
          "output_type": "stream",
          "name": "stderr",
          "text": [
            "INFO:tensorflow:label: 3 (id = 3)\n"
          ]
        },
        {
          "output_type": "stream",
          "name": "stdout",
          "text": [
            "INFO:tensorflow:*** Example ***\n"
          ]
        },
        {
          "output_type": "stream",
          "name": "stderr",
          "text": [
            "INFO:tensorflow:*** Example ***\n"
          ]
        },
        {
          "output_type": "stream",
          "name": "stdout",
          "text": [
            "INFO:tensorflow:guid: None\n"
          ]
        },
        {
          "output_type": "stream",
          "name": "stderr",
          "text": [
            "INFO:tensorflow:guid: None\n"
          ]
        },
        {
          "output_type": "stream",
          "name": "stdout",
          "text": [
            "INFO:tensorflow:tokens: [CLS] friends actress lisa ku ##dro ##w play lead role new series one ##time sitcom star according hollywood reporter thirteen episodes comeback commissioned cable channel hbo home hits sex city ku ##dro ##w played phoebe friends cow ##rot ##e pilot episode also act executive producer hbo looking next big comedy hit since sex city drew close us february comeback first minute comedy series channel picked since sex city drew end six ##year ##run friends ended year run nbc network may attention ##s turned projects six individual stars would pursue matt le ##bla ##nc starring friends spin ##off sitcom charting joey ##s fortunes los angeles pursue ##s acting career jennifer an ##isto ##n rachel long ##run ##ning show enjoyed series successful film appearances projects pipeline court ##ene ##y cox ar ##quette monica working drama project along husband david ar ##quette hbo called rise fall taylor kennedy matthew perry played chandler appeared west end stage film beginning wisdom currently production david sc ##h ##wi ##mmer ross directed time friends also worked joey [SEP]\n"
          ]
        },
        {
          "output_type": "stream",
          "name": "stderr",
          "text": [
            "INFO:tensorflow:tokens: [CLS] friends actress lisa ku ##dro ##w play lead role new series one ##time sitcom star according hollywood reporter thirteen episodes comeback commissioned cable channel hbo home hits sex city ku ##dro ##w played phoebe friends cow ##rot ##e pilot episode also act executive producer hbo looking next big comedy hit since sex city drew close us february comeback first minute comedy series channel picked since sex city drew end six ##year ##run friends ended year run nbc network may attention ##s turned projects six individual stars would pursue matt le ##bla ##nc starring friends spin ##off sitcom charting joey ##s fortunes los angeles pursue ##s acting career jennifer an ##isto ##n rachel long ##run ##ning show enjoyed series successful film appearances projects pipeline court ##ene ##y cox ar ##quette monica working drama project along husband david ar ##quette hbo called rise fall taylor kennedy matthew perry played chandler appeared west end stage film beginning wisdom currently production david sc ##h ##wi ##mmer ross directed time friends also worked joey [SEP]\n"
          ]
        },
        {
          "output_type": "stream",
          "name": "stdout",
          "text": [
            "INFO:tensorflow:input_ids: 101 2814 3883 7059 13970 22196 2860 2377 2599 2535 2047 2186 2028 7292 13130 2732 2429 5365 6398 7093 4178 12845 4837 5830 3149 14633 2188 4978 3348 2103 13970 22196 2860 2209 18188 2814 11190 21709 2063 4405 2792 2036 2552 3237 3135 14633 2559 2279 2502 4038 2718 2144 3348 2103 3881 2485 2149 2337 12845 2034 3371 4038 2186 3149 3856 2144 3348 2103 3881 2203 2416 29100 15532 2814 3092 2095 2448 6788 2897 2089 3086 2015 2357 3934 2416 3265 3340 2052 7323 4717 3393 28522 12273 4626 2814 6714 7245 13130 17918 9558 2015 18023 3050 3349 7323 2015 3772 2476 7673 2019 20483 2078 5586 2146 15532 5582 2265 5632 2186 3144 2143 3922 3934 13117 2457 8625 2100 9574 12098 29416 9018 2551 3689 2622 2247 3129 2585 12098 29416 14633 2170 4125 2991 4202 5817 5487 6890 2209 13814 2596 2225 2203 2754 2143 2927 9866 2747 2537 2585 8040 2232 9148 15810 5811 2856 2051 2814 2036 2499 9558 102 0 0 0 0 0 0 0 0 0 0 0 0 0 0 0 0 0 0 0 0 0 0 0 0 0 0 0 0 0\n"
          ]
        },
        {
          "output_type": "stream",
          "name": "stderr",
          "text": [
            "INFO:tensorflow:input_ids: 101 2814 3883 7059 13970 22196 2860 2377 2599 2535 2047 2186 2028 7292 13130 2732 2429 5365 6398 7093 4178 12845 4837 5830 3149 14633 2188 4978 3348 2103 13970 22196 2860 2209 18188 2814 11190 21709 2063 4405 2792 2036 2552 3237 3135 14633 2559 2279 2502 4038 2718 2144 3348 2103 3881 2485 2149 2337 12845 2034 3371 4038 2186 3149 3856 2144 3348 2103 3881 2203 2416 29100 15532 2814 3092 2095 2448 6788 2897 2089 3086 2015 2357 3934 2416 3265 3340 2052 7323 4717 3393 28522 12273 4626 2814 6714 7245 13130 17918 9558 2015 18023 3050 3349 7323 2015 3772 2476 7673 2019 20483 2078 5586 2146 15532 5582 2265 5632 2186 3144 2143 3922 3934 13117 2457 8625 2100 9574 12098 29416 9018 2551 3689 2622 2247 3129 2585 12098 29416 14633 2170 4125 2991 4202 5817 5487 6890 2209 13814 2596 2225 2203 2754 2143 2927 9866 2747 2537 2585 8040 2232 9148 15810 5811 2856 2051 2814 2036 2499 9558 102 0 0 0 0 0 0 0 0 0 0 0 0 0 0 0 0 0 0 0 0 0 0 0 0 0 0 0 0 0\n"
          ]
        },
        {
          "output_type": "stream",
          "name": "stdout",
          "text": [
            "INFO:tensorflow:input_mask: 1 1 1 1 1 1 1 1 1 1 1 1 1 1 1 1 1 1 1 1 1 1 1 1 1 1 1 1 1 1 1 1 1 1 1 1 1 1 1 1 1 1 1 1 1 1 1 1 1 1 1 1 1 1 1 1 1 1 1 1 1 1 1 1 1 1 1 1 1 1 1 1 1 1 1 1 1 1 1 1 1 1 1 1 1 1 1 1 1 1 1 1 1 1 1 1 1 1 1 1 1 1 1 1 1 1 1 1 1 1 1 1 1 1 1 1 1 1 1 1 1 1 1 1 1 1 1 1 1 1 1 1 1 1 1 1 1 1 1 1 1 1 1 1 1 1 1 1 1 1 1 1 1 1 1 1 1 1 1 1 1 1 1 1 1 1 1 1 1 1 1 0 0 0 0 0 0 0 0 0 0 0 0 0 0 0 0 0 0 0 0 0 0 0 0 0 0 0 0 0\n"
          ]
        },
        {
          "output_type": "stream",
          "name": "stderr",
          "text": [
            "INFO:tensorflow:input_mask: 1 1 1 1 1 1 1 1 1 1 1 1 1 1 1 1 1 1 1 1 1 1 1 1 1 1 1 1 1 1 1 1 1 1 1 1 1 1 1 1 1 1 1 1 1 1 1 1 1 1 1 1 1 1 1 1 1 1 1 1 1 1 1 1 1 1 1 1 1 1 1 1 1 1 1 1 1 1 1 1 1 1 1 1 1 1 1 1 1 1 1 1 1 1 1 1 1 1 1 1 1 1 1 1 1 1 1 1 1 1 1 1 1 1 1 1 1 1 1 1 1 1 1 1 1 1 1 1 1 1 1 1 1 1 1 1 1 1 1 1 1 1 1 1 1 1 1 1 1 1 1 1 1 1 1 1 1 1 1 1 1 1 1 1 1 1 1 1 1 1 1 0 0 0 0 0 0 0 0 0 0 0 0 0 0 0 0 0 0 0 0 0 0 0 0 0 0 0 0 0\n"
          ]
        },
        {
          "output_type": "stream",
          "name": "stdout",
          "text": [
            "INFO:tensorflow:segment_ids: 0 0 0 0 0 0 0 0 0 0 0 0 0 0 0 0 0 0 0 0 0 0 0 0 0 0 0 0 0 0 0 0 0 0 0 0 0 0 0 0 0 0 0 0 0 0 0 0 0 0 0 0 0 0 0 0 0 0 0 0 0 0 0 0 0 0 0 0 0 0 0 0 0 0 0 0 0 0 0 0 0 0 0 0 0 0 0 0 0 0 0 0 0 0 0 0 0 0 0 0 0 0 0 0 0 0 0 0 0 0 0 0 0 0 0 0 0 0 0 0 0 0 0 0 0 0 0 0 0 0 0 0 0 0 0 0 0 0 0 0 0 0 0 0 0 0 0 0 0 0 0 0 0 0 0 0 0 0 0 0 0 0 0 0 0 0 0 0 0 0 0 0 0 0 0 0 0 0 0 0 0 0 0 0 0 0 0 0 0 0 0 0 0 0 0 0 0 0 0 0\n"
          ]
        },
        {
          "output_type": "stream",
          "name": "stderr",
          "text": [
            "INFO:tensorflow:segment_ids: 0 0 0 0 0 0 0 0 0 0 0 0 0 0 0 0 0 0 0 0 0 0 0 0 0 0 0 0 0 0 0 0 0 0 0 0 0 0 0 0 0 0 0 0 0 0 0 0 0 0 0 0 0 0 0 0 0 0 0 0 0 0 0 0 0 0 0 0 0 0 0 0 0 0 0 0 0 0 0 0 0 0 0 0 0 0 0 0 0 0 0 0 0 0 0 0 0 0 0 0 0 0 0 0 0 0 0 0 0 0 0 0 0 0 0 0 0 0 0 0 0 0 0 0 0 0 0 0 0 0 0 0 0 0 0 0 0 0 0 0 0 0 0 0 0 0 0 0 0 0 0 0 0 0 0 0 0 0 0 0 0 0 0 0 0 0 0 0 0 0 0 0 0 0 0 0 0 0 0 0 0 0 0 0 0 0 0 0 0 0 0 0 0 0 0 0 0 0 0 0\n"
          ]
        },
        {
          "output_type": "stream",
          "name": "stdout",
          "text": [
            "INFO:tensorflow:label: 1 (id = 1)\n"
          ]
        },
        {
          "output_type": "stream",
          "name": "stderr",
          "text": [
            "INFO:tensorflow:label: 1 (id = 1)\n"
          ]
        }
      ]
    },
    {
      "cell_type": "code",
      "source": [
        "#Example on first observation in the training set\n",
        "print(\"Sentence : \", train_InputExamples.iloc[0].text_a)\n",
        "print(\"-\"*30)\n",
        "print(\"Tokens : \", tokenizer.tokenize(train_InputExamples.iloc[0].text_a))\n",
        "print(\"-\"*30)\n",
        "print(\"Input IDs : \", train_features[0].input_ids)\n",
        "print(\"-\"*30)\n",
        "print(\"Input Masks : \", train_features[0].input_mask)\n",
        "print(\"-\"*30)\n",
        "print(\"Segment IDs : \", train_features[0].segment_ids)"
      ],
      "metadata": {
        "execution": {
          "iopub.status.busy": "2021-05-21T18:06:18.974999Z",
          "iopub.execute_input": "2021-05-21T18:06:18.975357Z",
          "iopub.status.idle": "2021-05-21T18:06:18.992869Z",
          "shell.execute_reply.started": "2021-05-21T18:06:18.975319Z",
          "shell.execute_reply": "2021-05-21T18:06:18.991346Z"
        },
        "trusted": true,
        "colab": {
          "base_uri": "https://localhost:8080/"
        },
        "id": "KQkJu-YXvdDE",
        "outputId": "860b1b14-1abc-4ab2-a27f-970eadf4c879"
      },
      "execution_count": null,
      "outputs": [
        {
          "output_type": "stream",
          "name": "stdout",
          "text": [
            "Sentence :  years clutch oscar nominees least popular  years according box office figures us five nominated best film seen  fewer people movies previous years awards based box office popularity concern ratings televised ceremony dont titanic lord rings think fair say concern us bit said academy executive director bruce davis  million people us seen years nominees compared  million  million recent years last time combined attendance low  amadeus beat killing fields passage india places heart soldiers story best picture  million saw five films last years ceremony attracted highest audience four years viewers tuned see lord ring return king sweep board show reaped biggest audience  titanic took home  oscars film taken m m worldwide ceremony eventually took bn m eyeballs starring movie screen translates eyeballs staring tv screen said paul dergarabedian box office tracker exhibitor relations people like vested interest theyre watching titanic bn worldwide box office youve got lot people vested interest past years also seen blockbusters saving private ryan forrest gump ghost compete oscars biggest box office hitter among years nominees aviator taken m m us although takings uk reached m far lowbudget move sideways finding neverland far grossed m m years biggest blockbusters actually feature oscar nominees animation category shrek  incredibles took m m incredibles took m m mel gibsons passion christ took m m us largely ignored academy voters many film industry equate award box office success never equated academy awards much money movie takes said nikki rocco head distribution universal released nominee ray thats peoples choice awards public industry bestowing awards think best films year\n",
            "------------------------------\n",
            "Tokens :  ['years', 'clutch', 'oscar', 'nominees', 'least', 'popular', 'years', 'according', 'box', 'office', 'figures', 'us', 'five', 'nominated', 'best', 'film', 'seen', 'fewer', 'people', 'movies', 'previous', 'years', 'awards', 'based', 'box', 'office', 'popularity', 'concern', 'ratings', 'televised', 'ceremony', 'don', '##t', 'titanic', 'lord', 'rings', 'think', 'fair', 'say', 'concern', 'us', 'bit', 'said', 'academy', 'executive', 'director', 'bruce', 'davis', 'million', 'people', 'us', 'seen', 'years', 'nominees', 'compared', 'million', 'million', 'recent', 'years', 'last', 'time', 'combined', 'attendance', 'low', 'amadeus', 'beat', 'killing', 'fields', 'passage', 'india', 'places', 'heart', 'soldiers', 'story', 'best', 'picture', 'million', 'saw', 'five', 'films', 'last', 'years', 'ceremony', 'attracted', 'highest', 'audience', 'four', 'years', 'viewers', 'tuned', 'see', 'lord', 'ring', 'return', 'king', 'sweep', 'board', 'show', 're', '##ape', '##d', 'biggest', 'audience', 'titanic', 'took', 'home', 'oscar', '##s', 'film', 'taken', 'm', 'm', 'worldwide', 'ceremony', 'eventually', 'took', 'bn', 'm', 'eye', '##balls', 'starring', 'movie', 'screen', 'translates', 'eye', '##balls', 'staring', 'tv', 'screen', 'said', 'paul', 'der', '##gara', '##bed', '##ian', 'box', 'office', 'tracker', 'exhibit', '##or', 'relations', 'people', 'like', 'vested', 'interest', 'they', '##re', 'watching', 'titanic', 'bn', 'worldwide', 'box', 'office', 'you', '##ve', 'got', 'lot', 'people', 'vested', 'interest', 'past', 'years', 'also', 'seen', 'blockbuster', '##s', 'saving', 'private', 'ryan', 'forrest', 'gum', '##p', 'ghost', 'compete', 'oscar', '##s', 'biggest', 'box', 'office', 'hitter', 'among', 'years', 'nominees', 'aviator', 'taken', 'm', 'm', 'us', 'although', 'taking', '##s', 'uk', 'reached', 'm', 'far', 'low', '##bu', '##dget', 'move', 'sideways', 'finding', 'never', '##land', 'far', 'grossed', 'm', 'm', 'years', 'biggest', 'blockbuster', '##s', 'actually', 'feature', 'oscar', 'nominees', 'animation', 'category', 'sh', '##rek', 'incredible', '##s', 'took', 'm', 'm', 'incredible', '##s', 'took', 'm', 'm', 'mel', 'gibson', '##s', 'passion', 'christ', 'took', 'm', 'm', 'us', 'largely', 'ignored', 'academy', 'voters', 'many', 'film', 'industry', 'e', '##qua', '##te', 'award', 'box', 'office', 'success', 'never', 'e', '##qua', '##ted', 'academy', 'awards', 'much', 'money', 'movie', 'takes', 'said', 'nikki', 'rocco', 'head', 'distribution', 'universal', 'released', 'nominee', 'ray', 'that', '##s', 'peoples', 'choice', 'awards', 'public', 'industry', 'best', '##owing', 'awards', 'think', 'best', 'films', 'year']\n",
            "------------------------------\n",
            "Input IDs :  [101, 2086, 15357, 7436, 17853, 2560, 2759, 2086, 2429, 3482, 2436, 4481, 2149, 2274, 4222, 2190, 2143, 2464, 8491, 2111, 5691, 3025, 2086, 2982, 2241, 3482, 2436, 6217, 5142, 8599, 13762, 5103, 2123, 2102, 20753, 2935, 7635, 2228, 4189, 2360, 5142, 2149, 2978, 2056, 2914, 3237, 2472, 5503, 4482, 2454, 2111, 2149, 2464, 2086, 17853, 4102, 2454, 2454, 3522, 2086, 2197, 2051, 4117, 5270, 2659, 27185, 3786, 4288, 4249, 6019, 2634, 3182, 2540, 3548, 2466, 2190, 3861, 2454, 2387, 2274, 3152, 2197, 2086, 5103, 6296, 3284, 4378, 2176, 2086, 7193, 15757, 2156, 2935, 3614, 2709, 2332, 11740, 2604, 2265, 2128, 24065, 2094, 5221, 4378, 20753, 2165, 2188, 7436, 2015, 2143, 2579, 1049, 1049, 4969, 5103, 2776, 2165, 24869, 1049, 3239, 18510, 4626, 3185, 3898, 16315, 3239, 18510, 4582, 2694, 3898, 2056, 2703, 4315, 24864, 8270, 2937, 3482, 2436, 27080, 8327, 2953, 4262, 2111, 2066, 26003, 3037, 2027, 2890, 3666, 20753, 24869, 4969, 3482, 2436, 2017, 3726, 2288, 2843, 2111, 26003, 3037, 2627, 2086, 2036, 2464, 27858, 2015, 7494, 2797, 4575, 16319, 16031, 2361, 5745, 5566, 7436, 2015, 5221, 3482, 2436, 18694, 2426, 2086, 17853, 24035, 2579, 1049, 1049, 2149, 2348, 2635, 2015, 2866, 2584, 1049, 2521, 2659, 8569, 24291, 102]\n",
            "------------------------------\n",
            "Input Masks :  [1, 1, 1, 1, 1, 1, 1, 1, 1, 1, 1, 1, 1, 1, 1, 1, 1, 1, 1, 1, 1, 1, 1, 1, 1, 1, 1, 1, 1, 1, 1, 1, 1, 1, 1, 1, 1, 1, 1, 1, 1, 1, 1, 1, 1, 1, 1, 1, 1, 1, 1, 1, 1, 1, 1, 1, 1, 1, 1, 1, 1, 1, 1, 1, 1, 1, 1, 1, 1, 1, 1, 1, 1, 1, 1, 1, 1, 1, 1, 1, 1, 1, 1, 1, 1, 1, 1, 1, 1, 1, 1, 1, 1, 1, 1, 1, 1, 1, 1, 1, 1, 1, 1, 1, 1, 1, 1, 1, 1, 1, 1, 1, 1, 1, 1, 1, 1, 1, 1, 1, 1, 1, 1, 1, 1, 1, 1, 1, 1, 1, 1, 1, 1, 1, 1, 1, 1, 1, 1, 1, 1, 1, 1, 1, 1, 1, 1, 1, 1, 1, 1, 1, 1, 1, 1, 1, 1, 1, 1, 1, 1, 1, 1, 1, 1, 1, 1, 1, 1, 1, 1, 1, 1, 1, 1, 1, 1, 1, 1, 1, 1, 1, 1, 1, 1, 1, 1, 1, 1, 1, 1, 1, 1, 1, 1, 1, 1, 1, 1, 1]\n",
            "------------------------------\n",
            "Segment IDs :  [0, 0, 0, 0, 0, 0, 0, 0, 0, 0, 0, 0, 0, 0, 0, 0, 0, 0, 0, 0, 0, 0, 0, 0, 0, 0, 0, 0, 0, 0, 0, 0, 0, 0, 0, 0, 0, 0, 0, 0, 0, 0, 0, 0, 0, 0, 0, 0, 0, 0, 0, 0, 0, 0, 0, 0, 0, 0, 0, 0, 0, 0, 0, 0, 0, 0, 0, 0, 0, 0, 0, 0, 0, 0, 0, 0, 0, 0, 0, 0, 0, 0, 0, 0, 0, 0, 0, 0, 0, 0, 0, 0, 0, 0, 0, 0, 0, 0, 0, 0, 0, 0, 0, 0, 0, 0, 0, 0, 0, 0, 0, 0, 0, 0, 0, 0, 0, 0, 0, 0, 0, 0, 0, 0, 0, 0, 0, 0, 0, 0, 0, 0, 0, 0, 0, 0, 0, 0, 0, 0, 0, 0, 0, 0, 0, 0, 0, 0, 0, 0, 0, 0, 0, 0, 0, 0, 0, 0, 0, 0, 0, 0, 0, 0, 0, 0, 0, 0, 0, 0, 0, 0, 0, 0, 0, 0, 0, 0, 0, 0, 0, 0, 0, 0, 0, 0, 0, 0, 0, 0, 0, 0, 0, 0, 0, 0, 0, 0, 0, 0]\n"
          ]
        }
      ]
    },
    {
      "cell_type": "markdown",
      "source": [
        "### Creating prediction model"
      ],
      "metadata": {
        "id": "EDG4HImSvdDE"
      }
    },
    {
      "cell_type": "code",
      "source": [
        "def create_model(is_predicting, input_ids, input_mask, segment_ids, labels,\n",
        "                 num_labels):\n",
        "  \n",
        "    bert_module = hub.Module(\n",
        "        BERT_MODEL_HUB,\n",
        "        trainable=True)\n",
        "    bert_inputs = dict(\n",
        "      input_ids=input_ids,\n",
        "      input_mask=input_mask,\n",
        "      segment_ids=segment_ids)\n",
        "    bert_outputs = bert_module(\n",
        "      inputs=bert_inputs,\n",
        "      signature=\"tokens\",\n",
        "      as_dict=True)\n",
        "\n",
        "    # Use \"pooled_output\" for classification tasks on an entire sentence.\n",
        "    # Use \"sequence_outputs\" for token-level output.\n",
        "    output_layer = bert_outputs[\"pooled_output\"]\n",
        "    # with tf.Session() as sess:\n",
        "    output_layer1 = bert_outputs[\"pooled_output\"]\n",
        "    # output_layer1 = 999\n",
        "    hidden_size = output_layer.shape[-1].value\n",
        "\n",
        "    # Create our own layer to tune for politeness data.\n",
        "    output_weights = tf.get_variable(\n",
        "      \"output_weights\", [num_labels, hidden_size],\n",
        "      initializer=tf.truncated_normal_initializer(stddev=0.02))\n",
        "\n",
        "    output_bias = tf.get_variable(\n",
        "      \"output_bias\", [num_labels], initializer=tf.zeros_initializer())\n",
        "\n",
        "    with tf.variable_scope(\"loss\"):\n",
        "\n",
        "        # Dropout helps prevent overfitting\n",
        "        output_layer = tf.nn.dropout(output_layer, keep_prob=0.8)\n",
        "\n",
        "        logits = tf.matmul(output_layer, output_weights, transpose_b=True)\n",
        "        logits = tf.nn.bias_add(logits, output_bias)\n",
        "        log_probs = tf.nn.log_softmax(logits, axis=-1)\n",
        "\n",
        "        # Convert labels into one-hot encoding\n",
        "        one_hot_labels = tf.one_hot(labels, depth=num_labels, dtype=tf.float32)\n",
        "\n",
        "        predicted_labels = tf.squeeze(tf.argmax(log_probs, axis=-1, output_type=tf.int32))\n",
        "        # If we're predicting, we want predicted labels and the probabiltiies.\n",
        "        if is_predicting:\n",
        "            return (predicted_labels, log_probs, output_layer1)\n",
        "\n",
        "        # If we're train/eval, compute loss between predicted and actual label\n",
        "        per_example_loss = -tf.reduce_sum(one_hot_labels * log_probs, axis=-1)\n",
        "        loss = tf.reduce_mean(per_example_loss)\n",
        "        \n",
        "        return (loss, predicted_labels, log_probs)"
      ],
      "metadata": {
        "execution": {
          "iopub.status.busy": "2021-05-21T18:06:18.994676Z",
          "iopub.execute_input": "2021-05-21T18:06:18.995067Z",
          "iopub.status.idle": "2021-05-21T18:06:19.012896Z",
          "shell.execute_reply.started": "2021-05-21T18:06:18.995028Z",
          "shell.execute_reply": "2021-05-21T18:06:19.012016Z"
        },
        "trusted": true,
        "id": "pAgg3s2NvdDF"
      },
      "execution_count": null,
      "outputs": []
    },
    {
      "cell_type": "code",
      "source": [
        "def model_fn_builder(num_labels, learning_rate, num_train_steps,\n",
        "                     num_warmup_steps):\n",
        "    \"\"\"Returns `model_fn` closure for TPUEstimator.\"\"\"\n",
        "    \n",
        "    def model_fn(features, labels, mode, params):  # pylint: disable=unused-argument\n",
        "        \"\"\"The `model_fn` for TPUEstimator.\"\"\"\n",
        "\n",
        "        input_ids = features[\"input_ids\"]\n",
        "        input_mask = features[\"input_mask\"]\n",
        "        segment_ids = features[\"segment_ids\"]\n",
        "        label_ids = features[\"label_ids\"]\n",
        "\n",
        "        is_predicting = (mode == tf.estimator.ModeKeys.PREDICT)\n",
        "\n",
        "        # TRAIN and EVAL\n",
        "        if not is_predicting:\n",
        "\n",
        "            (loss, predicted_labels, log_probs) = create_model(\n",
        "            is_predicting, input_ids, input_mask, segment_ids, label_ids, num_labels)\n",
        "\n",
        "            train_op = optimization.create_optimizer(\n",
        "              loss, learning_rate, num_train_steps, num_warmup_steps, use_tpu=False)\n",
        "\n",
        "            # Calculate evaluation metrics. \n",
        "            def metric_fn(label_ids, predicted_labels):\n",
        "                accuracy = tf.metrics.accuracy(label_ids, predicted_labels)\n",
        "                true_pos = tf.metrics.true_positives(\n",
        "                    label_ids,\n",
        "                    predicted_labels)\n",
        "                true_neg = tf.metrics.true_negatives(\n",
        "                    label_ids,\n",
        "                    predicted_labels)   \n",
        "                false_pos = tf.metrics.false_positives(\n",
        "                    label_ids,\n",
        "                    predicted_labels)  \n",
        "                false_neg = tf.metrics.false_negatives(\n",
        "                    label_ids,\n",
        "                    predicted_labels)\n",
        "\n",
        "                return {\n",
        "                    \"eval_accuracy\": accuracy,\n",
        "                    \"true_positives\": true_pos,\n",
        "                    \"true_negatives\": true_neg,\n",
        "                    \"false_positives\": false_pos,\n",
        "                    \"false_negatives\": false_neg,\n",
        "                    }\n",
        "\n",
        "            eval_metrics = metric_fn(label_ids, predicted_labels)\n",
        "\n",
        "            if mode == tf.estimator.ModeKeys.TRAIN:\n",
        "                return tf.estimator.EstimatorSpec(mode=mode,\n",
        "                  loss=loss,\n",
        "                  train_op=train_op)\n",
        "            else:\n",
        "                return tf.estimator.EstimatorSpec(mode=mode,\n",
        "                    loss=loss,\n",
        "                    eval_metric_ops=eval_metrics)\n",
        "        else:\n",
        "            (predicted_labels, log_probs, output_layer) = create_model(\n",
        "            is_predicting, input_ids, input_mask, segment_ids, label_ids, num_labels)\n",
        "            predictions = {\n",
        "              'probabilities': log_probs,\n",
        "              'labels': predicted_labels,\n",
        "              'pooled_output': output_layer\n",
        "            }\n",
        "        return tf.estimator.EstimatorSpec(mode, predictions=predictions)\n",
        "\n",
        "    # Return the actual model function in the closure\n",
        "    return model_fn"
      ],
      "metadata": {
        "execution": {
          "iopub.status.busy": "2021-05-21T18:06:19.014430Z",
          "iopub.execute_input": "2021-05-21T18:06:19.014823Z",
          "iopub.status.idle": "2021-05-21T18:06:19.032566Z",
          "shell.execute_reply.started": "2021-05-21T18:06:19.014787Z",
          "shell.execute_reply": "2021-05-21T18:06:19.031203Z"
        },
        "trusted": true,
        "id": "AZRKPYKDvdDF"
      },
      "execution_count": null,
      "outputs": []
    },
    {
      "cell_type": "code",
      "source": [
        "BATCH_SIZE = 16\n",
        "LEARNING_RATE = 2e-5\n",
        "NUM_TRAIN_EPOCHS = 1.0\n",
        "# Warmup is a period of time where the learning rate is small and gradually increases--usually helps training.\n",
        "WARMUP_PROPORTION = 0.1\n",
        "# Model configs\n",
        "SAVE_CHECKPOINTS_STEPS = 300\n",
        "SAVE_SUMMARY_STEPS = 100\n",
        "\n",
        "# Compute train and warmup steps from batch size\n",
        "num_train_steps = int(len(train_features) / BATCH_SIZE * NUM_TRAIN_EPOCHS)\n",
        "num_warmup_steps = int(num_train_steps * WARMUP_PROPORTION)\n",
        "\n",
        "# Specify output directory and number of checkpoint steps to save\n",
        "run_config = tf.estimator.RunConfig(\n",
        "    model_dir=OUTPUT_DIR,\n",
        "    save_summary_steps=SAVE_SUMMARY_STEPS,\n",
        "    save_checkpoints_steps=SAVE_CHECKPOINTS_STEPS)\n",
        "\n",
        "# Specify output directory and number of checkpoint steps to save\n",
        "run_config = tf.estimator.RunConfig(\n",
        "    model_dir=OUTPUT_DIR,\n",
        "    save_summary_steps=SAVE_SUMMARY_STEPS,\n",
        "    save_checkpoints_steps=SAVE_CHECKPOINTS_STEPS)"
      ],
      "metadata": {
        "execution": {
          "iopub.status.busy": "2021-05-21T18:06:19.034213Z",
          "iopub.execute_input": "2021-05-21T18:06:19.034866Z",
          "iopub.status.idle": "2021-05-21T18:06:19.046469Z",
          "shell.execute_reply.started": "2021-05-21T18:06:19.034826Z",
          "shell.execute_reply": "2021-05-21T18:06:19.045759Z"
        },
        "trusted": true,
        "id": "0mAIL8nNvdDF"
      },
      "execution_count": null,
      "outputs": []
    },
    {
      "cell_type": "code",
      "source": [
        "num_train_steps, len(label_list)\n"
      ],
      "metadata": {
        "execution": {
          "iopub.status.busy": "2021-05-21T18:06:19.047937Z",
          "iopub.execute_input": "2021-05-21T18:06:19.048307Z",
          "iopub.status.idle": "2021-05-21T18:06:19.058623Z",
          "shell.execute_reply.started": "2021-05-21T18:06:19.048269Z",
          "shell.execute_reply": "2021-05-21T18:06:19.057787Z"
        },
        "trusted": true,
        "colab": {
          "base_uri": "https://localhost:8080/"
        },
        "id": "Kpun5X6vvdDF",
        "outputId": "7a0f35d7-abf7-4620-f534-f86c978739b8"
      },
      "execution_count": null,
      "outputs": [
        {
          "output_type": "execute_result",
          "data": {
            "text/plain": [
              "(25, 5)"
            ]
          },
          "metadata": {},
          "execution_count": 44
        }
      ]
    },
    {
      "cell_type": "markdown",
      "source": [
        "### Initializing the model and the estimator\n"
      ],
      "metadata": {
        "id": "F0uuJxV0vdDG"
      }
    },
    {
      "cell_type": "code",
      "source": [
        "model_fn = model_fn_builder(\n",
        "  num_labels=len(label_list),\n",
        "  learning_rate=LEARNING_RATE,\n",
        "  num_train_steps=num_train_steps,\n",
        "  num_warmup_steps=num_warmup_steps)\n",
        "\n",
        "estimator = tf.estimator.Estimator(\n",
        "  model_fn=model_fn,\n",
        "  config=run_config,\n",
        "  params={\"batch_size\": BATCH_SIZE})"
      ],
      "metadata": {
        "execution": {
          "iopub.status.busy": "2021-05-21T18:06:19.060441Z",
          "iopub.execute_input": "2021-05-21T18:06:19.060821Z",
          "iopub.status.idle": "2021-05-21T18:06:19.069857Z",
          "shell.execute_reply.started": "2021-05-21T18:06:19.060783Z",
          "shell.execute_reply": "2021-05-21T18:06:19.068666Z"
        },
        "trusted": true,
        "colab": {
          "base_uri": "https://localhost:8080/"
        },
        "id": "ObjAUbjIvdDG",
        "outputId": "dfd7512a-acc3-4f26-e236-ec1ca79753aa"
      },
      "execution_count": null,
      "outputs": [
        {
          "output_type": "stream",
          "name": "stdout",
          "text": [
            "INFO:tensorflow:Using config: {'_model_dir': '/bert_news_category', '_tf_random_seed': None, '_save_summary_steps': 100, '_save_checkpoints_steps': 300, '_save_checkpoints_secs': None, '_session_config': allow_soft_placement: true\n",
            "graph_options {\n",
            "  rewrite_options {\n",
            "    meta_optimizer_iterations: ONE\n",
            "  }\n",
            "}\n",
            ", '_keep_checkpoint_max': 5, '_keep_checkpoint_every_n_hours': 10000, '_log_step_count_steps': 100, '_train_distribute': None, '_device_fn': None, '_protocol': None, '_eval_distribute': None, '_experimental_distribute': None, '_experimental_max_worker_delay_secs': None, '_session_creation_timeout_secs': 7200, '_service': None, '_cluster_spec': <tensorflow.python.training.server_lib.ClusterSpec object at 0x7fb9c8930690>, '_task_type': 'worker', '_task_id': 0, '_global_id_in_cluster': 0, '_master': '', '_evaluation_master': '', '_is_chief': True, '_num_ps_replicas': 0, '_num_worker_replicas': 1}\n"
          ]
        },
        {
          "output_type": "stream",
          "name": "stderr",
          "text": [
            "INFO:tensorflow:Using config: {'_model_dir': '/bert_news_category', '_tf_random_seed': None, '_save_summary_steps': 100, '_save_checkpoints_steps': 300, '_save_checkpoints_secs': None, '_session_config': allow_soft_placement: true\n",
            "graph_options {\n",
            "  rewrite_options {\n",
            "    meta_optimizer_iterations: ONE\n",
            "  }\n",
            "}\n",
            ", '_keep_checkpoint_max': 5, '_keep_checkpoint_every_n_hours': 10000, '_log_step_count_steps': 100, '_train_distribute': None, '_device_fn': None, '_protocol': None, '_eval_distribute': None, '_experimental_distribute': None, '_experimental_max_worker_delay_secs': None, '_session_creation_timeout_secs': 7200, '_service': None, '_cluster_spec': <tensorflow.python.training.server_lib.ClusterSpec object at 0x7fb9c8930690>, '_task_type': 'worker', '_task_id': 0, '_global_id_in_cluster': 0, '_master': '', '_evaluation_master': '', '_is_chief': True, '_num_ps_replicas': 0, '_num_worker_replicas': 1}\n"
          ]
        }
      ]
    },
    {
      "cell_type": "code",
      "source": [
        "train_input_fn = run_classifier.input_fn_builder(\n",
        "    features=train_features,\n",
        "    seq_length=MAX_SEQ_LENGTH,\n",
        "    is_training=True,\n",
        "    drop_remainder=False)\n",
        "\n",
        "# Create an input function for validating. drop_remainder = True for using TPUs.\n",
        "val_input_fn = run_classifier.input_fn_builder(\n",
        "    features=val_features,\n",
        "    seq_length=MAX_SEQ_LENGTH,\n",
        "    is_training=False,\n",
        "    drop_remainder=False)"
      ],
      "metadata": {
        "execution": {
          "iopub.status.busy": "2021-05-21T18:06:19.071403Z",
          "iopub.execute_input": "2021-05-21T18:06:19.071969Z",
          "iopub.status.idle": "2021-05-21T18:06:19.084570Z",
          "shell.execute_reply.started": "2021-05-21T18:06:19.071930Z",
          "shell.execute_reply": "2021-05-21T18:06:19.083574Z"
        },
        "trusted": true,
        "id": "DZZLvFmKvdDG"
      },
      "execution_count": null,
      "outputs": []
    },
    {
      "cell_type": "markdown",
      "source": [
        "### Training the model"
      ],
      "metadata": {
        "id": "b5AWXW5bvdDG"
      }
    },
    {
      "cell_type": "code",
      "source": [
        "# Training\n",
        "print(f'Beginning Training!')\n",
        "current_time = datetime.now()\n",
        "estimator.train(input_fn=train_input_fn, max_steps=num_train_steps)\n",
        "print(\"Training took time \", datetime.now() - current_time)"
      ],
      "metadata": {
        "execution": {
          "iopub.status.busy": "2021-05-21T18:06:19.085905Z",
          "iopub.execute_input": "2021-05-21T18:06:19.086320Z",
          "iopub.status.idle": "2021-05-21T18:46:02.513526Z",
          "shell.execute_reply.started": "2021-05-21T18:06:19.086282Z",
          "shell.execute_reply": "2021-05-21T18:46:02.512479Z"
        },
        "trusted": true,
        "colab": {
          "base_uri": "https://localhost:8080/"
        },
        "id": "i3zyUr21vdDG",
        "outputId": "91de5732-b1a7-4d65-e928-93ae11ede37b"
      },
      "execution_count": null,
      "outputs": [
        {
          "output_type": "stream",
          "name": "stdout",
          "text": [
            "Beginning Training!\n",
            "WARNING:tensorflow:From /usr/local/lib/python3.7/dist-packages/tensorflow_core/python/training/training_util.py:236: Variable.initialized_value (from tensorflow.python.ops.variables) is deprecated and will be removed in a future version.\n",
            "Instructions for updating:\n",
            "Use Variable.read_value. Variables in 2.X are initialized automatically both in eager and graph (inside tf.defun) contexts.\n"
          ]
        },
        {
          "output_type": "stream",
          "name": "stderr",
          "text": [
            "WARNING:tensorflow:From /usr/local/lib/python3.7/dist-packages/tensorflow_core/python/training/training_util.py:236: Variable.initialized_value (from tensorflow.python.ops.variables) is deprecated and will be removed in a future version.\n",
            "Instructions for updating:\n",
            "Use Variable.read_value. Variables in 2.X are initialized automatically both in eager and graph (inside tf.defun) contexts.\n"
          ]
        },
        {
          "output_type": "stream",
          "name": "stdout",
          "text": [
            "INFO:tensorflow:Calling model_fn.\n"
          ]
        },
        {
          "output_type": "stream",
          "name": "stderr",
          "text": [
            "INFO:tensorflow:Calling model_fn.\n"
          ]
        },
        {
          "output_type": "stream",
          "name": "stdout",
          "text": [
            "INFO:tensorflow:Saver not created because there are no variables in the graph to restore\n"
          ]
        },
        {
          "output_type": "stream",
          "name": "stderr",
          "text": [
            "INFO:tensorflow:Saver not created because there are no variables in the graph to restore\n"
          ]
        },
        {
          "output_type": "stream",
          "name": "stdout",
          "text": [
            "WARNING:tensorflow:From <ipython-input-41-d311bc1ecf48>:35: calling dropout (from tensorflow.python.ops.nn_ops) with keep_prob is deprecated and will be removed in a future version.\n",
            "Instructions for updating:\n",
            "Please use `rate` instead of `keep_prob`. Rate should be set to `rate = 1 - keep_prob`.\n"
          ]
        },
        {
          "output_type": "stream",
          "name": "stderr",
          "text": [
            "WARNING:tensorflow:From <ipython-input-41-d311bc1ecf48>:35: calling dropout (from tensorflow.python.ops.nn_ops) with keep_prob is deprecated and will be removed in a future version.\n",
            "Instructions for updating:\n",
            "Please use `rate` instead of `keep_prob`. Rate should be set to `rate = 1 - keep_prob`.\n"
          ]
        },
        {
          "output_type": "stream",
          "name": "stdout",
          "text": [
            "WARNING:tensorflow:From /content/optimization.py:27: The name tf.train.get_or_create_global_step is deprecated. Please use tf.compat.v1.train.get_or_create_global_step instead.\n",
            "\n"
          ]
        },
        {
          "output_type": "stream",
          "name": "stderr",
          "text": [
            "WARNING:tensorflow:From /content/optimization.py:27: The name tf.train.get_or_create_global_step is deprecated. Please use tf.compat.v1.train.get_or_create_global_step instead.\n",
            "\n"
          ]
        },
        {
          "output_type": "stream",
          "name": "stdout",
          "text": [
            "WARNING:tensorflow:From /content/optimization.py:32: The name tf.train.polynomial_decay is deprecated. Please use tf.compat.v1.train.polynomial_decay instead.\n",
            "\n"
          ]
        },
        {
          "output_type": "stream",
          "name": "stderr",
          "text": [
            "WARNING:tensorflow:From /content/optimization.py:32: The name tf.train.polynomial_decay is deprecated. Please use tf.compat.v1.train.polynomial_decay instead.\n",
            "\n"
          ]
        },
        {
          "output_type": "stream",
          "name": "stdout",
          "text": [
            "WARNING:tensorflow:From /content/optimization.py:70: The name tf.trainable_variables is deprecated. Please use tf.compat.v1.trainable_variables instead.\n",
            "\n"
          ]
        },
        {
          "output_type": "stream",
          "name": "stderr",
          "text": [
            "WARNING:tensorflow:From /content/optimization.py:70: The name tf.trainable_variables is deprecated. Please use tf.compat.v1.trainable_variables instead.\n",
            "\n"
          ]
        },
        {
          "output_type": "stream",
          "name": "stdout",
          "text": [
            "WARNING:tensorflow:From /usr/local/lib/python3.7/dist-packages/tensorflow_core/python/ops/math_grad.py:1375: where (from tensorflow.python.ops.array_ops) is deprecated and will be removed in a future version.\n",
            "Instructions for updating:\n",
            "Use tf.where in 2.0, which has the same broadcast rule as np.where\n"
          ]
        },
        {
          "output_type": "stream",
          "name": "stderr",
          "text": [
            "WARNING:tensorflow:From /usr/local/lib/python3.7/dist-packages/tensorflow_core/python/ops/math_grad.py:1375: where (from tensorflow.python.ops.array_ops) is deprecated and will be removed in a future version.\n",
            "Instructions for updating:\n",
            "Use tf.where in 2.0, which has the same broadcast rule as np.where\n",
            "/usr/local/lib/python3.7/dist-packages/tensorflow_core/python/framework/indexed_slices.py:424: UserWarning: Converting sparse IndexedSlices to a dense Tensor of unknown shape. This may consume a large amount of memory.\n",
            "  \"Converting sparse IndexedSlices to a dense Tensor of unknown shape. \"\n"
          ]
        },
        {
          "output_type": "stream",
          "name": "stdout",
          "text": [
            "INFO:tensorflow:Done calling model_fn.\n"
          ]
        },
        {
          "output_type": "stream",
          "name": "stderr",
          "text": [
            "INFO:tensorflow:Done calling model_fn.\n"
          ]
        },
        {
          "output_type": "stream",
          "name": "stdout",
          "text": [
            "INFO:tensorflow:Create CheckpointSaverHook.\n"
          ]
        },
        {
          "output_type": "stream",
          "name": "stderr",
          "text": [
            "INFO:tensorflow:Create CheckpointSaverHook.\n"
          ]
        },
        {
          "output_type": "stream",
          "name": "stdout",
          "text": [
            "INFO:tensorflow:Graph was finalized.\n"
          ]
        },
        {
          "output_type": "stream",
          "name": "stderr",
          "text": [
            "INFO:tensorflow:Graph was finalized.\n"
          ]
        },
        {
          "output_type": "stream",
          "name": "stdout",
          "text": [
            "INFO:tensorflow:Running local_init_op.\n"
          ]
        },
        {
          "output_type": "stream",
          "name": "stderr",
          "text": [
            "INFO:tensorflow:Running local_init_op.\n"
          ]
        },
        {
          "output_type": "stream",
          "name": "stdout",
          "text": [
            "INFO:tensorflow:Done running local_init_op.\n"
          ]
        },
        {
          "output_type": "stream",
          "name": "stderr",
          "text": [
            "INFO:tensorflow:Done running local_init_op.\n"
          ]
        },
        {
          "output_type": "stream",
          "name": "stdout",
          "text": [
            "INFO:tensorflow:Saving checkpoints for 0 into /bert_news_category/model.ckpt.\n"
          ]
        },
        {
          "output_type": "stream",
          "name": "stderr",
          "text": [
            "INFO:tensorflow:Saving checkpoints for 0 into /bert_news_category/model.ckpt.\n"
          ]
        },
        {
          "output_type": "stream",
          "name": "stdout",
          "text": [
            "INFO:tensorflow:loss = 1.6035335, step = 1\n"
          ]
        },
        {
          "output_type": "stream",
          "name": "stderr",
          "text": [
            "INFO:tensorflow:loss = 1.6035335, step = 1\n"
          ]
        },
        {
          "output_type": "stream",
          "name": "stdout",
          "text": [
            "WARNING:tensorflow:It seems that global step (tf.train.get_global_step) has not been increased. Current value (could be stable): 8 vs previous value: 8. You could increase the global step by passing tf.train.get_global_step() to Optimizer.apply_gradients or Optimizer.minimize.\n"
          ]
        },
        {
          "output_type": "stream",
          "name": "stderr",
          "text": [
            "WARNING:tensorflow:It seems that global step (tf.train.get_global_step) has not been increased. Current value (could be stable): 8 vs previous value: 8. You could increase the global step by passing tf.train.get_global_step() to Optimizer.apply_gradients or Optimizer.minimize.\n"
          ]
        },
        {
          "output_type": "stream",
          "name": "stdout",
          "text": [
            "WARNING:tensorflow:It seems that global step (tf.train.get_global_step) has not been increased. Current value (could be stable): 11 vs previous value: 11. You could increase the global step by passing tf.train.get_global_step() to Optimizer.apply_gradients or Optimizer.minimize.\n"
          ]
        },
        {
          "output_type": "stream",
          "name": "stderr",
          "text": [
            "WARNING:tensorflow:It seems that global step (tf.train.get_global_step) has not been increased. Current value (could be stable): 11 vs previous value: 11. You could increase the global step by passing tf.train.get_global_step() to Optimizer.apply_gradients or Optimizer.minimize.\n"
          ]
        },
        {
          "output_type": "stream",
          "name": "stdout",
          "text": [
            "WARNING:tensorflow:It seems that global step (tf.train.get_global_step) has not been increased. Current value (could be stable): 13 vs previous value: 13. You could increase the global step by passing tf.train.get_global_step() to Optimizer.apply_gradients or Optimizer.minimize.\n"
          ]
        },
        {
          "output_type": "stream",
          "name": "stderr",
          "text": [
            "WARNING:tensorflow:It seems that global step (tf.train.get_global_step) has not been increased. Current value (could be stable): 13 vs previous value: 13. You could increase the global step by passing tf.train.get_global_step() to Optimizer.apply_gradients or Optimizer.minimize.\n"
          ]
        },
        {
          "output_type": "stream",
          "name": "stdout",
          "text": [
            "WARNING:tensorflow:It seems that global step (tf.train.get_global_step) has not been increased. Current value (could be stable): 15 vs previous value: 15. You could increase the global step by passing tf.train.get_global_step() to Optimizer.apply_gradients or Optimizer.minimize.\n"
          ]
        },
        {
          "output_type": "stream",
          "name": "stderr",
          "text": [
            "WARNING:tensorflow:It seems that global step (tf.train.get_global_step) has not been increased. Current value (could be stable): 15 vs previous value: 15. You could increase the global step by passing tf.train.get_global_step() to Optimizer.apply_gradients or Optimizer.minimize.\n"
          ]
        },
        {
          "output_type": "stream",
          "name": "stdout",
          "text": [
            "WARNING:tensorflow:It seems that global step (tf.train.get_global_step) has not been increased. Current value (could be stable): 17 vs previous value: 17. You could increase the global step by passing tf.train.get_global_step() to Optimizer.apply_gradients or Optimizer.minimize.\n"
          ]
        },
        {
          "output_type": "stream",
          "name": "stderr",
          "text": [
            "WARNING:tensorflow:It seems that global step (tf.train.get_global_step) has not been increased. Current value (could be stable): 17 vs previous value: 17. You could increase the global step by passing tf.train.get_global_step() to Optimizer.apply_gradients or Optimizer.minimize.\n"
          ]
        },
        {
          "output_type": "stream",
          "name": "stdout",
          "text": [
            "INFO:tensorflow:Saving checkpoints for 25 into /bert_news_category/model.ckpt.\n"
          ]
        },
        {
          "output_type": "stream",
          "name": "stderr",
          "text": [
            "INFO:tensorflow:Saving checkpoints for 25 into /bert_news_category/model.ckpt.\n"
          ]
        },
        {
          "output_type": "stream",
          "name": "stdout",
          "text": [
            "INFO:tensorflow:Loss for final step: 0.8287116.\n"
          ]
        },
        {
          "output_type": "stream",
          "name": "stderr",
          "text": [
            "INFO:tensorflow:Loss for final step: 0.8287116.\n"
          ]
        },
        {
          "output_type": "stream",
          "name": "stdout",
          "text": [
            "Training took time  0:13:55.509685\n"
          ]
        }
      ]
    },
    {
      "cell_type": "markdown",
      "source": [
        "### Validation"
      ],
      "metadata": {
        "id": "G2koR26JvdDG"
      }
    },
    {
      "cell_type": "code",
      "source": [
        "#Evaluating the model with Validation set\n",
        "estimator.evaluate(input_fn=val_input_fn, steps=None)"
      ],
      "metadata": {
        "execution": {
          "iopub.status.busy": "2021-05-21T18:46:02.515104Z",
          "iopub.execute_input": "2021-05-21T18:46:02.517052Z",
          "iopub.status.idle": "2021-05-21T18:49:06.526367Z",
          "shell.execute_reply.started": "2021-05-21T18:46:02.516994Z",
          "shell.execute_reply": "2021-05-21T18:49:06.525625Z"
        },
        "trusted": true,
        "colab": {
          "base_uri": "https://localhost:8080/"
        },
        "id": "VIeVZQqGvdDH",
        "outputId": "19efbf18-b080-4e01-b039-b52f75529fdf"
      },
      "execution_count": null,
      "outputs": [
        {
          "output_type": "stream",
          "name": "stdout",
          "text": [
            "INFO:tensorflow:Calling model_fn.\n"
          ]
        },
        {
          "output_type": "stream",
          "name": "stderr",
          "text": [
            "INFO:tensorflow:Calling model_fn.\n"
          ]
        },
        {
          "output_type": "stream",
          "name": "stdout",
          "text": [
            "INFO:tensorflow:Saver not created because there are no variables in the graph to restore\n"
          ]
        },
        {
          "output_type": "stream",
          "name": "stderr",
          "text": [
            "INFO:tensorflow:Saver not created because there are no variables in the graph to restore\n",
            "/usr/local/lib/python3.7/dist-packages/tensorflow_core/python/framework/indexed_slices.py:424: UserWarning: Converting sparse IndexedSlices to a dense Tensor of unknown shape. This may consume a large amount of memory.\n",
            "  \"Converting sparse IndexedSlices to a dense Tensor of unknown shape. \"\n"
          ]
        },
        {
          "output_type": "stream",
          "name": "stdout",
          "text": [
            "INFO:tensorflow:Done calling model_fn.\n"
          ]
        },
        {
          "output_type": "stream",
          "name": "stderr",
          "text": [
            "INFO:tensorflow:Done calling model_fn.\n"
          ]
        },
        {
          "output_type": "stream",
          "name": "stdout",
          "text": [
            "INFO:tensorflow:Starting evaluation at 2022-01-25T15:27:03Z\n"
          ]
        },
        {
          "output_type": "stream",
          "name": "stderr",
          "text": [
            "INFO:tensorflow:Starting evaluation at 2022-01-25T15:27:03Z\n"
          ]
        },
        {
          "output_type": "stream",
          "name": "stdout",
          "text": [
            "INFO:tensorflow:Graph was finalized.\n"
          ]
        },
        {
          "output_type": "stream",
          "name": "stderr",
          "text": [
            "INFO:tensorflow:Graph was finalized.\n"
          ]
        },
        {
          "output_type": "stream",
          "name": "stdout",
          "text": [
            "INFO:tensorflow:Restoring parameters from /bert_news_category/model.ckpt-25\n"
          ]
        },
        {
          "output_type": "stream",
          "name": "stderr",
          "text": [
            "INFO:tensorflow:Restoring parameters from /bert_news_category/model.ckpt-25\n"
          ]
        },
        {
          "output_type": "stream",
          "name": "stdout",
          "text": [
            "INFO:tensorflow:Running local_init_op.\n"
          ]
        },
        {
          "output_type": "stream",
          "name": "stderr",
          "text": [
            "INFO:tensorflow:Running local_init_op.\n"
          ]
        },
        {
          "output_type": "stream",
          "name": "stdout",
          "text": [
            "INFO:tensorflow:Done running local_init_op.\n"
          ]
        },
        {
          "output_type": "stream",
          "name": "stderr",
          "text": [
            "INFO:tensorflow:Done running local_init_op.\n"
          ]
        },
        {
          "output_type": "stream",
          "name": "stdout",
          "text": [
            "INFO:tensorflow:Finished evaluation at 2022-01-25-15:28:12\n"
          ]
        },
        {
          "output_type": "stream",
          "name": "stderr",
          "text": [
            "INFO:tensorflow:Finished evaluation at 2022-01-25-15:28:12\n"
          ]
        },
        {
          "output_type": "stream",
          "name": "stdout",
          "text": [
            "INFO:tensorflow:Saving dict for global step 25: eval_accuracy = 0.99, false_negatives = 0.0, false_positives = 1.0, global_step = 25, loss = 0.634384, true_negatives = 15.0, true_positives = 84.0\n"
          ]
        },
        {
          "output_type": "stream",
          "name": "stderr",
          "text": [
            "INFO:tensorflow:Saving dict for global step 25: eval_accuracy = 0.99, false_negatives = 0.0, false_positives = 1.0, global_step = 25, loss = 0.634384, true_negatives = 15.0, true_positives = 84.0\n"
          ]
        },
        {
          "output_type": "stream",
          "name": "stdout",
          "text": [
            "INFO:tensorflow:Saving 'checkpoint_path' summary for global step 25: /bert_news_category/model.ckpt-25\n"
          ]
        },
        {
          "output_type": "stream",
          "name": "stderr",
          "text": [
            "INFO:tensorflow:Saving 'checkpoint_path' summary for global step 25: /bert_news_category/model.ckpt-25\n"
          ]
        },
        {
          "output_type": "execute_result",
          "data": {
            "text/plain": [
              "{'eval_accuracy': 0.99,\n",
              " 'false_negatives': 0.0,\n",
              " 'false_positives': 1.0,\n",
              " 'global_step': 25,\n",
              " 'loss': 0.634384,\n",
              " 'true_negatives': 15.0,\n",
              " 'true_positives': 84.0}"
            ]
          },
          "metadata": {},
          "execution_count": 48
        }
      ]
    },
    {
      "cell_type": "code",
      "source": [
        "# Importing the dependancies\n",
        "from sklearn import metrics\n",
        "# Predicted values\n",
        "a = \"false_neg\"\n",
        "b = \"true_neg\"\n",
        "c = \"false_pos\"\n",
        "d = \"true_pos\"\n",
        "\n",
        "\n",
        "y_pred = [a,c]\n",
        "# Actual values\n",
        "y_act = [b,d ]\n",
        "# Printing the confusion matrix\n",
        "# The columns will show the instances predicted for each label,\n",
        "# and the rows will show the actual number of instances for each label.\n",
        "print(metrics.confusion_matrix(y_act, y_pred))\n",
        "# Printing the precision and recall, among other metrics\n",
        "print(metrics.classification_report(y_act, y_pred))"
      ],
      "metadata": {
        "colab": {
          "base_uri": "https://localhost:8080/"
        },
        "id": "IEAcX1od6aOm",
        "outputId": "f1f31702-335b-4cbc-925a-b438f425a7e1"
      },
      "execution_count": null,
      "outputs": [
        {
          "output_type": "stream",
          "name": "stdout",
          "text": [
            "[[0 0 0 0]\n",
            " [0 0 0 0]\n",
            " [1 0 0 0]\n",
            " [0 1 0 0]]\n",
            "              precision    recall  f1-score   support\n",
            "\n",
            "   false_neg       0.00      0.00      0.00       0.0\n",
            "   false_pos       0.00      0.00      0.00       0.0\n",
            "    true_neg       0.00      0.00      0.00       1.0\n",
            "    true_pos       0.00      0.00      0.00       1.0\n",
            "\n",
            "    accuracy                           0.00       2.0\n",
            "   macro avg       0.00      0.00      0.00       2.0\n",
            "weighted avg       0.00      0.00      0.00       2.0\n",
            "\n"
          ]
        },
        {
          "output_type": "stream",
          "name": "stderr",
          "text": [
            "/usr/local/lib/python3.7/dist-packages/sklearn/metrics/_classification.py:1318: UndefinedMetricWarning: Precision and F-score are ill-defined and being set to 0.0 in labels with no predicted samples. Use `zero_division` parameter to control this behavior.\n",
            "  _warn_prf(average, modifier, msg_start, len(result))\n",
            "/usr/local/lib/python3.7/dist-packages/sklearn/metrics/_classification.py:1318: UndefinedMetricWarning: Recall and F-score are ill-defined and being set to 0.0 in labels with no true samples. Use `zero_division` parameter to control this behavior.\n",
            "  _warn_prf(average, modifier, msg_start, len(result))\n",
            "/usr/local/lib/python3.7/dist-packages/sklearn/metrics/_classification.py:1318: UndefinedMetricWarning: Precision and F-score are ill-defined and being set to 0.0 in labels with no predicted samples. Use `zero_division` parameter to control this behavior.\n",
            "  _warn_prf(average, modifier, msg_start, len(result))\n",
            "/usr/local/lib/python3.7/dist-packages/sklearn/metrics/_classification.py:1318: UndefinedMetricWarning: Recall and F-score are ill-defined and being set to 0.0 in labels with no true samples. Use `zero_division` parameter to control this behavior.\n",
            "  _warn_prf(average, modifier, msg_start, len(result))\n",
            "/usr/local/lib/python3.7/dist-packages/sklearn/metrics/_classification.py:1318: UndefinedMetricWarning: Precision and F-score are ill-defined and being set to 0.0 in labels with no predicted samples. Use `zero_division` parameter to control this behavior.\n",
            "  _warn_prf(average, modifier, msg_start, len(result))\n",
            "/usr/local/lib/python3.7/dist-packages/sklearn/metrics/_classification.py:1318: UndefinedMetricWarning: Recall and F-score are ill-defined and being set to 0.0 in labels with no true samples. Use `zero_division` parameter to control this behavior.\n",
            "  _warn_prf(average, modifier, msg_start, len(result))\n"
          ]
        }
      ]
    }
  ]
}